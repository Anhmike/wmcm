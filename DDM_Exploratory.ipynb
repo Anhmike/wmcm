{
 "cells": [
  {
   "cell_type": "markdown",
   "metadata": {},
   "source": [
    "# The Old Way\n",
    "## Import Packages"
   ]
  },
  {
   "cell_type": "code",
   "execution_count": 19,
   "metadata": {
    "collapsed": false
   },
   "outputs": [],
   "source": [
    "import datetime as dt\n",
    "import pandas as pd\n",
    "import numpy as np\n",
    "from pandas_datareader import data\n",
    "import statsmodels.api as sm"
   ]
  },
  {
   "cell_type": "markdown",
   "metadata": {
    "collapsed": true
   },
   "source": [
    "## Load Universe\n",
    "I created a CSV listing all stocks included in SPDR’s sector funds as of January 24th, 2016. It is loaded as a pandas dataframe. In order to make calls to Yahoo, all periods are replaced with hyphens.\n",
    "\n",
    "We also pull all sector tickers and SPY as a proxy for the market as a whole."
   ]
  },
  {
   "cell_type": "code",
   "execution_count": 2,
   "metadata": {
    "collapsed": false
   },
   "outputs": [],
   "source": [
    "universe = pd.read_csv('inputs/universe.csv', index_col='symbol')\n",
    "universe.index = map(lambda x: x.replace('.', '-'), universe.index)"
   ]
  },
  {
   "cell_type": "markdown",
   "metadata": {},
   "source": [
    "## Pull Price History\n",
    "\n",
    "Price history is pulled from Yahoo and concatenated into a single multi-index dataframe. Stocks were pulled from January 1st 2010 through December 31st, 2015."
   ]
  },
  {
   "cell_type": "code",
   "execution_count": 3,
   "metadata": {
    "collapsed": true
   },
   "outputs": [],
   "source": [
    "def pull_universe(uni, sdate, edate):\n",
    "    '''Expects a universe csv. Returns a dataframe of prices.\n",
    "    \n",
    "    Might not work if an error is generated on the first stock in the index.\n",
    "    Performance and stability could be improved through list comprehension\n",
    "    and a single pd.concat operation.'''\n",
    "    \n",
    "    # Start by pulling one stock.\n",
    "    df = data.DataReader(uni.index[0],data_source='yahoo', start=sdate, end=edate)\n",
    "    df['symbol'] = uni.index[0]\n",
    "    df['sector'] = uni.loc[uni.index[0],'sector']\n",
    "    \n",
    "    #Loop through remaining stocks. Append to prices file.\n",
    "    for Tic in uni.index[1:]:\n",
    "        try:\n",
    "            df_new = data.DataReader(Tic,data_source='yahoo', start=sdate, end=edate)\n",
    "            df_new['symbol'] = Tic\n",
    "            df_new['sector'] = uni.loc[Tic,'sector']\n",
    "            df = pd.concat([df, df_new])\n",
    "        except IOError:\n",
    "            pass\n",
    "\n",
    "    return df"
   ]
  },
  {
   "cell_type": "code",
   "execution_count": 4,
   "metadata": {
    "collapsed": true
   },
   "outputs": [],
   "source": [
    "prices = pull_universe(uni=universe.iloc[:3, ], sdate=dt.datetime(2010, 1, 1), edate=dt.datetime(2015, 12, 31))"
   ]
  },
  {
   "cell_type": "markdown",
   "metadata": {},
   "source": [
    "## Adjust and Calculate Returns"
   ]
  },
  {
   "cell_type": "code",
   "execution_count": 5,
   "metadata": {
    "collapsed": false
   },
   "outputs": [],
   "source": [
    "def adjust_prices(df):\n",
    "    '''Adjusts df prices for dividends and splits.'''\n",
    "    df['AdjFactor'] = df.groupby('symbol')['Adj Close'].shift(1) / df.groupby('symbol')['Close'].shift(1)\n",
    "    df['Open'] = df['Open'] * df['AdjFactor']\n",
    "    df['High'] = df['High'] * df['AdjFactor']\n",
    "    df['Low'] = df['Low'] * df['AdjFactor']\n",
    "    df['Close'] = df['Close'] * df['AdjFactor']\n",
    "    new_df = df[['sector', 'symbol', 'Open', 'High', 'Low', 'Close', 'Volume']]\n",
    "    new_df.columns = ['sector', 'symbol', 'open', 'high', 'low', 'close', 'volume']\n",
    "    return new_df\n",
    "\n",
    "def add_returns(df):\n",
    "    df['lastClose'] = df.groupby('symbol')['close'].shift(1)\n",
    "    df['ret_cc'] = np.log(df['close'] / df['lastClose'])\n",
    "    df['ret_oc'] = np.log(df['close'] / df['open'])\n",
    "    df['ret_co'] = np.log(df['open'] / df['lastClose'])\n",
    "    df.drop('lastClose', 1, inplace=True)\n",
    "    return df\n",
    "\n",
    "prices = adjust_prices(prices)\n",
    "prices = add_returns(prices)"
   ]
  },
  {
   "cell_type": "markdown",
   "metadata": {
    "collapsed": true
   },
   "source": [
    "## Beta Lags\n",
    "In its simplest form, the capital asset pricing model (CAPM) predicts that a security's expected return over a given period of time is equal to the return of the market times a beta parameter (usually set by linear regression analysis). Modifications of this model include:\n",
    "\n",
    "1. Allowing for \"excess return\" (alpha)\n",
    "1. Utilizing \"excess return,\" i.e., subtracting the risk free rate from all returns.\n",
    "1. Adding additional factors for the return of a stock's industry.\n",
    "1. Considering financial indicators of the health of the target company (price book ratios, market cap size, etc).\n",
    "\n",
    "When valuing small companies, many professional valuators believe that a \"beta lag\" exists. That is, they believe that last period's market return impacts this perod's security return. This effect is claimed to be more prevalent in smaller, less liquid securities.\n",
    "\n",
    "If this is true, it should be trivial to develop strategies which take advantage of this effect."
   ]
  },
  {
   "cell_type": "code",
   "execution_count": 21,
   "metadata": {
    "collapsed": false
   },
   "outputs": [
    {
     "data": {
      "text/html": [
       "<div>\n",
       "<table border=\"1\" class=\"dataframe\">\n",
       "  <thead>\n",
       "    <tr style=\"text-align: right;\">\n",
       "      <th></th>\n",
       "      <th>sector</th>\n",
       "      <th>symbol</th>\n",
       "      <th>open</th>\n",
       "      <th>high</th>\n",
       "      <th>low</th>\n",
       "      <th>close</th>\n",
       "      <th>volume</th>\n",
       "      <th>ret_cc</th>\n",
       "      <th>ret_oc</th>\n",
       "      <th>ret_co</th>\n",
       "    </tr>\n",
       "    <tr>\n",
       "      <th>Date</th>\n",
       "      <th></th>\n",
       "      <th></th>\n",
       "      <th></th>\n",
       "      <th></th>\n",
       "      <th></th>\n",
       "      <th></th>\n",
       "      <th></th>\n",
       "      <th></th>\n",
       "      <th></th>\n",
       "      <th></th>\n",
       "    </tr>\n",
       "  </thead>\n",
       "  <tbody>\n",
       "    <tr>\n",
       "      <th>2010-01-04</th>\n",
       "      <td>XLP</td>\n",
       "      <td>PG</td>\n",
       "      <td>NaN</td>\n",
       "      <td>NaN</td>\n",
       "      <td>NaN</td>\n",
       "      <td>NaN</td>\n",
       "      <td>9190800</td>\n",
       "      <td>NaN</td>\n",
       "      <td>NaN</td>\n",
       "      <td>NaN</td>\n",
       "    </tr>\n",
       "    <tr>\n",
       "      <th>2010-01-05</th>\n",
       "      <td>XLP</td>\n",
       "      <td>PG</td>\n",
       "      <td>49.741287</td>\n",
       "      <td>49.863339</td>\n",
       "      <td>49.310025</td>\n",
       "      <td>49.749422</td>\n",
       "      <td>8649400</td>\n",
       "      <td>NaN</td>\n",
       "      <td>0.000164</td>\n",
       "      <td>NaN</td>\n",
       "    </tr>\n",
       "    <tr>\n",
       "      <th>2010-01-06</th>\n",
       "      <td>XLP</td>\n",
       "      <td>PG</td>\n",
       "      <td>49.586683</td>\n",
       "      <td>49.602957</td>\n",
       "      <td>49.228657</td>\n",
       "      <td>49.513449</td>\n",
       "      <td>9908400</td>\n",
       "      <td>-0.004755</td>\n",
       "      <td>-0.001478</td>\n",
       "      <td>-0.003277</td>\n",
       "    </tr>\n",
       "    <tr>\n",
       "      <th>2010-01-07</th>\n",
       "      <td>XLP</td>\n",
       "      <td>PG</td>\n",
       "      <td>49.293754</td>\n",
       "      <td>49.391397</td>\n",
       "      <td>49.017097</td>\n",
       "      <td>49.244931</td>\n",
       "      <td>8972800</td>\n",
       "      <td>-0.005438</td>\n",
       "      <td>-0.000991</td>\n",
       "      <td>-0.004447</td>\n",
       "    </tr>\n",
       "    <tr>\n",
       "      <th>2010-01-08</th>\n",
       "      <td>XLP</td>\n",
       "      <td>PG</td>\n",
       "      <td>49.114740</td>\n",
       "      <td>49.253067</td>\n",
       "      <td>48.870631</td>\n",
       "      <td>49.179834</td>\n",
       "      <td>8464600</td>\n",
       "      <td>-0.001323</td>\n",
       "      <td>0.001324</td>\n",
       "      <td>-0.002647</td>\n",
       "    </tr>\n",
       "  </tbody>\n",
       "</table>\n",
       "</div>"
      ],
      "text/plain": [
       "           sector symbol       open       high        low      close   volume  \\\n",
       "Date                                                                            \n",
       "2010-01-04    XLP     PG        NaN        NaN        NaN        NaN  9190800   \n",
       "2010-01-05    XLP     PG  49.741287  49.863339  49.310025  49.749422  8649400   \n",
       "2010-01-06    XLP     PG  49.586683  49.602957  49.228657  49.513449  9908400   \n",
       "2010-01-07    XLP     PG  49.293754  49.391397  49.017097  49.244931  8972800   \n",
       "2010-01-08    XLP     PG  49.114740  49.253067  48.870631  49.179834  8464600   \n",
       "\n",
       "              ret_cc    ret_oc    ret_co  \n",
       "Date                                      \n",
       "2010-01-04       NaN       NaN       NaN  \n",
       "2010-01-05       NaN  0.000164       NaN  \n",
       "2010-01-06 -0.004755 -0.001478 -0.003277  \n",
       "2010-01-07 -0.005438 -0.000991 -0.004447  \n",
       "2010-01-08 -0.001323  0.001324 -0.002647  "
      ]
     },
     "execution_count": 21,
     "metadata": {},
     "output_type": "execute_result"
    }
   ],
   "source": [
    "prices.head()"
   ]
  },
  {
   "cell_type": "code",
   "execution_count": 18,
   "metadata": {
    "collapsed": false
   },
   "outputs": [
    {
     "data": {
      "text/html": [
       "<div>\n",
       "<table border=\"1\" class=\"dataframe\">\n",
       "  <thead>\n",
       "    <tr style=\"text-align: right;\">\n",
       "      <th></th>\n",
       "      <th>company_name</th>\n",
       "      <th>index_weight</th>\n",
       "      <th>sector</th>\n",
       "      <th>sector_name</th>\n",
       "      <th>alpha</th>\n",
       "      <th>beta</th>\n",
       "    </tr>\n",
       "  </thead>\n",
       "  <tbody>\n",
       "    <tr>\n",
       "      <th>PG</th>\n",
       "      <td>Procter &amp; Gamble</td>\n",
       "      <td>11.90%</td>\n",
       "      <td>XLP</td>\n",
       "      <td>Consumper Staples</td>\n",
       "      <td>0.0</td>\n",
       "      <td>0.0</td>\n",
       "    </tr>\n",
       "    <tr>\n",
       "      <th>KO</th>\n",
       "      <td>Coca-Cola Co</td>\n",
       "      <td>9.31%</td>\n",
       "      <td>XLP</td>\n",
       "      <td>Consumper Staples</td>\n",
       "      <td>0.0</td>\n",
       "      <td>0.0</td>\n",
       "    </tr>\n",
       "    <tr>\n",
       "      <th>PM</th>\n",
       "      <td>Philip Morris International</td>\n",
       "      <td>7.61%</td>\n",
       "      <td>XLP</td>\n",
       "      <td>Consumper Staples</td>\n",
       "      <td>0.0</td>\n",
       "      <td>0.0</td>\n",
       "    </tr>\n",
       "    <tr>\n",
       "      <th>CVS</th>\n",
       "      <td>CVS Health Corporation</td>\n",
       "      <td>6.16%</td>\n",
       "      <td>XLP</td>\n",
       "      <td>Consumper Staples</td>\n",
       "      <td>NaN</td>\n",
       "      <td>NaN</td>\n",
       "    </tr>\n",
       "    <tr>\n",
       "      <th>MO</th>\n",
       "      <td>Altria Group Inc</td>\n",
       "      <td>5.84%</td>\n",
       "      <td>XLP</td>\n",
       "      <td>Consumper Staples</td>\n",
       "      <td>NaN</td>\n",
       "      <td>NaN</td>\n",
       "    </tr>\n",
       "    <tr>\n",
       "      <th>WMT</th>\n",
       "      <td>Wal-Mart Stores</td>\n",
       "      <td>5.56%</td>\n",
       "      <td>XLP</td>\n",
       "      <td>Consumper Staples</td>\n",
       "      <td>NaN</td>\n",
       "      <td>NaN</td>\n",
       "    </tr>\n",
       "    <tr>\n",
       "      <th>PEP</th>\n",
       "      <td>PepsiCo Inc</td>\n",
       "      <td>4.53%</td>\n",
       "      <td>XLP</td>\n",
       "      <td>Consumper Staples</td>\n",
       "      <td>NaN</td>\n",
       "      <td>NaN</td>\n",
       "    </tr>\n",
       "    <tr>\n",
       "      <th>WBA</th>\n",
       "      <td>Walgreens Boots Alliance Inc</td>\n",
       "      <td>4.24%</td>\n",
       "      <td>XLP</td>\n",
       "      <td>Consumper Staples</td>\n",
       "      <td>NaN</td>\n",
       "      <td>NaN</td>\n",
       "    </tr>\n",
       "    <tr>\n",
       "      <th>COST</th>\n",
       "      <td>Costco Wholesale Corp</td>\n",
       "      <td>3.96%</td>\n",
       "      <td>XLP</td>\n",
       "      <td>Consumper Staples</td>\n",
       "      <td>NaN</td>\n",
       "      <td>NaN</td>\n",
       "    </tr>\n",
       "    <tr>\n",
       "      <th>MDLZ</th>\n",
       "      <td>Mondelez International Inc</td>\n",
       "      <td>3.53%</td>\n",
       "      <td>XLP</td>\n",
       "      <td>Consumper Staples</td>\n",
       "      <td>NaN</td>\n",
       "      <td>NaN</td>\n",
       "    </tr>\n",
       "  </tbody>\n",
       "</table>\n",
       "</div>"
      ],
      "text/plain": [
       "                      company_name index_weight sector        sector_name  \\\n",
       "PG                Procter & Gamble       11.90%    XLP  Consumper Staples   \n",
       "KO                    Coca-Cola Co        9.31%    XLP  Consumper Staples   \n",
       "PM     Philip Morris International        7.61%    XLP  Consumper Staples   \n",
       "CVS         CVS Health Corporation        6.16%    XLP  Consumper Staples   \n",
       "MO                Altria Group Inc        5.84%    XLP  Consumper Staples   \n",
       "WMT                Wal-Mart Stores        5.56%    XLP  Consumper Staples   \n",
       "PEP                    PepsiCo Inc        4.53%    XLP  Consumper Staples   \n",
       "WBA   Walgreens Boots Alliance Inc        4.24%    XLP  Consumper Staples   \n",
       "COST         Costco Wholesale Corp        3.96%    XLP  Consumper Staples   \n",
       "MDLZ    Mondelez International Inc        3.53%    XLP  Consumper Staples   \n",
       "\n",
       "      alpha  beta  \n",
       "PG      0.0   0.0  \n",
       "KO      0.0   0.0  \n",
       "PM      0.0   0.0  \n",
       "CVS     NaN   NaN  \n",
       "MO      NaN   NaN  \n",
       "WMT     NaN   NaN  \n",
       "PEP     NaN   NaN  \n",
       "WBA     NaN   NaN  \n",
       "COST    NaN   NaN  \n",
       "MDLZ    NaN   NaN  "
      ]
     },
     "execution_count": 18,
     "metadata": {},
     "output_type": "execute_result"
    }
   ],
   "source": [
    "def simple_beta(stocks, history):\n",
    "    to_analyze = list(set(history['symbol'])) # Convert to set to remove duplicates.\n",
    "    stocks['alpha'] = np.nan\n",
    "    stocks['beta'] = np.nan\n",
    "    \n",
    "    for ticker in to_analyze:\n",
    "        temp_model = sm.OLS\n",
    "        stocks.loc[ticker, 'alpha'] = 0\n",
    "        stocks.loc[ticker, 'beta'] = 0\n",
    "    \n",
    "    return universe\n",
    "\n",
    "universe = simple_beta(universe, prices)\n",
    "\n",
    "universe.head(10)"
   ]
  },
  {
   "cell_type": "markdown",
   "metadata": {},
   "source": [
    "# Let's do that all again with the package\n",
    "## Import Packages"
   ]
  },
  {
   "cell_type": "code",
   "execution_count": 6,
   "metadata": {
    "collapsed": true
   },
   "outputs": [],
   "source": [
    "import wmcm.functions as wmf"
   ]
  },
  {
   "cell_type": "code",
   "execution_count": 7,
   "metadata": {
    "collapsed": false
   },
   "outputs": [
    {
     "name": "stdout",
     "output_type": "stream",
     "text": [
      "Fuck off!\n"
     ]
    }
   ],
   "source": [
    "wmf.greg()"
   ]
  }
 ],
 "metadata": {
  "kernelspec": {
   "display_name": "Python 3",
   "language": "python",
   "name": "python3"
  },
  "language_info": {
   "codemirror_mode": {
    "name": "ipython",
    "version": 3
   },
   "file_extension": ".py",
   "mimetype": "text/x-python",
   "name": "python",
   "nbconvert_exporter": "python",
   "pygments_lexer": "ipython3",
   "version": "3.5.1"
  }
 },
 "nbformat": 4,
 "nbformat_minor": 0
}
