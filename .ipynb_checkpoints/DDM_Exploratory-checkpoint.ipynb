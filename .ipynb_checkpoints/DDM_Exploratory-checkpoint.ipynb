{
 "cells": [
  {
   "cell_type": "markdown",
   "metadata": {},
   "source": [
    "# The Old Way\n",
    "## Import Packages"
   ]
  },
  {
   "cell_type": "code",
   "execution_count": 8,
   "metadata": {
    "collapsed": false
   },
   "outputs": [],
   "source": [
    "import datetime as dt\n",
    "import pandas as pd\n",
    "import numpy as np\n",
    "from pandas_datareader import data\n",
    "import statsmodels.api as sm"
   ]
  },
  {
   "cell_type": "markdown",
   "metadata": {
    "collapsed": true
   },
   "source": [
    "## Load Universe\n",
    "I created a CSV listing all stocks included in SPDR’s sector funds as of January 24th, 2016. It is loaded as a pandas dataframe. In order to make calls to Yahoo, all periods are replaced with hyphens.\n",
    "\n",
    "We also pull all sector tickers and SPY as a proxy for the market as a whole."
   ]
  },
  {
   "cell_type": "code",
   "execution_count": 9,
   "metadata": {
    "collapsed": false
   },
   "outputs": [],
   "source": [
    "universe = pd.read_csv('inputs/universe.csv', index_col='symbol')\n",
    "universe.index = map(lambda x: x.replace('.', '-'), universe.index)"
   ]
  },
  {
   "cell_type": "markdown",
   "metadata": {},
   "source": [
    "## Pull Price History\n",
    "\n",
    "Price history is pulled from Yahoo and concatenated into a single multi-index dataframe. Stocks were pulled from January 1st 2010 through December 31st, 2015."
   ]
  },
  {
   "cell_type": "code",
   "execution_count": 10,
   "metadata": {
    "collapsed": true
   },
   "outputs": [],
   "source": [
    "def pull_universe(uni, sdate, edate):\n",
    "    '''Expects a universe csv. Returns a dataframe of prices.\n",
    "    \n",
    "    Might not work if an error is generated on the first stock in the index.\n",
    "    Performance and stability could be improved through list comprehension\n",
    "    and a single pd.concat operation.'''\n",
    "    \n",
    "    # Start by pulling one stock.\n",
    "    df = data.DataReader(uni.index[0],data_source='yahoo', start=sdate, end=edate)\n",
    "    df['symbol'] = uni.index[0]\n",
    "    df['sector'] = uni.loc[uni.index[0],'sector']\n",
    "    \n",
    "    #Loop through remaining stocks. Append to prices file.\n",
    "    for Tic in uni.index[1:]:\n",
    "        try:\n",
    "            df_new = data.DataReader(Tic,data_source='yahoo', start=sdate, end=edate)\n",
    "            df_new['symbol'] = Tic\n",
    "            df_new['sector'] = uni.loc[Tic,'sector']\n",
    "            df = pd.concat([df, df_new])\n",
    "        except IOError:\n",
    "            pass\n",
    "\n",
    "    return df"
   ]
  },
  {
   "cell_type": "code",
   "execution_count": 11,
   "metadata": {
    "collapsed": true
   },
   "outputs": [],
   "source": [
    "prices = pull_universe(uni=universe.iloc[:14, ], sdate=dt.datetime(2010, 1, 1), edate=dt.datetime(2015, 12, 31))"
   ]
  },
  {
   "cell_type": "code",
   "execution_count": 12,
   "metadata": {
    "collapsed": false
   },
   "outputs": [
    {
     "data": {
      "text/html": [
       "<div>\n",
       "<table border=\"1\" class=\"dataframe\">\n",
       "  <thead>\n",
       "    <tr style=\"text-align: right;\">\n",
       "      <th></th>\n",
       "      <th>Open</th>\n",
       "      <th>High</th>\n",
       "      <th>Low</th>\n",
       "      <th>Close</th>\n",
       "      <th>Volume</th>\n",
       "      <th>Adj Close</th>\n",
       "      <th>symbol</th>\n",
       "      <th>sector</th>\n",
       "    </tr>\n",
       "    <tr>\n",
       "      <th>Date</th>\n",
       "      <th></th>\n",
       "      <th></th>\n",
       "      <th></th>\n",
       "      <th></th>\n",
       "      <th></th>\n",
       "      <th></th>\n",
       "      <th></th>\n",
       "      <th></th>\n",
       "    </tr>\n",
       "  </thead>\n",
       "  <tbody>\n",
       "    <tr>\n",
       "      <th>2010-01-04</th>\n",
       "      <td>26.450001</td>\n",
       "      <td>26.780001</td>\n",
       "      <td>26.450001</td>\n",
       "      <td>26.67</td>\n",
       "      <td>8465900</td>\n",
       "      <td>22.542255</td>\n",
       "      <td>XLP</td>\n",
       "      <td>NaN</td>\n",
       "    </tr>\n",
       "    <tr>\n",
       "      <th>2010-01-05</th>\n",
       "      <td>26.690001</td>\n",
       "      <td>26.719999</td>\n",
       "      <td>26.540001</td>\n",
       "      <td>26.68</td>\n",
       "      <td>11805400</td>\n",
       "      <td>22.550708</td>\n",
       "      <td>XLP</td>\n",
       "      <td>NaN</td>\n",
       "    </tr>\n",
       "    <tr>\n",
       "      <th>2010-01-06</th>\n",
       "      <td>26.650000</td>\n",
       "      <td>26.690001</td>\n",
       "      <td>26.540001</td>\n",
       "      <td>26.66</td>\n",
       "      <td>9267000</td>\n",
       "      <td>22.533803</td>\n",
       "      <td>XLP</td>\n",
       "      <td>NaN</td>\n",
       "    </tr>\n",
       "    <tr>\n",
       "      <th>2010-01-07</th>\n",
       "      <td>26.740000</td>\n",
       "      <td>26.740000</td>\n",
       "      <td>26.510000</td>\n",
       "      <td>26.66</td>\n",
       "      <td>6951500</td>\n",
       "      <td>22.533803</td>\n",
       "      <td>XLP</td>\n",
       "      <td>NaN</td>\n",
       "    </tr>\n",
       "    <tr>\n",
       "      <th>2010-01-08</th>\n",
       "      <td>26.600000</td>\n",
       "      <td>26.600000</td>\n",
       "      <td>26.420000</td>\n",
       "      <td>26.57</td>\n",
       "      <td>5437400</td>\n",
       "      <td>22.457732</td>\n",
       "      <td>XLP</td>\n",
       "      <td>NaN</td>\n",
       "    </tr>\n",
       "  </tbody>\n",
       "</table>\n",
       "</div>"
      ],
      "text/plain": [
       "                 Open       High        Low  Close    Volume  Adj Close  \\\n",
       "Date                                                                      \n",
       "2010-01-04  26.450001  26.780001  26.450001  26.67   8465900  22.542255   \n",
       "2010-01-05  26.690001  26.719999  26.540001  26.68  11805400  22.550708   \n",
       "2010-01-06  26.650000  26.690001  26.540001  26.66   9267000  22.533803   \n",
       "2010-01-07  26.740000  26.740000  26.510000  26.66   6951500  22.533803   \n",
       "2010-01-08  26.600000  26.600000  26.420000  26.57   5437400  22.457732   \n",
       "\n",
       "           symbol sector  \n",
       "Date                      \n",
       "2010-01-04    XLP    NaN  \n",
       "2010-01-05    XLP    NaN  \n",
       "2010-01-06    XLP    NaN  \n",
       "2010-01-07    XLP    NaN  \n",
       "2010-01-08    XLP    NaN  "
      ]
     },
     "execution_count": 12,
     "metadata": {},
     "output_type": "execute_result"
    }
   ],
   "source": [
    "prices.head()"
   ]
  },
  {
   "cell_type": "markdown",
   "metadata": {},
   "source": [
    "## Adjust and Calculate Returns"
   ]
  },
  {
   "cell_type": "code",
   "execution_count": 13,
   "metadata": {
    "collapsed": false
   },
   "outputs": [],
   "source": [
    "def adjust_prices(df):\n",
    "    '''Adjusts df prices for dividends and splits.'''\n",
    "    df['AdjFactor'] = df.groupby('symbol')['Adj Close'].shift(1) / df.groupby('symbol')['Close'].shift(1)\n",
    "    df['Open'] = df['Open'] * df['AdjFactor']\n",
    "    df['High'] = df['High'] * df['AdjFactor']\n",
    "    df['Low'] = df['Low'] * df['AdjFactor']\n",
    "    df['Close'] = df['Close'] * df['AdjFactor']\n",
    "    new_df = df[['sector', 'symbol', 'Open', 'High', 'Low', 'Close', 'Volume']]\n",
    "    new_df.columns = ['sector', 'symbol', 'open', 'high', 'low', 'close', 'volume']\n",
    "    return new_df\n",
    "\n",
    "def add_returns(df):\n",
    "    df['lastClose'] = df.groupby('symbol')['close'].shift(1)\n",
    "    df['ret_cc'] = np.log(df['close'] / df['lastClose'])\n",
    "    df['ret_oc'] = np.log(df['close'] / df['open'])\n",
    "    df['ret_co'] = np.log(df['open'] / df['lastClose'])\n",
    "    df.drop('lastClose', 1, inplace=True)\n",
    "    return df\n",
    "\n",
    "prices = adjust_prices(prices)\n",
    "prices = add_returns(prices)"
   ]
  },
  {
   "cell_type": "markdown",
   "metadata": {
    "collapsed": true
   },
   "source": [
    "## Beta Lags\n",
    "In its simplest form, the capital asset pricing model (CAPM) predicts that a security's expected return over a given period of time is equal to the return of the market times a beta parameter (usually set by linear regression analysis). Modifications of this model include:\n",
    "\n",
    "1. Allowing for \"excess return\" (alpha)\n",
    "1. Utilizing \"excess return,\" i.e., subtracting the risk free rate from all returns.\n",
    "1. Adding additional factors for the return of a stock's industry.\n",
    "1. Considering financial indicators of the health of the target company (price book ratios, market cap size, etc).\n",
    "\n",
    "When valuing small companies, many professional valuators believe that a \"beta lag\" exists. That is, they believe that last period's market return impacts this perod's security return. This effect is claimed to be more prevalent in smaller, less liquid securities.\n",
    "\n",
    "If this is true, it should be trivial to develop strategies which take advantage of this effect."
   ]
  },
  {
   "cell_type": "code",
   "execution_count": 31,
   "metadata": {
    "collapsed": false
   },
   "outputs": [
    {
     "data": {
      "text/html": [
       "<div>\n",
       "<table border=\"1\" class=\"dataframe\">\n",
       "  <thead>\n",
       "    <tr style=\"text-align: right;\">\n",
       "      <th></th>\n",
       "      <th>Date</th>\n",
       "      <th>security_return</th>\n",
       "      <th>sector_return</th>\n",
       "      <th>market_return</th>\n",
       "    </tr>\n",
       "  </thead>\n",
       "  <tbody>\n",
       "    <tr>\n",
       "      <th>0</th>\n",
       "      <td>2010-01-04</td>\n",
       "      <td>NaN</td>\n",
       "      <td>NaN</td>\n",
       "      <td>NaN</td>\n",
       "    </tr>\n",
       "    <tr>\n",
       "      <th>1</th>\n",
       "      <td>2010-01-05</td>\n",
       "      <td>NaN</td>\n",
       "      <td>NaN</td>\n",
       "      <td>NaN</td>\n",
       "    </tr>\n",
       "    <tr>\n",
       "      <th>2</th>\n",
       "      <td>2010-01-06</td>\n",
       "      <td>-0.004755</td>\n",
       "      <td>-7.498748e-04</td>\n",
       "      <td>0.000704</td>\n",
       "    </tr>\n",
       "    <tr>\n",
       "      <th>3</th>\n",
       "      <td>2010-01-07</td>\n",
       "      <td>-0.005438</td>\n",
       "      <td>-1.869588e-08</td>\n",
       "      <td>0.004212</td>\n",
       "    </tr>\n",
       "    <tr>\n",
       "      <th>4</th>\n",
       "      <td>2010-01-08</td>\n",
       "      <td>-0.001323</td>\n",
       "      <td>-3.381555e-03</td>\n",
       "      <td>0.003322</td>\n",
       "    </tr>\n",
       "    <tr>\n",
       "      <th>5</th>\n",
       "      <td>2010-01-11</td>\n",
       "      <td>-0.003979</td>\n",
       "      <td>2.631031e-03</td>\n",
       "      <td>0.001396</td>\n",
       "    </tr>\n",
       "    <tr>\n",
       "      <th>6</th>\n",
       "      <td>2010-01-12</td>\n",
       "      <td>0.011397</td>\n",
       "      <td>5.614949e-03</td>\n",
       "      <td>-0.009370</td>\n",
       "    </tr>\n",
       "    <tr>\n",
       "      <th>7</th>\n",
       "      <td>2010-01-13</td>\n",
       "      <td>0.010293</td>\n",
       "      <td>7.067084e-03</td>\n",
       "      <td>0.008411</td>\n",
       "    </tr>\n",
       "    <tr>\n",
       "      <th>8</th>\n",
       "      <td>2010-01-14</td>\n",
       "      <td>0.000975</td>\n",
       "      <td>-2.969549e-03</td>\n",
       "      <td>0.002701</td>\n",
       "    </tr>\n",
       "    <tr>\n",
       "      <th>9</th>\n",
       "      <td>2010-01-15</td>\n",
       "      <td>-0.012419</td>\n",
       "      <td>-4.844459e-03</td>\n",
       "      <td>-0.011288</td>\n",
       "    </tr>\n",
       "  </tbody>\n",
       "</table>\n",
       "</div>"
      ],
      "text/plain": [
       "        Date  security_return  sector_return  market_return\n",
       "0 2010-01-04              NaN            NaN            NaN\n",
       "1 2010-01-05              NaN            NaN            NaN\n",
       "2 2010-01-06        -0.004755  -7.498748e-04       0.000704\n",
       "3 2010-01-07        -0.005438  -1.869588e-08       0.004212\n",
       "4 2010-01-08        -0.001323  -3.381555e-03       0.003322\n",
       "5 2010-01-11        -0.003979   2.631031e-03       0.001396\n",
       "6 2010-01-12         0.011397   5.614949e-03      -0.009370\n",
       "7 2010-01-13         0.010293   7.067084e-03       0.008411\n",
       "8 2010-01-14         0.000975  -2.969549e-03       0.002701\n",
       "9 2010-01-15        -0.012419  -4.844459e-03      -0.011288"
      ]
     },
     "execution_count": 31,
     "metadata": {},
     "output_type": "execute_result"
    }
   ],
   "source": [
    "def make_analysis_df(tic, history, stocks):\n",
    "    sector = stocks.loc[tic, 'sector']\n",
    "    security_df = history.loc[history['symbol'] == tic, 'ret_cc'].to_frame('security_return').reset_index()\n",
    "    sector_df = history.loc[history['symbol'] == sector, 'ret_cc'].to_frame('sector_return').reset_index()\n",
    "    market_df = history.loc[history['symbol'] == 'SPY', 'ret_cc'].to_frame('market_return').reset_index()\n",
    "    analysis_df = pd.merge(left = security_df, right = sector_df, on = 'Date', how = 'left')\n",
    "    analysis_df = pd.merge(left = analysis_df, right = market_df, on = 'Date', how = 'left')\n",
    "    return analysis_df\n",
    "    \n",
    "\n",
    "def simple_beta(stocks, history):\n",
    "    to_analyze = list(set(history['symbol'])) # Convert to set to remove duplicates.\n",
    "    stocks['alpha'] = np.nan\n",
    "    stocks['beta'] = np.nan\n",
    "    \n",
    "    for ticker in to_analyze:\n",
    "        analysis_df = make_analysis_df('ticker', history, stocks)\n",
    "        stocks.loc[ticker, 'alpha'] = 0\n",
    "        stocks.loc[ticker, 'beta'] = 0\n",
    "    \n",
    "    return universe"
   ]
  },
  {
   "cell_type": "markdown",
   "metadata": {},
   "source": [
    "# Let's do that all again with the package\n",
    "## Import Packages"
   ]
  },
  {
   "cell_type": "code",
   "execution_count": 6,
   "metadata": {
    "collapsed": true
   },
   "outputs": [],
   "source": [
    "import wmcm.functions as wmf"
   ]
  },
  {
   "cell_type": "code",
   "execution_count": 7,
   "metadata": {
    "collapsed": false
   },
   "outputs": [
    {
     "name": "stdout",
     "output_type": "stream",
     "text": [
      "Fuck off!\n"
     ]
    }
   ],
   "source": [
    "wmf.greg()"
   ]
  }
 ],
 "metadata": {
  "kernelspec": {
   "display_name": "Python 3",
   "language": "python",
   "name": "python3"
  },
  "language_info": {
   "codemirror_mode": {
    "name": "ipython",
    "version": 3
   },
   "file_extension": ".py",
   "mimetype": "text/x-python",
   "name": "python",
   "nbconvert_exporter": "python",
   "pygments_lexer": "ipython3",
   "version": "3.5.1"
  }
 },
 "nbformat": 4,
 "nbformat_minor": 0
}
