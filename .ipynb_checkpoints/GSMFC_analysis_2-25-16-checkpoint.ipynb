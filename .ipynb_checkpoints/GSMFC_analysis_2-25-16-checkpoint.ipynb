{
 "cells": [
  {
   "cell_type": "markdown",
   "metadata": {},
   "source": [
    "# Analyis of GSMF SEAMAP Data - Work Papers\n",
    "## Import Packages\n",
    "The following packages were imported into the Anaconda Python interpreter. Plots are set to render in-line."
   ]
  },
  {
   "cell_type": "code",
   "execution_count": 1,
   "metadata": {
    "collapsed": true
   },
   "outputs": [],
   "source": [
    "import numpy as np\n",
    "import pandas as pd\n",
    "import seaborn as sns\n",
    "import statsmodels.formula.api as sm\n",
    "%matplotlib inline"
   ]
  },
  {
   "cell_type": "markdown",
   "metadata": {},
   "source": [
    "## Load Data\n",
    "The GSMFC SEAMAP database is comprised of 12 tables describing the results of sampling efforts along the Gulf Coast. Four relevant tables have been imported into pandas dataframes:\n",
    "\n",
    "1. SHHREC - Shrimp sampling records.\n",
    "1. STAREC - Information on sampling locations during a survey.\n",
    "1. ENVREC - Environmental data at specific sample locations.\n",
    "1. INVREC\n",
    "\n",
    "### Importing SHHREC Table\n",
    "The SHHREC table provides information on individual shrimp sample surveys. It is imported below. It can be tied to the STAREC and ENVREC tables through the STATIONID column."
   ]
  },
  {
   "cell_type": "code",
   "execution_count": 2,
   "metadata": {
    "collapsed": true
   },
   "outputs": [],
   "source": [
    "SHRREC = pd.read_csv('inputs_preprocessed/SHRREC.csv', index_col='SHRRECID')"
   ]
  },
  {
   "cell_type": "markdown",
   "metadata": {},
   "source": [
    "### Importing STAREC Table\n",
    "\n",
    "The STAREC table contains information on sampling locations.\n",
    "\n",
    "Unfortunately, the CSV file contains escape character errors. Occasionally, line-breaks in the \"COMSTAT\" field, which appears to give comments on a given sample, are reflected in the resulting CSV export. Importing this table without first adjusting for these fields resulted in type errors and misassigned data. These characters were fixed in preprocessing.\n",
    "\n",
    "Additionally, the following columns were added in Excel:\n",
    "\n",
    "1. `CRUISE_LENGTH` - Measures the length of the sample in hours.\n",
    "1. `YEAR` - Year of Sample\n",
    "1. `MONTH` - Month of Sample\n",
    "1. `DAY` - Day of Sample\n",
    "1. `START_TIME` - Beginning Time of Sample\n",
    "\n",
    "The following columns were removed, for they are non-key duplicates of the SHRREC table:\n",
    "\n",
    "1. `CRUISEID`\n",
    "1. `VESSEL`\n",
    "1. `CRUISE_NO`\n",
    "1. `P_STA_NO`"
   ]
  },
  {
   "cell_type": "code",
   "execution_count": 3,
   "metadata": {
    "collapsed": true
   },
   "outputs": [],
   "source": [
    "STAREC = pd.read_csv('inputs_preprocessed/STAREC.csv')\n",
    "STAREC.drop(['CRUISEID', 'VESSEL', 'CRUISE_NO', 'P_STA_NO'], axis=1, inplace=True)"
   ]
  },
  {
   "cell_type": "markdown",
   "metadata": {},
   "source": [
    "### Importing ENVREC Table\n",
    "\n",
    "A table of environmental records per station was also imported. The following columns were removed, for they are non-key duplicates of the SHRREC table:\n",
    "\n",
    "1. `CRUISEID`\n",
    "1. `VESSEL`\n",
    "1. `CRUISE_NO`\n",
    "1. `P_STA_NO`\n",
    "\n",
    "The following string columns were also removed because they are not used in our analysis and produced mixed type errors:\n",
    "\n",
    "1. `CLD_TYPE`\n",
    "1. `CTDFILE`"
   ]
  },
  {
   "cell_type": "code",
   "execution_count": 4,
   "metadata": {
    "collapsed": true
   },
   "outputs": [],
   "source": [
    "ENVREC = pd.read_csv('inputs_preprocessed/ENVREC.csv', low_memory=False)\n",
    "ENVREC.drop(['CRUISEID', 'VESSEL', 'CRUISE_NO', 'P_STA_NO', 'CLD_TYPE', 'CTDFILE'], axis=1, inplace=True)"
   ]
  },
  {
   "cell_type": "markdown",
   "metadata": {},
   "source": [
    "### Importing INVREC Table"
   ]
  },
  {
   "cell_type": "code",
   "execution_count": 6,
   "metadata": {
    "collapsed": false
   },
   "outputs": [
    {
     "name": "stderr",
     "output_type": "stream",
     "text": [
      "C:\\Anaconda2\\lib\\site-packages\\IPython\\core\\interactiveshell.py:2902: DtypeWarning: Columns (11,12,13,26,27) have mixed types. Specify dtype option on import or set low_memory=False.\n",
      "  interactivity=interactivity, compiler=compiler, result=result)\n"
     ]
    }
   ],
   "source": [
    "INVREC = pd.read_csv('inputs_preprocessed/INVREC.csv')\n",
    "INVREC.drop(['CRUISEID', 'VESSEL', 'CRUISE_NO', 'P_STA_NO'], axis=1, inplace=True)"
   ]
  },
  {
   "cell_type": "markdown",
   "metadata": {},
   "source": [
    "## Creating Augmented SHRREC Table\n",
    "An augmented 2013, 2014 SHRREC table was created which adds any additional information in STAREC or ENVREC. It is saved as SHRREC2."
   ]
  },
  {
   "cell_type": "code",
   "execution_count": 7,
   "metadata": {
    "collapsed": true
   },
   "outputs": [],
   "source": [
    "SHRREC2 = pd.merge(left=SHRREC, right=STAREC, on='STATIONID', how='left')\n",
    "SHRREC2 = pd.merge(left=SHRREC2, right=ENVREC, on='STATIONID', how='left')\n",
    "SHRREC2 = pd.merge(left=SHRREC2, right=INVREC, on='STATIONID', how='left')\n",
    "\n",
    "SHRREC2 = SHRREC2.loc[SHRREC2['YEAR'] >= 2011]"
   ]
  },
  {
   "cell_type": "markdown",
   "metadata": {},
   "source": [
    "## Aggregating Shrimp Data\n",
    "Brown shrimp weight was aggregated by gender into the `weight_brown` column."
   ]
  },
  {
   "cell_type": "code",
   "execution_count": 8,
   "metadata": {
    "collapsed": true
   },
   "outputs": [],
   "source": [
    "SHRREC2['weight_brown'] = SHRREC2[['SAMPLE_BF', 'SAMPLE_BM']].sum(axis=1)\n",
    "SHRREC2['count_brown'] = SHRREC2[['CNT_BF', 'CNT_BM']].sum(axis=1)"
   ]
  },
  {
   "cell_type": "markdown",
   "metadata": {},
   "source": [
    "## Latitude and Longitude\n",
    "Surveys take place in designated \"statistical zones,\" given by the `STAT_ZONE` field. In order to understand where these statistical zones are located, latitude and longitude columns were averaged for each statistical zone and exported as a csv. This was imported into Google Maps to graph where the various statistical zones are located."
   ]
  },
  {
   "cell_type": "code",
   "execution_count": 7,
   "metadata": {
    "collapsed": true
   },
   "outputs": [],
   "source": [
    "STAT_ZONES = pd.pivot_table(SHRREC2.loc[SHRREC2['STAT_ZONE'] >= 16], values=['LATITUDE', 'LONGITUDE'], index='STAT_ZONE', aggfunc=np.mean)\n",
    "STAT_ZONES.to_csv('STAT_ZONES.csv')"
   ]
  },
  {
   "cell_type": "markdown",
   "metadata": {},
   "source": [
    "Statistical zone 18 is located just south of Galveston Bay. Statistical zones 19-21 are located along the coast to the West, and zones 17 and below are located to the East.\n",
    "\n",
    "<img src=\"files/gulf.png\" style=\"width: 900px;\"/>"
   ]
  },
  {
   "cell_type": "markdown",
   "metadata": {},
   "source": [
    "## Analysis of Results\n",
    "\n",
    "An analysis dataframe was created based on SHRREC2."
   ]
  },
  {
   "cell_type": "code",
   "execution_count": 10,
   "metadata": {
    "collapsed": true
   },
   "outputs": [],
   "source": [
    "analysis_df = SHRREC2.copy()\n",
    "analysis_df.to_csv('test.csv')"
   ]
  },
  {
   "cell_type": "markdown",
   "metadata": {},
   "source": [
    "### Cruise Length Analysis\n",
    "\n",
    "Recently, most samples in the Western portion of the GoM have occurred in June. My analysis therefore focused on June in order to ensure similar seasonality.\n",
    "\n",
    "A histogram of CRUISE_LENGTH is presented below.\n",
    "\n",
    "Based on this analysis, it appears as though the majority of cruises are designed to last for thirty minutes. Often, there is some randomness in how long the cruise actually lasts, and other clusters exist, but the majority of cruises last for around thirty minutes."
   ]
  },
  {
   "cell_type": "code",
   "execution_count": 9,
   "metadata": {
    "collapsed": false
   },
   "outputs": [
    {
     "data": {
      "image/png": "[encoded data removed]"
     },
     "metadata": {},
     "output_type": "display_data",
     "text": [
      "<matplotlib.figure.Figure at 0x11bef66d0>"
     ]
    }
   ],
   "source": [
    "analysis_df = analysis_df.loc[analysis_df['MONTH'] == 6]\n",
    "fig1_cl_hist = sns.distplot(analysis_df['CRUISE_LENGTH'], kde=False,\n",
    "                            axlabel='Cruise Length (Hours)')"
   ]
  },
  {
   "cell_type": "markdown",
   "metadata": {},
   "source": [
    "In order to ensure a comparison of like cruises, the sample is restricted to cruises which last between 24 and 36 minutes."
   ]
  },
  {
   "cell_type": "code",
   "execution_count": 10,
   "metadata": {
    "collapsed": true
   },
   "outputs": [],
   "source": [
    "analysis_df = analysis_df.loc[analysis_df['CRUISE_LENGTH'] < .6]\n",
    "analysis_df = analysis_df.loc[analysis_df['CRUISE_LENGTH'] > .4]"
   ]
  },
  {
   "cell_type": "markdown",
   "metadata": {},
   "source": [
    "Some of the above data points had negative values. All appeared to last for `-50` minutes and took place during the 12th hour of the day. This appears to be bad data. However, even after making adjustments for (potentially) improperly coded \"AM\" and \"PM\" figures, these observations would not be included in the 30-minute cluster of results. Therefore, they are ignored in this analysis.\n",
    "\n",
    "### Vessel Analysis\n",
    "\n",
    "In creating GSMF SEAMAP over the past 30 years, the Gulf States Marine Fisheries Commission has utilized over 86 different vessels. These vessels may differ in ability to catch shrimp, so it is important to watch for any changes in the vessels utilized to perform samples.\n",
    "\n",
    "The following table displays the number of times various vessels surveyed a given stat zone in a given year for stat zones 16 and up (within the 30 minute cluster only)."
   ]
  },
  {
   "cell_type": "code",
   "execution_count": 11,
   "metadata": {
    "collapsed": false
   },
   "outputs": [
    {
     "data": {
      "text/html": [
       "<div>\n",
       "<table border=\"1\" class=\"dataframe\">\n",
       "  <thead>\n",
       "    <tr style=\"text-align: right;\">\n",
       "      <th></th>\n",
       "      <th>YEAR</th>\n",
       "      <th>2013</th>\n",
       "      <th>2014</th>\n",
       "    </tr>\n",
       "    <tr>\n",
       "      <th>STAT_ZONE</th>\n",
       "      <th>VESSEL</th>\n",
       "      <th></th>\n",
       "      <th></th>\n",
       "    </tr>\n",
       "  </thead>\n",
       "  <tbody>\n",
       "    <tr>\n",
       "      <th>16</th>\n",
       "      <th>4</th>\n",
       "      <td>19</td>\n",
       "      <td>17</td>\n",
       "    </tr>\n",
       "    <tr>\n",
       "      <th>17</th>\n",
       "      <th>4</th>\n",
       "      <td>NaN</td>\n",
       "      <td>24</td>\n",
       "    </tr>\n",
       "    <tr>\n",
       "      <th>18</th>\n",
       "      <th>4</th>\n",
       "      <td>21</td>\n",
       "      <td>20</td>\n",
       "    </tr>\n",
       "    <tr>\n",
       "      <th>19</th>\n",
       "      <th>4</th>\n",
       "      <td>17</td>\n",
       "      <td>18</td>\n",
       "    </tr>\n",
       "    <tr>\n",
       "      <th>20</th>\n",
       "      <th>4</th>\n",
       "      <td>15</td>\n",
       "      <td>17</td>\n",
       "    </tr>\n",
       "    <tr>\n",
       "      <th>21</th>\n",
       "      <th>4</th>\n",
       "      <td>10</td>\n",
       "      <td>13</td>\n",
       "    </tr>\n",
       "  </tbody>\n",
       "</table>\n",
       "</div>"
      ]
     },
     "metadata": {},
     "output_type": "execute_result"
    }
   ],
   "source": [
    "tab1_vessel = pd.pivot_table(analysis_df.loc[analysis_df['STAT_ZONE'] >= 16], values='weight_brown',\n",
    "                             index=['STAT_ZONE', 'VESSEL'], columns='YEAR', aggfunc=len, dropna=True)\n",
    "tab1_vessel.to_csv('tab/tab1_vessel.csv')\n",
    "tab1_vessel"
   ]
  },
  {
   "cell_type": "markdown",
   "metadata": {},
   "source": [
    "Stat zones 16 and up were only surveyed by vessel 4, so these years should be comparable. Stat zone 17 was not surveyed in 2013, so it was excluded from my analysis. Stat zone 22 appears to have not been surveyed at all."
   ]
  },
  {
   "cell_type": "code",
   "execution_count": 12,
   "metadata": {
    "collapsed": true
   },
   "outputs": [],
   "source": [
    "analysis_df = analysis_df.loc[analysis_df['STAT_ZONE'] >= 16]\n",
    "analysis_df = analysis_df.loc[analysis_df['STAT_ZONE'] != 17]"
   ]
  },
  {
   "cell_type": "markdown",
   "metadata": {},
   "source": [
    "### Brown Shrimp per Hour Variable\n",
    "A new column, `weight_per_hour_brown` was added which measures pounds of brown shrimp caught per hour of sampling."
   ]
  },
  {
   "cell_type": "code",
   "execution_count": 13,
   "metadata": {
    "collapsed": true
   },
   "outputs": [],
   "source": [
    "analysis_df['weight_per_hour_brown'] = analysis_df['weight_brown'] / analysis_df['CRUISE_LENGTH']"
   ]
  },
  {
   "cell_type": "markdown",
   "metadata": {},
   "source": [
    "### 2014 Variable\n",
    "\n",
    "A new dummy variable column labelled `YEAR_2014` is added to `analysis_df`. It takes the value '0' in 2013 and '1' in 2014. Its t- and p-values are used to test if a statistically significant change occured.\n",
    "\n",
    "A new column labelled `'stat_group'` was also added. It is equal to `'group_a'` for stat zone 16 and `'group_b'` for all other stat zones."
   ]
  },
  {
   "cell_type": "code",
   "execution_count": 14,
   "metadata": {
    "collapsed": true
   },
   "outputs": [],
   "source": [
    "analysis_df['YEAR_2014'] = 0\n",
    "analysis_df.loc[analysis_df['YEAR'] == 2014, 'YEAR_2014'] = 1\n",
    "analysis_df['YEAR_2014'] = analysis_df['YEAR_2014'].astype('category')\n",
    "\n",
    "analysis_df['stat_group'] = 'group_b'\n",
    "analysis_df.loc[analysis_df['STAT_ZONE'] == 16, 'stat_group'] = 'group_a'\n",
    "analysis_df['stat_group'] = analysis_df['stat_group'].astype('category')"
   ]
  },
  {
   "cell_type": "markdown",
   "metadata": {},
   "source": [
    "## Results\n",
    "### Graphical Results\n",
    "The average weight of brown shrimp caught per hour per cruise is displayed below."
   ]
  },
  {
   "cell_type": "code",
   "execution_count": 15,
   "metadata": {
    "collapsed": false
   },
   "outputs": [
    {
     "data": {
      "text/plain": [
       "<matplotlib.text.Text at 0x118ae4550>"
      ]
     },
     "execution_count": 15,
     "metadata": {},
     "output_type": "execute_result"
    },
    {
     "data": {
      "image/png": "[encoded data removed]"
     },
     "metadata": {},
     "output_type": "display_data",
     "text": [
      "<matplotlib.figure.Figure at 0x103c37990>"
     ]
    }
   ],
   "source": [
    "sns.barplot(x='STAT_ZONE', y='weight_per_hour_brown', hue='YEAR', data=analysis_df, ci=None)\n",
    "sns.plt.title('Average Pounds of Brown Shrimp Caught per Hour -- Brown Shrimp')"
   ]
  },
  {
   "cell_type": "markdown",
   "metadata": {},
   "source": [
    "### Zone Specific Statistical Tests\n",
    "To test the statistical significance of the observed change, a regression was performed on each stat zone. The resulting significance is indicated as follows:\n",
    "\n",
    "1. `*` - Siginificant at the 90% confidence level.\n",
    "1. `**` - Significant at the 95% confidence level.\n",
    "1. `***` - Significant at the 99% confidence level."
   ]
  },
  {
   "cell_type": "code",
   "execution_count": 16,
   "metadata": {
    "collapsed": false
   },
   "outputs": [
    {
     "data": {
      "text/html": [
       "<div>\n",
       "<table border=\"1\" class=\"dataframe\">\n",
       "  <thead>\n",
       "    <tr style=\"text-align: right;\">\n",
       "      <th></th>\n",
       "      <th>Y2013</th>\n",
       "      <th>Y2014</th>\n",
       "      <th>percent_change</th>\n",
       "      <th>tvalue</th>\n",
       "      <th>pvalue</th>\n",
       "      <th>sig</th>\n",
       "    </tr>\n",
       "    <tr>\n",
       "      <th>STAT_ZONE</th>\n",
       "      <th></th>\n",
       "      <th></th>\n",
       "      <th></th>\n",
       "      <th></th>\n",
       "      <th></th>\n",
       "      <th></th>\n",
       "    </tr>\n",
       "  </thead>\n",
       "  <tbody>\n",
       "    <tr>\n",
       "      <th>16</th>\n",
       "      <td>2.630114</td>\n",
       "      <td>2.910906</td>\n",
       "      <td>0.106761</td>\n",
       "      <td>0.354233</td>\n",
       "      <td>0.725352</td>\n",
       "      <td></td>\n",
       "    </tr>\n",
       "    <tr>\n",
       "      <th>18</th>\n",
       "      <td>2.400849</td>\n",
       "      <td>1.102253</td>\n",
       "      <td>-0.540890</td>\n",
       "      <td>-2.439416</td>\n",
       "      <td>0.019362</td>\n",
       "      <td>**</td>\n",
       "    </tr>\n",
       "    <tr>\n",
       "      <th>19</th>\n",
       "      <td>2.713055</td>\n",
       "      <td>1.774926</td>\n",
       "      <td>-0.345783</td>\n",
       "      <td>-1.529260</td>\n",
       "      <td>0.135730</td>\n",
       "      <td></td>\n",
       "    </tr>\n",
       "    <tr>\n",
       "      <th>20</th>\n",
       "      <td>2.299285</td>\n",
       "      <td>1.464602</td>\n",
       "      <td>-0.363019</td>\n",
       "      <td>-1.514079</td>\n",
       "      <td>0.140471</td>\n",
       "      <td></td>\n",
       "    </tr>\n",
       "    <tr>\n",
       "      <th>21</th>\n",
       "      <td>1.436313</td>\n",
       "      <td>1.183839</td>\n",
       "      <td>-0.175779</td>\n",
       "      <td>-0.363889</td>\n",
       "      <td>0.719579</td>\n",
       "      <td></td>\n",
       "    </tr>\n",
       "  </tbody>\n",
       "</table>\n",
       "</div>"
      ]
     },
     "metadata": {},
     "output_type": "execute_result"
    }
   ],
   "source": [
    "results_zone = pd.pivot_table(analysis_df, values='weight_per_hour_brown', columns='YEAR', index='STAT_ZONE', aggfunc=np.mean)\n",
    "results_zone.columns = ['Y2013', 'Y2014']\n",
    "results_zone['percent_change'] = results_zone['Y2014'] / results_zone['Y2013'] - 1\n",
    "\n",
    "for n in results_zone.index:\n",
    "    temp_model = sm.ols(formula='weight_per_hour_brown ~ YEAR_2014', data=analysis_df.loc[analysis_df['STAT_ZONE']==n]).fit()\n",
    "    results_zone.loc[n, 'tvalue'] = temp_model.tvalues[1]\n",
    "    results_zone.loc[n, 'pvalue'] = temp_model.pvalues[1]\n",
    "\n",
    "results_zone['sig'] = ' '\n",
    "results_zone.loc[results_zone['pvalue']<0.1, 'sig'] = '*'\n",
    "results_zone.loc[results_zone['pvalue']<0.05, 'sig'] = '**'\n",
    "results_zone.loc[results_zone['pvalue']<0.01, 'sig'] = '***'\n",
    "\n",
    "results_zone.to_csv('tab/tab2_res_zone')\n",
    "results_zone"
   ]
  },
  {
   "cell_type": "markdown",
   "metadata": {},
   "source": [
    "An increase is observed in stat zone 16 for 2013 to 2014. Decreases are observed in all other zones. The decrease observed in zone 18 is statistically significant.\n",
    "### Regional Statistical Significance Test\n",
    "I was asked to repeat this analysis grouping together stat zones 18 through 21.\n",
    "\n",
    "In this model, the YEAR_2014 parameter has a t-value of `-3.123` and a p-value of `0.002`. This means it is statistically significant at the 99% confidence level."
   ]
  },
  {
   "cell_type": "code",
   "execution_count": 18,
   "metadata": {
    "collapsed": false
   },
   "outputs": [
    {
     "data": {
      "text/html": [
       "<div>\n",
       "<table border=\"1\" class=\"dataframe\">\n",
       "  <thead>\n",
       "    <tr style=\"text-align: right;\">\n",
       "      <th></th>\n",
       "      <th>Y2013</th>\n",
       "      <th>Y2014</th>\n",
       "      <th>percent_change</th>\n",
       "      <th>tvalue</th>\n",
       "      <th>pvalue</th>\n",
       "      <th>sig</th>\n",
       "    </tr>\n",
       "  </thead>\n",
       "  <tbody>\n",
       "    <tr>\n",
       "      <th>Zone 16</th>\n",
       "      <td>2.630114</td>\n",
       "      <td>2.910906</td>\n",
       "      <td>0.106761</td>\n",
       "      <td>0.354233</td>\n",
       "      <td>0.725352</td>\n",
       "      <td></td>\n",
       "    </tr>\n",
       "    <tr>\n",
       "      <th>Zones 18 through 21</th>\n",
       "      <td>2.307813</td>\n",
       "      <td>1.386498</td>\n",
       "      <td>-0.399215</td>\n",
       "      <td>-3.123103</td>\n",
       "      <td>0.002210</td>\n",
       "      <td>***</td>\n",
       "    </tr>\n",
       "  </tbody>\n",
       "</table>\n",
       "</div>"
      ]
     },
     "metadata": {},
     "output_type": "execute_result"
    }
   ],
   "source": [
    "results_group = pd.pivot_table(analysis_df, values='weight_per_hour_brown', columns='YEAR', index='stat_group', aggfunc=np.mean)\n",
    "results_group.columns = ['Y2013', 'Y2014']\n",
    "results_group['percent_change'] = results_group['Y2014'] / results_group['Y2013'] - 1\n",
    "\n",
    "for n in results_group.index:\n",
    "    temp_model = sm.ols(formula='weight_per_hour_brown ~ YEAR_2014', data=analysis_df.loc[analysis_df['stat_group']==n]).fit()\n",
    "    results_group.loc[n, 'tvalue'] = temp_model.tvalues[1]\n",
    "    results_group.loc[n, 'pvalue'] = temp_model.pvalues[1]\n",
    "\n",
    "results_group['sig'] = ' '\n",
    "results_group.loc[results_group['pvalue']<0.1, 'sig'] = '*'\n",
    "results_group.loc[results_group['pvalue']<0.05, 'sig'] = '**'\n",
    "results_group.loc[results_group['pvalue']<0.01, 'sig'] = '***'\n",
    "\n",
    "results_group.index = ['Zone 16', 'Zones 18 through 21']\n",
    "\n",
    "results_group.to_csv('tab/tab3_res_group')\n",
    "results_group"
   ]
  },
  {
   "cell_type": "markdown",
   "metadata": {},
   "source": [
    "### Excel Output\n",
    "As a convenience, the underlying data behind these graphs and figures are saved as a csv and attached."
   ]
  },
  {
   "cell_type": "code",
   "execution_count": 35,
   "metadata": {
    "collapsed": true
   },
   "outputs": [],
   "source": [
    "analysis_df.to_csv(\"tab/tab4_analysis_df.csv\")"
   ]
  }
 ],
 "metadata": {
  "kernelspec": {
   "display_name": "Python 3",
   "language": "python",
   "name": "python3"
  },
  "language_info": {
   "codemirror_mode": {
    "name": "ipython",
    "version": 3
   },
   "file_extension": ".py",
   "mimetype": "text/x-python",
   "name": "python",
   "nbconvert_exporter": "python",
   "pygments_lexer": "ipython3",
   "version": "3.5.1"
  }
 },
 "nbformat": 4,
 "nbformat_minor": 0
}
