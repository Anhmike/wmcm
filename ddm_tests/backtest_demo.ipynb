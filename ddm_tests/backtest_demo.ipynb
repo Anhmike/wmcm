{
 "cells": [
  {
   "cell_type": "markdown",
   "metadata": {},
   "source": [
    "# Weekly Backtest Template\n",
    "\n",
    "This notebook will go through the steps in a successful backtest run of our trading strategy.\n",
    "\n",
    "Inputs:\n",
    "    - backtest_start, backtest_end = First and last date to backtest\n",
    "    - universe object\n",
    "\n",
    "1. Function initialization:\n",
    "    - sim_date = backtest_start advanced to Saturday. Tracks current simulated day.\n",
    "    - Initialize status_df, Indexed on stocks.keys(). Columns:\n",
    "        - \"lagged_return_coefficient\" column\n",
    "        - \"prior_return\" column\n",
    "        - \"predicted_return\" column\n",
    "    - Initialize results_df. Columns:\n",
    "        - \"week_starting\"\n",
    "        - \"long_stock\"\n",
    "        - \"short_stock\"\n",
    "        - \"long_return\"\n",
    "        - \"short_return\n",
    "1. Do while sim_date <= backtest_end\n",
    "    1. Saturday:\n",
    "        - Update \"prior_return\" column\n",
    "        - Update \"lagged_return_coefficient\" by running beta model\n",
    "        - Multiply \"predicted_return\"\n",
    "        - Add 2 to sim_date\n",
    "    1. Monday:\n",
    "        - Update results_df\n",
    "            - New \"week_starting\" row equal to sim_date\n",
    "            - long_stock, short_stock = stocks with highest and lowest predicted_return\n",
    "        - Add 4 to sim_date\n",
    "    1. Friday:\n",
    "        - Update results_df\n",
    "            - long_return, short_return\n",
    "        - Add 1 to sim_date\n",
    "1. return results_df\n",
    "\n",
    "## Import Packages"
   ]
  },
  {
   "cell_type": "code",
   "execution_count": 1,
   "metadata": {
    "collapsed": true
   },
   "outputs": [],
   "source": [
    "import datetime as dt\n",
    "import pandas as pd\n",
    "import numpy as np\n",
    "from pandas_datareader import data\n",
    "import statsmodels.formula.api as sm\n",
    "import time\n",
    "import wmcm"
   ]
  },
  {
   "cell_type": "markdown",
   "metadata": {},
   "source": [
    "## Load Universe\n",
    "I created a CSV listing all stocks included in SPDR’s sector funds as of January 24th, 2016. It is loaded as a pandas dataframe. In order to make calls to Yahoo, all periods are replaced with hyphens.\n",
    "\n",
    "We also pull all sector tickers and SPY as a proxy for the market as a whole."
   ]
  },
  {
   "cell_type": "code",
   "execution_count": 2,
   "metadata": {
    "collapsed": true
   },
   "outputs": [],
   "source": [
    "universe_stocks = pd.read_csv('inputs/stocks.csv', index_col='symbol')\n",
    "universe_stocks.index = map(lambda x: x.replace('.', '-'), universe_stocks.index)\n",
    "\n",
    "universe_sectors = pd.read_csv('inputs/sectors.csv', index_col='symbol')\n",
    "universe_sectors.index = map(lambda x: x.replace('.', '-'), universe_sectors.index)\n",
    "\n",
    "# limited to a few stocks\n",
    "universe_stocks = universe_stocks.ix[['GOOG', 'PM', 'XOM']]\n",
    "# universe_stocks.head()"
   ]
  },
  {
   "cell_type": "markdown",
   "metadata": {},
   "source": [
    "## Pull Price History\n",
    "\n",
    "Price history is pulled from Yahoo into separate Stock instances. Stocks were pulled from January 1st 2010 through December 31st, 2015."
   ]
  },
  {
   "cell_type": "code",
   "execution_count": 4,
   "metadata": {
    "collapsed": false
   },
   "outputs": [
    {
     "data": {
      "text/plain": [
       "Stock : GOOG\n",
       "        Starting Date : 2011-01-01 00:00:00\n",
       "        Ending Date : 2015-12-31 00:00:00\n",
       "        Frequency : w"
      ]
     },
     "execution_count": 4,
     "metadata": {},
     "output_type": "execute_result"
    }
   ],
   "source": [
    "stocks = wmcm.Universe(universe_stocks.index, 'SPY', interval='w', verbose=False)\n",
    "# stocks.save('sp500_uni.p')\n",
    "#stocks = wmcm.Universe.load('sp500_uni.p')"
   ]
  },
  {
   "cell_type": "markdown",
   "metadata": {},
   "source": [
    "## Advance Day Formula\n",
    "New function to advance a day to the next day of a given week. Values:\n",
    "\n",
    "0 = Monday\n",
    "1 = Tuesday\n",
    "2 = Wednesday\n",
    "3 = Thursday\n",
    "4 = Friday\n",
    "5 = Saturday\n",
    "6 = Sunday"
   ]
  },
  {
   "cell_type": "code",
   "execution_count": 15,
   "metadata": {
    "collapsed": false
   },
   "outputs": [
    {
     "data": {
      "text/plain": [
       "datetime.datetime(2016, 5, 9, 0, 0)"
      ]
     },
     "execution_count": 15,
     "metadata": {},
     "output_type": "execute_result"
    }
   ],
   "source": [
    "# New function to adance to a given weekday.\n",
    "\n",
    "def next_weekday(d, weekday):\n",
    "    days_ahead = weekday - d.weekday()\n",
    "    if days_ahead < 0: # Target day already happened this week\n",
    "        days_ahead += 7\n",
    "    return d + dt.timedelta(days_ahead)\n",
    "\n",
    "next_weekday(dt.datetime.strptime('2016-5-9', '%Y-%m-%d'), 0)"
   ]
  },
  {
   "cell_type": "markdown",
   "metadata": {},
   "source": [
    "## Backtest"
   ]
  },
  {
   "cell_type": "code",
   "execution_count": null,
   "metadata": {
    "collapsed": true
   },
   "outputs": [],
   "source": [
    "def weekly_backtest(universe=stocks, backtest_start = '2012-01-01', backtest_end='2015-12-31'):\n",
    "    \n",
    "    # need assertion that universe is a Universe class with weekly interval\n",
    "    \n",
    "    \n",
    "    # set sim_date equal to first Saturday in backtest range\n",
    "    sim_date = next_weekday(dt.datetime.strptime(backtest_start, '%Y-%m-%d'), 5)\n",
    "    \n",
    "    # create empty status_df\n",
    "    status_df = pd.DataFrame(index=stocks.keys(),\n",
    "                             columns=['lagged_return_coefficient',\n",
    "                                      'prior_return',\n",
    "                                      'predicted_return'])\n",
    "    status_df.drop('market', inplace=True)\n",
    "    \n",
    "    # create empty results_df\n",
    "    results_df = pd.DataFrame(columns=['week_starting',\n",
    "                                      'long_stock',\n",
    "                                      'short_stock',\n",
    "                                      'long_return',\n",
    "                                      'short_return'])\n",
    "    \n",
    "    while sim_date <= backtest_end:\n",
    "        \n",
    "        if sim_date.weekday() == 6: # Saturday\n",
    "            \n",
    "            # Update status_df. THIS CODE DOESN'T WORK.\n",
    "            for tic in status_df.index():\n",
    "                status_df[tic, 'lagged_return_coefficient'] = universe.factor_model(tic, 'return ~ return_market + lag(return)')\n",
    "                status_df[tic, 'prior_return'] = 0\n",
    "                status_df[tic, 'predicted_return'] = status_df[tic, 'lagged_return_coefficient'] * status_df[tic, 'prior_return']\n",
    "            \n",
    "            # To Monday\n",
    "            sim_date = next_weekday(sim_date, 0)\n",
    "        \n",
    "        if sim_date.weekday() == 0: # Monday\n",
    "            \n",
    "            # new week_starting entry in results_df\n",
    "                # long_stock = highest predicted_return\n",
    "                # short_stock = lowest predicted_return\n",
    "                # others = np.nan\n",
    "            \n",
    "            # To Friday\n",
    "            sim_date = next_weekday(sim_date, 4)\n",
    "\n",
    "        if sim_date.weekday() == 4: # Friday\n",
    "            \n",
    "            # add long_return and short_return to results_df\n",
    "            \n",
    "            # To Saturday\n",
    "            sim_date = next_weekday(sim_date, 6)\n",
    "    \n",
    "    return results_df"
   ]
  },
  {
   "cell_type": "markdown",
   "metadata": {},
   "source": [
    "## Changes needed to .factor_model():\n",
    "\n",
    "1. I need to be able to specify the range used when performing beta calculations.\n",
    "1. I need to be able to specify the return type when performing beta calculations. Our holding strategy will be from the week's open to the week's close. Therefore, research should be based on ret_oc, not ret_cc."
   ]
  },
  {
   "cell_type": "markdown",
   "metadata": {},
   "source": [
    "## Misc Notes\n",
    "This code is more complex than it needs to be. However, I wanted to perform actions on the days when they would be performed to make it easier to adapt this code to Quantopian in the future.\n",
    "\n",
    "We will have success if the distributions of results_df['long_return'] is (statistically) significantly higher than the distribution of results_df['short_return'].\n",
    "\n",
    "We should record both predicted_return and actual return, but this data structure doesn't allow for that. Doing so would allow for more model calibration, but less \"omg, we made $X dollars.\""
   ]
  }
 ],
 "metadata": {
  "kernelspec": {
   "display_name": "Python 3",
   "language": "python",
   "name": "python3"
  },
  "language_info": {
   "codemirror_mode": {
    "name": "ipython",
    "version": 3
   },
   "file_extension": ".py",
   "mimetype": "text/x-python",
   "name": "python",
   "nbconvert_exporter": "python",
   "pygments_lexer": "ipython3",
   "version": "3.5.1"
  }
 },
 "nbformat": 4,
 "nbformat_minor": 0
}
