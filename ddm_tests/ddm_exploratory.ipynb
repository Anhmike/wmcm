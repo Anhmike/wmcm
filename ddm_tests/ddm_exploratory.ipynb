{
 "cells": [
  {
   "cell_type": "markdown",
   "metadata": {},
   "source": [
    "# The Old Way\n",
    "## Import Packages"
   ]
  },
  {
   "cell_type": "code",
   "execution_count": 2,
   "metadata": {
    "collapsed": false
   },
   "outputs": [],
   "source": [
    "import datetime as dt\n",
    "import pandas as pd\n",
    "import numpy as np\n",
    "from pandas_datareader import data\n",
    "import statsmodels.formula.api as sm"
   ]
  },
  {
   "cell_type": "markdown",
   "metadata": {
    "collapsed": true
   },
   "source": [
    "## Load Universe\n",
    "I created a CSV listing all stocks included in SPDR’s sector funds as of January 24th, 2016. It is loaded as a pandas dataframe. In order to make calls to Yahoo, all periods are replaced with hyphens.\n",
    "\n",
    "We also pull all sector tickers and SPY as a proxy for the market as a whole."
   ]
  },
  {
   "cell_type": "code",
   "execution_count": 3,
   "metadata": {
    "collapsed": false
   },
   "outputs": [],
   "source": [
    "universe = pd.read_csv('inputs/universe.csv', index_col='symbol')\n",
    "universe.index = map(lambda x: x.replace('.', '-'), universe.index)"
   ]
  },
  {
   "cell_type": "markdown",
   "metadata": {},
   "source": [
    "## Pull Price History\n",
    "\n",
    "Price history is pulled from Yahoo and concatenated into a single multi-index dataframe. Stocks were pulled from January 1st 2010 through December 31st, 2015."
   ]
  },
  {
   "cell_type": "code",
   "execution_count": 4,
   "metadata": {
    "collapsed": true
   },
   "outputs": [],
   "source": [
    "def pull_universe(uni, sdate, edate):\n",
    "    '''Expects a universe csv. Returns a dataframe of prices.\n",
    "    \n",
    "    Might not work if an error is generated on the first stock in the index.\n",
    "    Performance and stability could be improved through list comprehension\n",
    "    and a single pd.concat operation.'''\n",
    "    \n",
    "    # Start by pulling one stock.\n",
    "    df = data.DataReader(uni.index[0],data_source='yahoo', start=sdate, end=edate)\n",
    "    df['symbol'] = uni.index[0]\n",
    "    df['sector'] = uni.loc[uni.index[0],'sector']\n",
    "    \n",
    "    #Loop through remaining stocks. Append to prices file.\n",
    "    for Tic in uni.index[1:]:\n",
    "        try:\n",
    "            df_new = data.DataReader(Tic,data_source='yahoo', start=sdate, end=edate)\n",
    "            df_new['symbol'] = Tic\n",
    "            df_new['sector'] = uni.loc[Tic,'sector']\n",
    "            df = pd.concat([df, df_new])\n",
    "        except IOError:\n",
    "            pass\n",
    "\n",
    "    return df"
   ]
  },
  {
   "cell_type": "code",
   "execution_count": 5,
   "metadata": {
    "collapsed": true
   },
   "outputs": [],
   "source": [
    "# First line will run on the first 3 securities (plus all sectors) only\n",
    "# prices = pull_universe(uni=universe.iloc[:14, ], sdate=dt.datetime(2010, 1, 1), edate=dt.datetime(2015, 12, 31))\n",
    "prices = pull_universe(uni=universe, sdate=dt.datetime(2010, 1, 1), edate=dt.datetime(2015, 12, 31))"
   ]
  },
  {
   "cell_type": "code",
   "execution_count": 6,
   "metadata": {
    "collapsed": false
   },
   "outputs": [
    {
     "data": {
      "text/html": [
       "<div>\n",
       "<table border=\"1\" class=\"dataframe\">\n",
       "  <thead>\n",
       "    <tr style=\"text-align: right;\">\n",
       "      <th></th>\n",
       "      <th>Open</th>\n",
       "      <th>High</th>\n",
       "      <th>Low</th>\n",
       "      <th>Close</th>\n",
       "      <th>Volume</th>\n",
       "      <th>Adj Close</th>\n",
       "      <th>symbol</th>\n",
       "      <th>sector</th>\n",
       "    </tr>\n",
       "    <tr>\n",
       "      <th>Date</th>\n",
       "      <th></th>\n",
       "      <th></th>\n",
       "      <th></th>\n",
       "      <th></th>\n",
       "      <th></th>\n",
       "      <th></th>\n",
       "      <th></th>\n",
       "      <th></th>\n",
       "    </tr>\n",
       "  </thead>\n",
       "  <tbody>\n",
       "    <tr>\n",
       "      <th>2010-01-04</th>\n",
       "      <td>26.450001</td>\n",
       "      <td>26.780001</td>\n",
       "      <td>26.450001</td>\n",
       "      <td>26.67</td>\n",
       "      <td>8465900</td>\n",
       "      <td>22.542255</td>\n",
       "      <td>XLP</td>\n",
       "      <td>NaN</td>\n",
       "    </tr>\n",
       "    <tr>\n",
       "      <th>2010-01-05</th>\n",
       "      <td>26.690001</td>\n",
       "      <td>26.719999</td>\n",
       "      <td>26.540001</td>\n",
       "      <td>26.68</td>\n",
       "      <td>11805400</td>\n",
       "      <td>22.550708</td>\n",
       "      <td>XLP</td>\n",
       "      <td>NaN</td>\n",
       "    </tr>\n",
       "    <tr>\n",
       "      <th>2010-01-06</th>\n",
       "      <td>26.650000</td>\n",
       "      <td>26.690001</td>\n",
       "      <td>26.540001</td>\n",
       "      <td>26.66</td>\n",
       "      <td>9267000</td>\n",
       "      <td>22.533803</td>\n",
       "      <td>XLP</td>\n",
       "      <td>NaN</td>\n",
       "    </tr>\n",
       "    <tr>\n",
       "      <th>2010-01-07</th>\n",
       "      <td>26.740000</td>\n",
       "      <td>26.740000</td>\n",
       "      <td>26.510000</td>\n",
       "      <td>26.66</td>\n",
       "      <td>6951500</td>\n",
       "      <td>22.533803</td>\n",
       "      <td>XLP</td>\n",
       "      <td>NaN</td>\n",
       "    </tr>\n",
       "    <tr>\n",
       "      <th>2010-01-08</th>\n",
       "      <td>26.600000</td>\n",
       "      <td>26.600000</td>\n",
       "      <td>26.420000</td>\n",
       "      <td>26.57</td>\n",
       "      <td>5437400</td>\n",
       "      <td>22.457732</td>\n",
       "      <td>XLP</td>\n",
       "      <td>NaN</td>\n",
       "    </tr>\n",
       "  </tbody>\n",
       "</table>\n",
       "</div>"
      ],
      "text/plain": [
       "                 Open       High        Low  Close    Volume  Adj Close  \\\n",
       "Date                                                                      \n",
       "2010-01-04  26.450001  26.780001  26.450001  26.67   8465900  22.542255   \n",
       "2010-01-05  26.690001  26.719999  26.540001  26.68  11805400  22.550708   \n",
       "2010-01-06  26.650000  26.690001  26.540001  26.66   9267000  22.533803   \n",
       "2010-01-07  26.740000  26.740000  26.510000  26.66   6951500  22.533803   \n",
       "2010-01-08  26.600000  26.600000  26.420000  26.57   5437400  22.457732   \n",
       "\n",
       "           symbol sector  \n",
       "Date                      \n",
       "2010-01-04    XLP    NaN  \n",
       "2010-01-05    XLP    NaN  \n",
       "2010-01-06    XLP    NaN  \n",
       "2010-01-07    XLP    NaN  \n",
       "2010-01-08    XLP    NaN  "
      ]
     },
     "execution_count": 6,
     "metadata": {},
     "output_type": "execute_result"
    }
   ],
   "source": [
    "prices.head()"
   ]
  },
  {
   "cell_type": "markdown",
   "metadata": {},
   "source": [
    "## Adjust and Calculate Returns"
   ]
  },
  {
   "cell_type": "code",
   "execution_count": 7,
   "metadata": {
    "collapsed": false
   },
   "outputs": [],
   "source": [
    "def adjust_prices(df):\n",
    "    '''Adjusts df prices for dividends and splits.'''\n",
    "    df['AdjFactor'] = df.groupby('symbol')['Adj Close'].shift(1) / df.groupby('symbol')['Close'].shift(1)\n",
    "    df['Open'] = df['Open'] * df['AdjFactor']\n",
    "    df['High'] = df['High'] * df['AdjFactor']\n",
    "    df['Low'] = df['Low'] * df['AdjFactor']\n",
    "    df['Close'] = df['Close'] * df['AdjFactor']\n",
    "    new_df = df[['sector', 'symbol', 'Open', 'High', 'Low', 'Close', 'Volume']]\n",
    "    new_df.columns = ['sector', 'symbol', 'open', 'high', 'low', 'close', 'volume']\n",
    "    return new_df\n",
    "\n",
    "def add_returns(df):\n",
    "    df['lastClose'] = df.groupby('symbol')['close'].shift(1)\n",
    "    df['ret_cc'] = np.log(df['close'] / df['lastClose'])\n",
    "    df['ret_oc'] = np.log(df['close'] / df['open'])\n",
    "    df['ret_co'] = np.log(df['open'] / df['lastClose'])\n",
    "    df.drop('lastClose', 1, inplace=True)\n",
    "    return df\n",
    "\n",
    "prices = adjust_prices(prices)\n",
    "prices = add_returns(prices)"
   ]
  },
  {
   "cell_type": "markdown",
   "metadata": {
    "collapsed": true
   },
   "source": [
    "## Beta Lags\n",
    "In its simplest form, the capital asset pricing model (CAPM) predicts that a security's expected return over a given period of time is equal to the return of the market times a beta parameter (usually set by linear regression analysis). Modifications of this model include:\n",
    "\n",
    "1. Allowing for \"excess return\" (alpha)\n",
    "1. Utilizing \"excess return,\" i.e., subtracting the risk free rate from all returns.\n",
    "1. Adding additional factors for the return of a stock's industry.\n",
    "1. Considering financial indicators of the health of the target company (price book ratios, market cap size, etc).\n",
    "\n",
    "When valuing small companies, many professional valuators believe that a \"beta lag\" exists. That is, they believe that last period's market return impacts this perod's security return. This effect is claimed to be more prevalent in smaller, less liquid securities.\n",
    "\n",
    "If this is true, it should be trivial to develop strategies which take advantage of this effect."
   ]
  },
  {
   "cell_type": "code",
   "execution_count": 8,
   "metadata": {
    "collapsed": false
   },
   "outputs": [],
   "source": [
    "def make_analysis_df(tic, history, stocks):\n",
    "    sector = stocks.loc[tic, 'sector']\n",
    "    security_df = history.loc[history['symbol'] == tic, 'ret_cc'].to_frame('security_return').reset_index()\n",
    "    sector_df = history.loc[history['symbol'] == sector, 'ret_cc'].to_frame('sector_return').reset_index()\n",
    "    market_df = history.loc[history['symbol'] == 'SPY', 'ret_cc'].to_frame('market_return').reset_index()\n",
    "    analysis_df = pd.merge(left = security_df, right = sector_df, on = 'Date', how = 'left')\n",
    "    analysis_df = pd.merge(left = analysis_df, right = market_df, on = 'Date', how = 'left')\n",
    "    return analysis_df\n",
    "\n",
    "\n",
    "def simple_beta(stocks, history):\n",
    "    to_analyze = history.loc[pd.notnull(history['sector']), 'symbol']\n",
    "    to_analyze = list(set(to_analyze)) # Convert to set to remove duplicates.\n",
    "    stocks['alpha'] = np.nan\n",
    "    stocks['beta_sector'] = np.nan\n",
    "    stocks['beta_market'] = np.nan\n",
    "    \n",
    "    for ticker in to_analyze:\n",
    "        analysis_df = make_analysis_df(ticker, history, stocks)\n",
    "        temp_model = sm.ols(formula='security_return ~ sector_return + market_return', data=analysis_df).fit()\n",
    "        stocks.loc[ticker, 'alpha'] = temp_model.params[0]\n",
    "        stocks.loc[ticker, 'beta_sector'] = temp_model.params[1]\n",
    "        stocks.loc[ticker, 'beta_market'] = temp_model.params[2]\n",
    "    \n",
    "    return stocks\n",
    "\n",
    "test_beta = simple_beta(universe, prices)"
   ]
  },
  {
   "cell_type": "code",
   "execution_count": 9,
   "metadata": {
    "collapsed": false
   },
   "outputs": [],
   "source": [
    "test_beta.to_csv('simple_beta_results.csv')"
   ]
  },
  {
   "cell_type": "markdown",
   "metadata": {},
   "source": [
    "# Let's do that all again with the package\n",
    "## Import Packages"
   ]
  },
  {
   "cell_type": "code",
   "execution_count": 10,
   "metadata": {
    "collapsed": true
   },
   "outputs": [],
   "source": [
    "import wmcm.functions as wmf"
   ]
  },
  {
   "cell_type": "code",
   "execution_count": 11,
   "metadata": {
    "collapsed": false
   },
   "outputs": [
    {
     "name": "stdout",
     "output_type": "stream",
     "text": [
      "Fuck off!\n"
     ]
    }
   ],
   "source": [
    "wmf.greg()"
   ]
  }
 ],
 "metadata": {
  "kernelspec": {
   "display_name": "Python 3",
   "language": "python",
   "name": "python3"
  },
  "language_info": {
   "codemirror_mode": {
    "name": "ipython",
    "version": 3
   },
   "file_extension": ".py",
   "mimetype": "text/x-python",
   "name": "python",
   "nbconvert_exporter": "python",
   "pygments_lexer": "ipython3",
   "version": "3.5.1"
  }
 },
 "nbformat": 4,
 "nbformat_minor": 0
}
