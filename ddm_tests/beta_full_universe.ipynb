{
 "cells": [
  {
   "cell_type": "markdown",
   "metadata": {},
   "source": [
    "# Full Universe Beta Calculation\n",
    "This notebook will study the parameters of 6 different weekly models:\n",
    "\n",
    "| Dep var: | With Earnings | Without Earnings |\n",
    "|:--------:|:-------------:|:----------------:|\n",
    "| ret_cc   | Model 1       | Model 2          |\n",
    "| ret_oc   | Model 3       | Model 4          |\n",
    "| ret_co   | Model 5       | Model 6          |\n",
    "\n",
    "The dependent variable will indicate the beginning and end of the testing period. ret_cc measures from close to close. ret_oc measures from open to close (i.e. while the market is open), etc.\n",
    "\n",
    "In even numbered models, the weeks of earnings releases and the subsequent weeks are removed from the data set.\n",
    "\n",
    "Each model will be run over the following time periods:\n",
    "\n",
    "1. 2011\n",
    "1. 2012\n",
    "1. 2013\n",
    "1. 2014\n",
    "1. 2015\n",
    "1. 2011 - 2015\n",
    "\n",
    "## Key Questions:\n",
    "\n",
    "1. Does the beta-lag effect exist in all models?\n",
    "1. Are the companies which display beta-lags consistent from year to year?\n",
    "1. Is the effect robust to earnings?\n",
    "1. Does it occur in both large and small companies?\n",
    "\n",
    "# Setup\n",
    "## Import Packages"
   ]
  },
  {
   "cell_type": "code",
   "execution_count": 1,
   "metadata": {
    "collapsed": true
   },
   "outputs": [],
   "source": [
    "import datetime as dt\n",
    "import pandas as pd\n",
    "import numpy as np\n",
    "from pandas_datareader import data\n",
    "import statsmodels.formula.api as sm\n",
    "import time\n",
    "import wmcm\n",
    "import finsymbols"
   ]
  },
  {
   "cell_type": "markdown",
   "metadata": {},
   "source": [
    "## Define Universe\n",
    "The tickers associated with the NYSE and the NASDAQ were pulled using the finsymbols package."
   ]
  },
  {
   "cell_type": "code",
   "execution_count": 2,
   "metadata": {
    "collapsed": false
   },
   "outputs": [
    {
     "data": {
      "text/html": [
       "<div>\n",
       "<table border=\"1\" class=\"dataframe\">\n",
       "  <thead>\n",
       "    <tr style=\"text-align: right;\">\n",
       "      <th></th>\n",
       "      <th>company</th>\n",
       "      <th>industry</th>\n",
       "      <th>sector</th>\n",
       "      <th>symbol</th>\n",
       "      <th>exchange</th>\n",
       "    </tr>\n",
       "  </thead>\n",
       "  <tbody>\n",
       "    <tr>\n",
       "      <th>0</th>\n",
       "      <td>3D Systems Corporation</td>\n",
       "      <td>Computer Software: Prepackaged Software</td>\n",
       "      <td>Technology</td>\n",
       "      <td>DDD</td>\n",
       "      <td>nyse</td>\n",
       "    </tr>\n",
       "    <tr>\n",
       "      <th>1</th>\n",
       "      <td>3M Company</td>\n",
       "      <td>Medical/Dental Instruments</td>\n",
       "      <td>Health Care</td>\n",
       "      <td>MMM</td>\n",
       "      <td>nyse</td>\n",
       "    </tr>\n",
       "    <tr>\n",
       "      <th>2</th>\n",
       "      <td>500.com Limited</td>\n",
       "      <td>Services-Misc. Amusement &amp; Recreation</td>\n",
       "      <td>Consumer Services</td>\n",
       "      <td>WBAI</td>\n",
       "      <td>nyse</td>\n",
       "    </tr>\n",
       "    <tr>\n",
       "      <th>3</th>\n",
       "      <td>58.com Inc.</td>\n",
       "      <td>Computer Software: Programming</td>\n",
       "      <td>Technology</td>\n",
       "      <td>WUBA</td>\n",
       "      <td>nyse</td>\n",
       "    </tr>\n",
       "    <tr>\n",
       "      <th>4</th>\n",
       "      <td>A.H. Belo Corporation</td>\n",
       "      <td>Newspapers/Magazines</td>\n",
       "      <td>Consumer Services</td>\n",
       "      <td>AHC</td>\n",
       "      <td>nyse</td>\n",
       "    </tr>\n",
       "  </tbody>\n",
       "</table>\n",
       "</div>"
      ],
      "text/plain": [
       "                  company                                 industry  \\\n",
       "0  3D Systems Corporation  Computer Software: Prepackaged Software   \n",
       "1              3M Company               Medical/Dental Instruments   \n",
       "2         500.com Limited    Services-Misc. Amusement & Recreation   \n",
       "3             58.com Inc.           Computer Software: Programming   \n",
       "4   A.H. Belo Corporation                     Newspapers/Magazines   \n",
       "\n",
       "              sector symbol exchange  \n",
       "0         Technology    DDD     nyse  \n",
       "1        Health Care    MMM     nyse  \n",
       "2  Consumer Services   WBAI     nyse  \n",
       "3         Technology   WUBA     nyse  \n",
       "4  Consumer Services    AHC     nyse  "
      ]
     },
     "execution_count": 2,
     "metadata": {},
     "output_type": "execute_result"
    }
   ],
   "source": [
    "nyse = pd.DataFrame(finsymbols.get_nyse_symbols())\n",
    "nyse['exchange'] = 'nyse'\n",
    "nasdaq = pd.DataFrame(finsymbols.get_nasdaq_symbols())\n",
    "nasdaq['exchange'] = 'nasdaq'\n",
    "universe = pd.concat([nyse, nasdaq])\n",
    "universe['symbol'] = universe['symbol'].replace('.', '-')\n",
    "universe.head()"
   ]
  },
  {
   "cell_type": "markdown",
   "metadata": {},
   "source": [
    "## Pull Universe"
   ]
  },
  {
   "cell_type": "code",
   "execution_count": 3,
   "metadata": {
    "collapsed": false
   },
   "outputs": [],
   "source": [
    "# stocks = wmcm.Universe(universe['symbol'], 'SPY', interval='w', verbose=False)\n",
    "\n",
    "# stocks.save('pickle/full_price_history.p')\n",
    "\n",
    "stocks = wmcm.Universe.load('pickle/full_price_history.p')"
   ]
  },
  {
   "cell_type": "code",
   "execution_count": 4,
   "metadata": {
    "collapsed": false
   },
   "outputs": [
    {
     "data": {
      "text/plain": [
       "Stock : GOOG\n",
       "        Starting Date : 2011-01-01 00:00:00\n",
       "        Ending Date : 2015-12-31 00:00:00\n",
       "        Frequency : w"
      ]
     },
     "execution_count": 4,
     "metadata": {},
     "output_type": "execute_result"
    }
   ],
   "source": [
    "stocks['GOOG']"
   ]
  },
  {
   "cell_type": "code",
   "execution_count": 5,
   "metadata": {
    "collapsed": false
   },
   "outputs": [
    {
     "data": {
      "text/plain": [
       "Stock : YCB\n",
       "        Starting Date : 2011-01-01 00:00:00\n",
       "        Ending Date : 2015-12-31 00:00:00\n",
       "        Frequency : w"
      ]
     },
     "execution_count": 5,
     "metadata": {},
     "output_type": "execute_result"
    }
   ],
   "source": [
    "stocks['YCB']"
   ]
  },
  {
   "cell_type": "markdown",
   "metadata": {},
   "source": [
    "## Prepare Analysis Dataframes"
   ]
  },
  {
   "cell_type": "code",
   "execution_count": 6,
   "metadata": {
    "collapsed": false
   },
   "outputs": [],
   "source": [
    "for key in list(stocks.keys()): #list(stock.keys()) allows you to delete while iterating\n",
    "    if key=='market':\n",
    "        continue\n",
    "    if len(stocks[key].earnings_df.index)==0: # Have to remove stocks without earnings.\n",
    "        del stocks[key]\n",
    "    else:\n",
    "        stocks[key].analysis_df = stocks[key].adj_returns\n",
    "        stocks[key].analysis_df['lagged_ret_cc'] = stocks[key].analysis_df['ret_cc'].shift(1)\n",
    "        stocks[key].analysis_df = stocks[key].analysis_df.loc[(stocks[key].analysis_df['earnings_period'].shift(1)==False)]"
   ]
  },
  {
   "cell_type": "markdown",
   "metadata": {},
   "source": [
    "# Fit Models\n",
    "## Model 1"
   ]
  },
  {
   "cell_type": "code",
   "execution_count": 7,
   "metadata": {
    "collapsed": false
   },
   "outputs": [
    {
     "ename": "AttributeError",
     "evalue": "'Market' object has no attribute 'analysis_df'",
     "output_type": "error",
     "traceback": [
      "\u001b[1;31m---------------------------------------------------------------------------\u001b[0m",
      "\u001b[1;31mAttributeError\u001b[0m                            Traceback (most recent call last)",
      "\u001b[1;32m<ipython-input-7-eab3608ef031>\u001b[0m in \u001b[0;36m<module>\u001b[1;34m()\u001b[0m\n\u001b[1;32m----> 1\u001b[1;33m \u001b[0mstocks\u001b[0m\u001b[1;33m.\u001b[0m\u001b[0mfactor_model_all\u001b[0m\u001b[1;33m(\u001b[0m\u001b[1;34m'ret_cc ~ ret_cc_market + lagged_ret_cc'\u001b[0m\u001b[1;33m,\u001b[0m \u001b[0mfilter_earnings\u001b[0m\u001b[1;33m=\u001b[0m\u001b[1;32mTrue\u001b[0m\u001b[1;33m)\u001b[0m\u001b[1;33m\u001b[0m\u001b[0m\n\u001b[0m\u001b[0;32m      2\u001b[0m \u001b[0mstocks\u001b[0m\u001b[1;33m.\u001b[0m\u001b[0mmodel_1\u001b[0m \u001b[1;33m=\u001b[0m \u001b[0mstocks\u001b[0m\u001b[1;33m.\u001b[0m\u001b[0mresults\u001b[0m\u001b[1;33m\u001b[0m\u001b[0m\n\u001b[0;32m      3\u001b[0m \u001b[0mstocks\u001b[0m\u001b[1;33m.\u001b[0m\u001b[0mmodel_1\u001b[0m\u001b[1;33m[\u001b[0m\u001b[1;34m'GOOG'\u001b[0m\u001b[1;33m]\u001b[0m\u001b[1;33m\u001b[0m\u001b[0m\n",
      "\u001b[1;32m/home/daniel/wmcm/wmcm/core/Universe.py\u001b[0m in \u001b[0;36mfactor_model_all\u001b[1;34m(self, formula, filter_earnings)\u001b[0m\n\u001b[0;32m     47\u001b[0m                 \u001b[1;32mcontinue\u001b[0m\u001b[1;33m\u001b[0m\u001b[0m\n\u001b[0;32m     48\u001b[0m             \u001b[1;32melse\u001b[0m\u001b[1;33m:\u001b[0m\u001b[1;33m\u001b[0m\u001b[0m\n\u001b[1;32m---> 49\u001b[1;33m                 \u001b[0mself\u001b[0m\u001b[1;33m.\u001b[0m\u001b[0mresults\u001b[0m\u001b[1;33m[\u001b[0m\u001b[0mtic\u001b[0m\u001b[1;33m]\u001b[0m \u001b[1;33m=\u001b[0m \u001b[0mself\u001b[0m\u001b[1;33m.\u001b[0m\u001b[0mfactor_model\u001b[0m\u001b[1;33m(\u001b[0m\u001b[0mtic\u001b[0m\u001b[1;33m,\u001b[0m \u001b[0mformula\u001b[0m\u001b[1;33m,\u001b[0m \u001b[0mfilter_earnings\u001b[0m \u001b[1;33m=\u001b[0m \u001b[0mfilter_earnings\u001b[0m\u001b[1;33m,\u001b[0m \u001b[0menv_lev\u001b[0m\u001b[1;33m=\u001b[0m\u001b[1;36m3\u001b[0m\u001b[1;33m)\u001b[0m\u001b[1;33m\u001b[0m\u001b[0m\n\u001b[0m\u001b[0;32m     50\u001b[0m \u001b[1;33m\u001b[0m\u001b[0m\n\u001b[0;32m     51\u001b[0m     \u001b[1;32mdef\u001b[0m \u001b[0mfactor_model\u001b[0m\u001b[1;33m(\u001b[0m\u001b[0mself\u001b[0m\u001b[1;33m,\u001b[0m \u001b[0mtic\u001b[0m\u001b[1;33m,\u001b[0m \u001b[0mformula\u001b[0m\u001b[1;33m,\u001b[0m \u001b[0mfilter_earnings\u001b[0m\u001b[1;33m=\u001b[0m\u001b[1;32mTrue\u001b[0m\u001b[1;33m,\u001b[0m \u001b[0menv_lev\u001b[0m\u001b[1;33m=\u001b[0m\u001b[1;36m2\u001b[0m\u001b[1;33m)\u001b[0m\u001b[1;33m:\u001b[0m\u001b[1;33m\u001b[0m\u001b[0m\n",
      "\u001b[1;32m/home/daniel/wmcm/wmcm/core/Universe.py\u001b[0m in \u001b[0;36mfactor_model\u001b[1;34m(self, tic, formula, filter_earnings, env_lev)\u001b[0m\n\u001b[0;32m     59\u001b[0m \u001b[1;33m\u001b[0m\u001b[0m\n\u001b[0;32m     60\u001b[0m         \u001b[1;31m# create DataFrame\u001b[0m\u001b[1;33m\u001b[0m\u001b[1;33m\u001b[0m\u001b[0m\n\u001b[1;32m---> 61\u001b[1;33m         data = pd.merge(left = self[tic].analysis_df, right = self['market'].analysis_df,\n\u001b[0m\u001b[0;32m     62\u001b[0m             left_index = True, right_index = True, suffixes = ('', '_market'), how = 'left')\n\u001b[0;32m     63\u001b[0m \u001b[1;33m\u001b[0m\u001b[0m\n",
      "\u001b[1;31mAttributeError\u001b[0m: 'Market' object has no attribute 'analysis_df'"
     ]
    }
   ],
   "source": [
    "stocks.factor_model_all('ret_cc ~ ret_cc_market + lagged_ret_cc', filter_earnings=True)\n",
    "stocks.model_1 = stocks.results\n",
    "stocks.model_1['GOOG']"
   ]
  },
  {
   "cell_type": "code",
   "execution_count": null,
   "metadata": {
    "collapsed": false
   },
   "outputs": [],
   "source": []
  }
 ],
 "metadata": {
  "kernelspec": {
   "display_name": "Python 3",
   "language": "python",
   "name": "python3"
  },
  "language_info": {
   "codemirror_mode": {
    "name": "ipython",
    "version": 3
   },
   "file_extension": ".py",
   "mimetype": "text/x-python",
   "name": "python",
   "nbconvert_exporter": "python",
   "pygments_lexer": "ipython3",
   "version": "3.5.1"
  }
 },
 "nbformat": 4,
 "nbformat_minor": 0
}
