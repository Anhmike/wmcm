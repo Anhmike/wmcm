{
 "cells": [
  {
   "cell_type": "markdown",
   "metadata": {},
   "source": [
    "# Beta Lag Effects\n",
    "\n",
    "In a traditional cap-m formulation, a security's return is blah blah blah. Lots of people know this. Add this later.\n",
    "\n",
    "Some people claim beta lag effects exist. I'm here to find out.\n",
    "\n",
    "## Duff & Phelps Valuation Handbook Methodology\n",
    "\n",
    "The Duff & Phelps 2016 Valuation Handbook -- Guide to Cost of Capital is commonly cited by valuation experts. It states that a \"beta lag\" effect exists. A security's return in this period depends on the market return in this period and the security's return in a prior period.\n",
    "\n",
    "### Lag effects\n",
    "\n",
    "> **For all but the largest companies, the prices of individual stocks tend to react in part to movements in the overall market with a lag. The smaller the company, generally the greater the lag in the price reaction.** This does not necessarily imply that the market itself is wholly inefficient, although the market for some stocks is more efficient than for other stocks. Large companies tend to be followed by more analysts and are owned by more institutional investors than are small-cap companies. Therefore, large-cap companies tend to react more quickly to changes in the economy or changes in the business.\n",
    "\n",
    "> Because of the lag […], traditional OLS betas tend to understate systematic risk. A sum beta consists of a multiple regression of a stock's current month's excess returns [...][and] the market's previous month's excess returns, and then a summing of the resulting coefficients. This helps to capture more fully the lagged effect of co-movement in a company's returns with returns on the market.”\n",
    "\n",
    "Valuators take the concept of Beta qua the concept of Beta, but if material beta lag effects exist, then it should be trivial to estimate future price movements.\n",
    "\n",
    "Several examples are included from the book:\n",
    "\n",
    "| Company | Market Cap ($MM) | OLS Beta | Sum Beta | Difference|\n",
    "|:-------:|:----------------:|:--------:|:--------:|:---------:|\n",
    "|AT&T, Inc.|211,690.32|0.36|0.36|0.00|\n",
    "|The Boeing Company|96,872.933|1.01|1.05|0.04|\n",
    "|FedEx Corporation|41,063.916|1.22|1.3|0.08|\n",
    "|Lululemon Athletica Inc.|7,269.908|0.81|0.93|0.12|\n",
    "|Steven Madden, Ltd.|1,891.08|1.02|1.35|0.33|\n",
    "|Briggs & Stratton Corporation|765.093|1.01|1.36|0.35|\n",
    "|Almost Family Inc.|375.533|1.42|1.87|0.45|\n",
    "|StealthGas, Inc.|142.422|1.34|1.57|0.24|\n",
    "\n",
    "For the \\$100MM to \\$1B range, it appears as though there is a very significant, positive sum beta.\n",
    "\n",
    "### Forward Looking Betas\n",
    "\n",
    "The book argues that, in a predictive sense, betas move toward the market or industry average. Bloomberg and Value Line weight historical betas with the market beta (1.0 by definition) by 2/3 and 1/3, respectively. A more sophisticated technique, Vasicek shrinkage, is also suggested, but not completely explained. It sometimes weights betas to the market average and sometimes to a sector's industry average. Case law and common sense suggest the latter is perhaps more accurate.\n",
    "\n",
    "\n",
    "### Other Details\n",
    "\n",
    "For Duff & Phelps, periods are defined as months, but they state that weeks should give similar results. They are based on a five year historical sample. Returns are defined as \"excess returns,\" that is, in excess of the risk free rate. They state that using full returns (rather than excess returns) will produce similar results. Given how stable and low the risk free rate has been lately, I'm skipping this step.\n",
    "\n",
    "# Full Universe Weekly Beta Calculation\n",
    "This notebook will study the parameters of 6 different weekly models:\n",
    "\n",
    "| Dep var: | With Earnings | Without Earnings |\n",
    "|:--------:|:-------------:|:----------------:|\n",
    "| ret_cc   | Model 1       | Model 2          |\n",
    "| ret_oc   | Model 3       | Model 4          |\n",
    "| ret_co   | Model 5       | Model 6          |\n",
    "\n",
    "The dependent variable will indicate the beginning and end of the testing period. ret_cc measures from close to close. ret_oc measures from open to close (i.e. while the market is open), etc.\n",
    "\n",
    "In even numbered models, the weeks of earnings releases and the subsequent weeks are removed from the data set.\n",
    "\n",
    "Each model will be run over the following time periods:\n",
    "\n",
    "1. 2011\n",
    "1. 2012\n",
    "1. 2013\n",
    "1. 2014\n",
    "1. 2015\n",
    "1. 2011 - 2015\n",
    "\n",
    "## Key Questions:\n",
    "\n",
    "1. Does the beta-lag effect exist in all models?\n",
    "1. Are the companies which display beta-lags consistent from year to year?\n",
    "1. Is the effect robust to earnings?\n",
    "1. Does it occur in both large and small companies?\n",
    "\n",
    "# Setup\n",
    "## Import Packages"
   ]
  },
  {
   "cell_type": "code",
   "execution_count": 1,
   "metadata": {
    "collapsed": false
   },
   "outputs": [],
   "source": [
    "import datetime as dt\n",
    "import pandas as pd\n",
    "import numpy as np\n",
    "from pandas_datareader import data\n",
    "import statsmodels.formula.api as sm\n",
    "import time\n",
    "import wmcm\n",
    "import seaborn as sns\n",
    "%matplotlib inline\n",
    "import pickle\n",
    "import finsymbols"
   ]
  },
  {
   "cell_type": "markdown",
   "metadata": {},
   "source": [
    "## Define Universe\n",
    "The tickers associated with the NYSE and the NASDAQ were pulled using the finsymbols package."
   ]
  },
  {
   "cell_type": "code",
   "execution_count": 2,
   "metadata": {
    "collapsed": false
   },
   "outputs": [
    {
     "data": {
      "text/html": [
       "<div>\n",
       "<table border=\"1\" class=\"dataframe\">\n",
       "  <thead>\n",
       "    <tr style=\"text-align: right;\">\n",
       "      <th></th>\n",
       "      <th>company</th>\n",
       "      <th>industry</th>\n",
       "      <th>sector</th>\n",
       "      <th>symbol</th>\n",
       "      <th>exchange</th>\n",
       "    </tr>\n",
       "  </thead>\n",
       "  <tbody>\n",
       "    <tr>\n",
       "      <th>0</th>\n",
       "      <td>3D Systems Corporation</td>\n",
       "      <td>Computer Software: Prepackaged Software</td>\n",
       "      <td>Technology</td>\n",
       "      <td>DDD</td>\n",
       "      <td>nyse</td>\n",
       "    </tr>\n",
       "    <tr>\n",
       "      <th>1</th>\n",
       "      <td>3M Company</td>\n",
       "      <td>Medical/Dental Instruments</td>\n",
       "      <td>Health Care</td>\n",
       "      <td>MMM</td>\n",
       "      <td>nyse</td>\n",
       "    </tr>\n",
       "    <tr>\n",
       "      <th>2</th>\n",
       "      <td>500.com Limited</td>\n",
       "      <td>Services-Misc. Amusement &amp; Recreation</td>\n",
       "      <td>Consumer Services</td>\n",
       "      <td>WBAI</td>\n",
       "      <td>nyse</td>\n",
       "    </tr>\n",
       "    <tr>\n",
       "      <th>3</th>\n",
       "      <td>58.com Inc.</td>\n",
       "      <td>Computer Software: Programming</td>\n",
       "      <td>Technology</td>\n",
       "      <td>WUBA</td>\n",
       "      <td>nyse</td>\n",
       "    </tr>\n",
       "    <tr>\n",
       "      <th>4</th>\n",
       "      <td>A.H. Belo Corporation</td>\n",
       "      <td>Newspapers/Magazines</td>\n",
       "      <td>Consumer Services</td>\n",
       "      <td>AHC</td>\n",
       "      <td>nyse</td>\n",
       "    </tr>\n",
       "  </tbody>\n",
       "</table>\n",
       "</div>"
      ],
      "text/plain": [
       "                  company                                 industry  \\\n",
       "0  3D Systems Corporation  Computer Software: Prepackaged Software   \n",
       "1              3M Company               Medical/Dental Instruments   \n",
       "2         500.com Limited    Services-Misc. Amusement & Recreation   \n",
       "3             58.com Inc.           Computer Software: Programming   \n",
       "4   A.H. Belo Corporation                     Newspapers/Magazines   \n",
       "\n",
       "              sector symbol exchange  \n",
       "0         Technology    DDD     nyse  \n",
       "1        Health Care    MMM     nyse  \n",
       "2  Consumer Services   WBAI     nyse  \n",
       "3         Technology   WUBA     nyse  \n",
       "4  Consumer Services    AHC     nyse  "
      ]
     },
     "execution_count": 2,
     "metadata": {},
     "output_type": "execute_result"
    }
   ],
   "source": [
    "nyse = pd.DataFrame(finsymbols.get_nyse_symbols())\n",
    "nyse['exchange'] = 'nyse'\n",
    "nasdaq = pd.DataFrame(finsymbols.get_nasdaq_symbols())\n",
    "nasdaq['exchange'] = 'nasdaq'\n",
    "universe = pd.concat([nyse, nasdaq])\n",
    "universe['symbol'] = universe['symbol'].replace('.', '-')\n",
    "universe.head()"
   ]
  },
  {
   "cell_type": "markdown",
   "metadata": {},
   "source": [
    "## Pull Universe"
   ]
  },
  {
   "cell_type": "code",
   "execution_count": 3,
   "metadata": {
    "collapsed": false
   },
   "outputs": [],
   "source": [
    "# Uncomment these lines the first time notebook run on computer. Full price data isn't uploaded to github.\n",
    "\n",
    "# stocks = wmcm.Universe(universe['symbol'], 'SPY', interval='w', verbose=False)\n",
    "# output = open('pickle/full_price_history.p', 'wb')\n",
    "# pickle.dump(stocks, output)\n",
    "# output.close()\n",
    "\n",
    "pkl_file = open('pickle/full_price_history.p', 'rb')\n",
    "stocks = pickle.load(pkl_file)\n",
    "pkl_file.close()"
   ]
  },
  {
   "cell_type": "code",
   "execution_count": 4,
   "metadata": {
    "collapsed": false
   },
   "outputs": [
    {
     "data": {
      "text/plain": [
       "Stock : GOOG\n",
       "        Starting Date : 2011-01-01 00:00:00\n",
       "        Ending Date : 2015-12-31 00:00:00\n",
       "        Frequency : w"
      ]
     },
     "execution_count": 4,
     "metadata": {},
     "output_type": "execute_result"
    }
   ],
   "source": [
    "stocks['GOOG']"
   ]
  },
  {
   "cell_type": "code",
   "execution_count": 5,
   "metadata": {
    "collapsed": false
   },
   "outputs": [
    {
     "data": {
      "text/plain": [
       "Stock : YCB\n",
       "        Starting Date : 2011-01-01 00:00:00\n",
       "        Ending Date : 2015-12-31 00:00:00\n",
       "        Frequency : w"
      ]
     },
     "execution_count": 5,
     "metadata": {},
     "output_type": "execute_result"
    }
   ],
   "source": [
    "stocks['YCB']"
   ]
  },
  {
   "cell_type": "markdown",
   "metadata": {},
   "source": [
    "## Prepare Analysis Dataframes"
   ]
  },
  {
   "cell_type": "code",
   "execution_count": 6,
   "metadata": {
    "collapsed": false
   },
   "outputs": [],
   "source": [
    "for key in list(stocks.keys()): #list(stock.keys()) allows you to delete while iterating\n",
    "    if key=='market':\n",
    "        continue\n",
    "    if len(stocks[key].earnings_df.index)==0: # Have to remove stocks without earnings.\n",
    "        del stocks[key]\n",
    "    else:\n",
    "        stocks[key].analysis_df = stocks[key].adj_returns\n",
    "        stocks[key].analysis_df['lagged_ret_cc'] = stocks[key].analysis_df['ret_cc'].shift(1)\n",
    "        stocks[key].analysis_df = stocks[key].analysis_df.loc[(stocks[key].analysis_df['earnings_period'].shift(1)==False)]\n",
    "\n",
    "stocks['market'].analysis_df = stocks['market'].adj_returns"
   ]
  },
  {
   "cell_type": "markdown",
   "metadata": {},
   "source": [
    "# Fit Models\n",
    "## Model 1"
   ]
  },
  {
   "cell_type": "code",
   "execution_count": 66,
   "metadata": {
    "collapsed": true
   },
   "outputs": [],
   "source": [
    "def add_m_cap(df):\n",
    "    df['market_cap'] = df.index.map(lambda x : stocks[x].market_cap)\n",
    "    df['units'] = df['market_cap'].astype('str').str[-1:]\n",
    "    df['market_cap'] = df['market_cap'].astype('str').str[:-1]\n",
    "    \n",
    "    df['new_units'] = np.nan\n",
    "    df.loc[df['units'] == 'B', 'new_units'] = 1000000000\n",
    "    df.loc[df['units'] == 'M', 'new_units'] = 1000000\n",
    "    \n",
    "    df['new_market_cap'] = pd.to_numeric(df['market_cap'], errors = 'coerce')\n",
    "    \n",
    "    df['new_market_cap'] = df['new_market_cap'] * df['new_units']\n",
    "    \n",
    "    df['market_cap'] = df['new_market_cap']\n",
    "    df.drop(['units', 'new_units', 'new_market_cap'], axis = 1, inplace = True)\n",
    "    df.columns = ['t_val', 'market_cap']\n",
    "    return df"
   ]
  },
  {
   "cell_type": "code",
   "execution_count": 67,
   "metadata": {
    "collapsed": false
   },
   "outputs": [
    {
     "name": "stdout",
     "output_type": "stream",
     "text": [
      "using a non-integer number instead of an integer will result in an error in the future\n"
     ]
    },
    {
     "data": {
      "text/plain": [
       "<matplotlib.axes._subplots.AxesSubplot at 0x7fb1194c55f8>"
      ]
     },
     "execution_count": 67,
     "metadata": {},
     "output_type": "execute_result"
    },
    {
     "data": {
      "image/png": "[encoded data removed]",
      "text/plain": [
       "<matplotlib.figure.Figure at 0x7fb11abc7f28>"
      ]
     },
     "metadata": {},
     "output_type": "display_data"
    }
   ],
   "source": [
    "stocks.factor_model_all('ret_cc ~ ret_cc_market + lagged_ret_cc', filter_earnings=False)\n",
    "stocks.model_1 = stocks.results\n",
    "plot_data = pd.DataFrame({stock : stocks.model_1[stock].params[2] for stock in stocks.keys() if stock != 'market'}, index=[0])\n",
    "plot_data = plot_data.transpose()\n",
    "plot_data = add_m_cap(plot_data)\n",
    "sns.distplot(plot_data['t_val'])"
   ]
  },
  {
   "cell_type": "code",
   "execution_count": 68,
   "metadata": {
    "collapsed": false
   },
   "outputs": [
    {
     "data": {
      "text/plain": [
       "<matplotlib.axes._subplots.AxesSubplot at 0x7fb11bb1c2e8>"
      ]
     },
     "execution_count": 68,
     "metadata": {},
     "output_type": "execute_result"
    },
    {
     "data": {
      "image/png": "[encoded data removed]",
      "text/plain": [
       "<matplotlib.figure.Figure at 0x7fb11483e128>"
      ]
     },
     "metadata": {},
     "output_type": "display_data"
    }
   ],
   "source": [
    "sns.regplot(x=plot_data['market_cap'], y=plot_data['t_val'], lowess=True)"
   ]
  },
  {
   "cell_type": "markdown",
   "metadata": {
    "collapsed": false
   },
   "source": [
    "## Model 2"
   ]
  },
  {
   "cell_type": "code",
   "execution_count": 8,
   "metadata": {
    "collapsed": false
   },
   "outputs": [
    {
     "name": "stdout",
     "output_type": "stream",
     "text": [
      "using a non-integer number instead of an integer will result in an error in the future\n"
     ]
    },
    {
     "data": {
      "text/plain": [
       "<matplotlib.axes._subplots.AxesSubplot at 0x7f56e1411518>"
      ]
     },
     "execution_count": 8,
     "metadata": {},
     "output_type": "execute_result"
    },
    {
     "data": {
      "image/png": "[encoded data removed]",
      "text/plain": [
       "<matplotlib.figure.Figure at 0x7f56e72ef240>"
      ]
     },
     "metadata": {},
     "output_type": "display_data"
    }
   ],
   "source": [
    "stocks.factor_model_all('ret_cc ~ ret_cc_market + lagged_ret_cc', filter_earnings=True)\n",
    "stocks.model_2 = stocks.results\n",
    "stocks.model_2['GOOG'].params\n",
    "plot_data = pd.DataFrame({stock : stocks.model_2[stock].params[2] for stock in stocks.keys() if stock != 'market'}, index=[0])\n",
    "plot_data = plot_data.transpose()\n",
    "sns.distplot(plot_data)"
   ]
  },
  {
   "cell_type": "markdown",
   "metadata": {},
   "source": [
    "## Model 3"
   ]
  },
  {
   "cell_type": "code",
   "execution_count": 9,
   "metadata": {
    "collapsed": false
   },
   "outputs": [
    {
     "name": "stdout",
     "output_type": "stream",
     "text": [
      "using a non-integer number instead of an integer will result in an error in the future\n"
     ]
    },
    {
     "data": {
      "text/plain": [
       "<matplotlib.axes._subplots.AxesSubplot at 0x7f56d9d400b8>"
      ]
     },
     "execution_count": 9,
     "metadata": {},
     "output_type": "execute_result"
    },
    {
     "data": {
      "image/png": "[encoded data removed]",
      "text/plain": [
       "<matplotlib.figure.Figure at 0x7f56e13e3780>"
      ]
     },
     "metadata": {},
     "output_type": "display_data"
    }
   ],
   "source": [
    "stocks.factor_model_all('ret_oc ~ ret_oc_market + lagged_ret_cc', filter_earnings=False)\n",
    "stocks.model_3 = stocks.results\n",
    "stocks.model_3['GOOG'].params\n",
    "plot_data = pd.DataFrame({stock : stocks.model_3[stock].params[2] for stock in stocks.keys() if stock != 'market'}, index=[0])\n",
    "plot_data = plot_data.transpose()\n",
    "sns.distplot(plot_data)"
   ]
  },
  {
   "cell_type": "markdown",
   "metadata": {
    "collapsed": false
   },
   "source": [
    "## Model 4"
   ]
  },
  {
   "cell_type": "code",
   "execution_count": 10,
   "metadata": {
    "collapsed": false
   },
   "outputs": [
    {
     "name": "stdout",
     "output_type": "stream",
     "text": [
      "using a non-integer number instead of an integer will result in an error in the future\n"
     ]
    },
    {
     "data": {
      "text/plain": [
       "<matplotlib.axes._subplots.AxesSubplot at 0x7f56d4d2a518>"
      ]
     },
     "execution_count": 10,
     "metadata": {},
     "output_type": "execute_result"
    },
    {
     "data": {
      "image/png": "[encoded data removed]",
      "text/plain": [
       "<matplotlib.figure.Figure at 0x7f56d9ce3208>"
      ]
     },
     "metadata": {},
     "output_type": "display_data"
    }
   ],
   "source": [
    "stocks.factor_model_all('ret_oc ~ ret_oc_market + lagged_ret_cc', filter_earnings=True)\n",
    "stocks.model_4 = stocks.results\n",
    "stocks.model_4['GOOG'].params\n",
    "plot_data = pd.DataFrame({stock : stocks.model_4[stock].params[2] for stock in stocks.keys() if stock != 'market'}, index=[0])\n",
    "plot_data = plot_data.transpose()\n",
    "sns.distplot(plot_data)"
   ]
  },
  {
   "cell_type": "markdown",
   "metadata": {},
   "source": [
    "## Model 5"
   ]
  },
  {
   "cell_type": "code",
   "execution_count": 11,
   "metadata": {
    "collapsed": false
   },
   "outputs": [
    {
     "name": "stdout",
     "output_type": "stream",
     "text": [
      "using a non-integer number instead of an integer will result in an error in the future\n"
     ]
    },
    {
     "data": {
      "text/plain": [
       "<matplotlib.axes._subplots.AxesSubplot at 0x7f56d1183c88>"
      ]
     },
     "execution_count": 11,
     "metadata": {},
     "output_type": "execute_result"
    },
    {
     "data": {
      "image/png": "[encoded data removed]",
      "text/plain": [
       "<matplotlib.figure.Figure at 0x7f56d9bcd358>"
      ]
     },
     "metadata": {},
     "output_type": "display_data"
    }
   ],
   "source": [
    "stocks.factor_model_all('ret_co ~ ret_co_market + lagged_ret_cc', filter_earnings=False)\n",
    "stocks.model_5 = stocks.results\n",
    "stocks.model_5['GOOG'].params\n",
    "plot_data = pd.DataFrame({stock : stocks.model_5[stock].params[2] for stock in stocks.keys() if stock != 'market'}, index=[0])\n",
    "plot_data = plot_data.transpose()\n",
    "sns.distplot(plot_data)"
   ]
  },
  {
   "cell_type": "markdown",
   "metadata": {
    "collapsed": false
   },
   "source": [
    "## Model 6"
   ]
  },
  {
   "cell_type": "code",
   "execution_count": 12,
   "metadata": {
    "collapsed": false
   },
   "outputs": [
    {
     "name": "stdout",
     "output_type": "stream",
     "text": [
      "using a non-integer number instead of an integer will result in an error in the future\n"
     ]
    },
    {
     "data": {
      "text/plain": [
       "<matplotlib.axes._subplots.AxesSubplot at 0x7f56cd9b16d8>"
      ]
     },
     "execution_count": 12,
     "metadata": {},
     "output_type": "execute_result"
    },
    {
     "data": {
      "image/png": "[encoded data removed]",
      "text/plain": [
       "<matplotlib.figure.Figure at 0x7f56d1183c18>"
      ]
     },
     "metadata": {},
     "output_type": "display_data"
    }
   ],
   "source": [
    "stocks.factor_model_all('ret_co ~ ret_co_market + lagged_ret_cc', filter_earnings=True)\n",
    "stocks.model_6 = stocks.results\n",
    "stocks.model_6['GOOG'].params\n",
    "plot_data = pd.DataFrame({stock : stocks.model_6[stock].params[2] for stock in stocks.keys() if stock != 'market'}, index=[0])\n",
    "plot_data = plot_data.transpose()\n",
    "sns.distplot(plot_data)"
   ]
  },
  {
   "cell_type": "markdown",
   "metadata": {},
   "source": [
    "# Analysis\n",
    "## Robustness Check\n",
    "\n",
    "Based on the whole-universe histograms, it appears as though, unlike the examples shown in the D&P textbook, the beta-lag coefficients are tightly distributed around zero. This appears to be the case across all models. Before doing anything else, I'm curious how robust the D&P estimates are to the implemented model specification (weeks instead of months). Model 1 is displayed across the following stocks.\n",
    "\n",
    "### Lululemon Athletica Inc. (LULU)"
   ]
  },
  {
   "cell_type": "code",
   "execution_count": 13,
   "metadata": {
    "collapsed": false
   },
   "outputs": [
    {
     "data": {
      "text/plain": [
       "Intercept       -0.000590\n",
       "ret_cc_market    1.220327\n",
       "lagged_ret_cc   -0.108409\n",
       "dtype: float64"
      ]
     },
     "execution_count": 13,
     "metadata": {},
     "output_type": "execute_result"
    }
   ],
   "source": [
    "stocks.model_1['LULU'].params"
   ]
  },
  {
   "cell_type": "code",
   "execution_count": 14,
   "metadata": {
    "collapsed": false
   },
   "outputs": [
    {
     "data": {
      "text/plain": [
       "Intercept       -0.160835\n",
       "ret_cc_market    6.613079\n",
       "lagged_ret_cc   -1.600283\n",
       "dtype: float64"
      ]
     },
     "execution_count": 14,
     "metadata": {},
     "output_type": "execute_result"
    }
   ],
   "source": [
    "stocks.model_1['LULU'].tvalues"
   ]
  },
  {
   "cell_type": "markdown",
   "metadata": {},
   "source": [
    "### Steven Madden, LTD. (SHOO)"
   ]
  },
  {
   "cell_type": "code",
   "execution_count": 15,
   "metadata": {
    "collapsed": false
   },
   "outputs": [
    {
     "data": {
      "text/plain": [
       "Intercept       -0.000242\n",
       "ret_cc_market    1.126691\n",
       "lagged_ret_cc   -0.127502\n",
       "dtype: float64"
      ]
     },
     "execution_count": 15,
     "metadata": {},
     "output_type": "execute_result"
    }
   ],
   "source": [
    "stocks.model_1['SHOO'].params"
   ]
  },
  {
   "cell_type": "code",
   "execution_count": 16,
   "metadata": {
    "collapsed": false
   },
   "outputs": [
    {
     "data": {
      "text/plain": [
       "Intercept       -0.102660\n",
       "ret_cc_market    9.626318\n",
       "lagged_ret_cc   -2.234113\n",
       "dtype: float64"
      ]
     },
     "execution_count": 16,
     "metadata": {},
     "output_type": "execute_result"
    }
   ],
   "source": [
    "stocks.model_1['SHOO'].tvalues"
   ]
  },
  {
   "cell_type": "markdown",
   "metadata": {},
   "source": [
    "### Briggs & Stratton Corporation (BGG)"
   ]
  },
  {
   "cell_type": "code",
   "execution_count": 17,
   "metadata": {
    "collapsed": false
   },
   "outputs": [
    {
     "data": {
      "text/plain": [
       "Intercept       -0.003951\n",
       "ret_cc_market    1.346291\n",
       "lagged_ret_cc   -0.059646\n",
       "dtype: float64"
      ]
     },
     "execution_count": 17,
     "metadata": {},
     "output_type": "execute_result"
    }
   ],
   "source": [
    "stocks.model_1['BGG'].params"
   ]
  },
  {
   "cell_type": "code",
   "execution_count": 18,
   "metadata": {
    "collapsed": false
   },
   "outputs": [
    {
     "data": {
      "text/plain": [
       "Intercept        -1.871988\n",
       "ret_cc_market    12.304669\n",
       "lagged_ret_cc    -1.041728\n",
       "dtype: float64"
      ]
     },
     "execution_count": 18,
     "metadata": {},
     "output_type": "execute_result"
    }
   ],
   "source": [
    "stocks.model_1['BGG'].tvalues"
   ]
  },
  {
   "cell_type": "markdown",
   "metadata": {},
   "source": [
    "### Almost Family Inc. (AFAM)"
   ]
  },
  {
   "cell_type": "code",
   "execution_count": 19,
   "metadata": {
    "collapsed": false
   },
   "outputs": [
    {
     "data": {
      "text/plain": [
       "Intercept       -0.000738\n",
       "ret_cc_market    1.257646\n",
       "lagged_ret_cc   -0.057361\n",
       "dtype: float64"
      ]
     },
     "execution_count": 19,
     "metadata": {},
     "output_type": "execute_result"
    }
   ],
   "source": [
    "stocks.model_1['AFAM'].params"
   ]
  },
  {
   "cell_type": "code",
   "execution_count": 20,
   "metadata": {
    "collapsed": false
   },
   "outputs": [
    {
     "data": {
      "text/plain": [
       "Intercept       -0.222757\n",
       "ret_cc_market    7.623387\n",
       "lagged_ret_cc   -0.809474\n",
       "dtype: float64"
      ]
     },
     "execution_count": 20,
     "metadata": {},
     "output_type": "execute_result"
    }
   ],
   "source": [
    "stocks.model_1['AFAM'].tvalues"
   ]
  },
  {
   "cell_type": "markdown",
   "metadata": {},
   "source": [
    "### StealthGas, Inc. (GASS)"
   ]
  },
  {
   "cell_type": "code",
   "execution_count": 21,
   "metadata": {
    "collapsed": false
   },
   "outputs": [
    {
     "data": {
      "text/plain": [
       "Intercept       -0.005185\n",
       "ret_cc_market    1.136124\n",
       "lagged_ret_cc    0.087225\n",
       "dtype: float64"
      ]
     },
     "execution_count": 21,
     "metadata": {},
     "output_type": "execute_result"
    }
   ],
   "source": [
    "stocks.model_1['GASS'].params"
   ]
  },
  {
   "cell_type": "code",
   "execution_count": 22,
   "metadata": {
    "collapsed": false
   },
   "outputs": [
    {
     "data": {
      "text/plain": [
       "Intercept       -1.705856\n",
       "ret_cc_market    7.483085\n",
       "lagged_ret_cc    1.514782\n",
       "dtype: float64"
      ]
     },
     "execution_count": 22,
     "metadata": {},
     "output_type": "execute_result"
    }
   ],
   "source": [
    "stocks.model_1['GASS'].tvalues"
   ]
  },
  {
   "cell_type": "markdown",
   "metadata": {},
   "source": [
    "Most of these lagged t-values do not appear to be significant and fall on both sides of zero.\n",
    "\n",
    "At this point, I'm curious if the concept of \"sum beta\" has any validity in valuation. I need to refactor with only models 1 and 2, add a measure of market cap so I can focus on particular universes of stocks and run F-tests to see if the lagged_ret_cc variable should be included in beta. If it can, then we can use it to make infinite money in the stock market. If it can't, then I can acheive notoriety by disproving a valuation concept. Muahahahahaha.\n",
    "\n",
    "# Experiment to look at market cap"
   ]
  },
  {
   "cell_type": "code",
   "execution_count": 23,
   "metadata": {
    "collapsed": false
   },
   "outputs": [],
   "source": [
    "stocks_test = wmcm.Universe(['LULU', 'AFAM', 'GASS'], 'SPY', interval = 'w', verbose = False)"
   ]
  },
  {
   "cell_type": "code",
   "execution_count": 24,
   "metadata": {
    "collapsed": false
   },
   "outputs": [
    {
     "data": {
      "text/plain": [
       "'447.81M'"
      ]
     },
     "execution_count": 24,
     "metadata": {},
     "output_type": "execute_result"
    }
   ],
   "source": [
    "stocks_test['AFAM'].market_cap"
   ]
  }
 ],
 "metadata": {
  "kernelspec": {
   "display_name": "Python 3",
   "language": "python",
   "name": "python3"
  },
  "language_info": {
   "codemirror_mode": {
    "name": "ipython",
    "version": 3
   },
   "file_extension": ".py",
   "mimetype": "text/x-python",
   "name": "python",
   "nbconvert_exporter": "python",
   "pygments_lexer": "ipython3",
   "version": "3.5.1"
  }
 },
 "nbformat": 4,
 "nbformat_minor": 0
}
