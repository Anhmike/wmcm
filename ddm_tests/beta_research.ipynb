{
 "cells": [
  {
   "cell_type": "markdown",
   "metadata": {},
   "source": [
    "# Beta Lag Research\n",
    "## Import Packages"
   ]
  },
  {
   "cell_type": "code",
   "execution_count": 1,
   "metadata": {
    "collapsed": true
   },
   "outputs": [],
   "source": [
    "import datetime as dt\n",
    "import pandas as pd\n",
    "import numpy as np\n",
    "from pandas_datareader import data\n",
    "import statsmodels.formula.api as sm\n",
    "import time\n",
    "import wmcm"
   ]
  },
  {
   "cell_type": "markdown",
   "metadata": {},
   "source": [
    "## Load Universe\n",
    "I created a CSV listing all stocks included in SPDR’s sector funds as of January 24th, 2016. It is loaded as a pandas dataframe. In order to make calls to Yahoo, all periods are replaced with hyphens.\n",
    "\n",
    "We also pull all sector tickers and SPY as a proxy for the market as a whole."
   ]
  },
  {
   "cell_type": "code",
   "execution_count": 2,
   "metadata": {
    "collapsed": false
   },
   "outputs": [
    {
     "data": {
      "text/html": [
       "<div>\n",
       "<table border=\"1\" class=\"dataframe\">\n",
       "  <thead>\n",
       "    <tr style=\"text-align: right;\">\n",
       "      <th></th>\n",
       "      <th>company_name</th>\n",
       "      <th>index_weight</th>\n",
       "      <th>sector</th>\n",
       "      <th>sector_name</th>\n",
       "    </tr>\n",
       "  </thead>\n",
       "  <tbody>\n",
       "    <tr>\n",
       "      <th>PG</th>\n",
       "      <td>Procter &amp; Gamble</td>\n",
       "      <td>11.90%</td>\n",
       "      <td>XLP</td>\n",
       "      <td>Consumper Staples</td>\n",
       "    </tr>\n",
       "    <tr>\n",
       "      <th>KO</th>\n",
       "      <td>Coca-Cola Co</td>\n",
       "      <td>9.31%</td>\n",
       "      <td>XLP</td>\n",
       "      <td>Consumper Staples</td>\n",
       "    </tr>\n",
       "    <tr>\n",
       "      <th>PM</th>\n",
       "      <td>Philip Morris International</td>\n",
       "      <td>7.61%</td>\n",
       "      <td>XLP</td>\n",
       "      <td>Consumper Staples</td>\n",
       "    </tr>\n",
       "    <tr>\n",
       "      <th>CVS</th>\n",
       "      <td>CVS Health Corporation</td>\n",
       "      <td>6.16%</td>\n",
       "      <td>XLP</td>\n",
       "      <td>Consumper Staples</td>\n",
       "    </tr>\n",
       "    <tr>\n",
       "      <th>MO</th>\n",
       "      <td>Altria Group Inc</td>\n",
       "      <td>5.84%</td>\n",
       "      <td>XLP</td>\n",
       "      <td>Consumper Staples</td>\n",
       "    </tr>\n",
       "  </tbody>\n",
       "</table>\n",
       "</div>"
      ],
      "text/plain": [
       "                    company_name index_weight sector        sector_name\n",
       "PG              Procter & Gamble       11.90%    XLP  Consumper Staples\n",
       "KO                  Coca-Cola Co        9.31%    XLP  Consumper Staples\n",
       "PM   Philip Morris International        7.61%    XLP  Consumper Staples\n",
       "CVS       CVS Health Corporation        6.16%    XLP  Consumper Staples\n",
       "MO              Altria Group Inc        5.84%    XLP  Consumper Staples"
      ]
     },
     "execution_count": 2,
     "metadata": {},
     "output_type": "execute_result"
    }
   ],
   "source": [
    "universe_stocks = pd.read_csv('inputs/stocks.csv', index_col='symbol')\n",
    "universe_stocks.index = map(lambda x: x.replace('.', '-'), universe_stocks.index)\n",
    "\n",
    "universe_sectors = pd.read_csv('inputs/sectors.csv', index_col='symbol')\n",
    "universe_sectors.index = map(lambda x: x.replace('.', '-'), universe_sectors.index)\n",
    "\n",
    "# limited to a few stocks\n",
    "# universe_stocks = universe_stocks.ix[['GOOG', 'PM', 'XOM']]\n",
    "universe_stocks.head()"
   ]
  },
  {
   "cell_type": "markdown",
   "metadata": {},
   "source": [
    "## Pull Price History\n",
    "\n",
    "Price history is pulled from Yahoo into separate Stock instances. Stocks were pulled from January 1st 2010 through December 31st, 2015."
   ]
  },
  {
   "cell_type": "code",
   "execution_count": 5,
   "metadata": {
    "collapsed": false,
    "scrolled": true
   },
   "outputs": [
    {
     "name": "stdout",
     "output_type": "stream",
     "text": [
      "ValueError: CCL\n"
     ]
    },
    {
     "name": "stderr",
     "output_type": "stream",
     "text": [
      "/Users/chriswhite1/Dropbox/White Morgan Capital Management/wmcm/wmcm/wmcm/core/stock.py:24: UserWarning: No Earnings Data found for FOX!\n",
      "  warnings.warn(\"No Earnings Data found for {}!\".format(self.ticker))\n",
      "/Users/chriswhite1/Dropbox/White Morgan Capital Management/wmcm/wmcm/wmcm/core/stock.py:24: UserWarning: No Earnings Data found for DISCK!\n",
      "  warnings.warn(\"No Earnings Data found for {}!\".format(self.ticker))\n"
     ]
    },
    {
     "name": "stdout",
     "output_type": "stream",
     "text": [
      "ValueError: DISCA\n",
      "ValueError: EOG\n",
      "ValueError: BHI\n",
      "ValueError: APA\n",
      "ValueError: DVN\n",
      "ValueError: OKE\n"
     ]
    },
    {
     "name": "stderr",
     "output_type": "stream",
     "text": [
      "/Users/chriswhite1/Dropbox/White Morgan Capital Management/wmcm/wmcm/wmcm/core/stock.py:24: UserWarning: No Earnings Data found for BRK-b!\n",
      "  warnings.warn(\"No Earnings Data found for {}!\".format(self.ticker))\n"
     ]
    },
    {
     "name": "stdout",
     "output_type": "stream",
     "text": [
      "OtherError: WLTW\n",
      "ValueError: REGN\n",
      "ValueError: GWW\n",
      "ValueError: CHRW\n",
      "ValueError: LYB\n",
      "ValueError: CBG\n",
      "ValueError: ADP\n",
      "ValueError: PNW\n"
     ]
    }
   ],
   "source": [
    "# stocks = {ticker : wmcm.Stock(ticker, interval = 'w') for ticker in universe_stocks.index}\n",
    "stocks = {}\n",
    "for ticker in universe_stocks.index:\n",
    "    time.sleep(1)\n",
    "    try:\n",
    "        stocks[ticker] = wmcm.Stock(ticker, interval = 'w')\n",
    "        if len(stocks[ticker].earnings_df)<1:\n",
    "            del stocks[ticker]\n",
    "    except ValueError:\n",
    "        print('ValueError: {}'.format(ticker))\n",
    "    except:\n",
    "        print('OtherError: {}'.format(ticker))\n",
    "\n",
    "\n",
    "market = wmcm.Market('SPY', interval = 'w')"
   ]
  },
  {
   "cell_type": "markdown",
   "metadata": {},
   "source": [
    "## Calculate Betas on Full Sample"
   ]
  },
  {
   "cell_type": "code",
   "execution_count": 6,
   "metadata": {
    "collapsed": false
   },
   "outputs": [
    {
     "data": {
      "text/html": [
       "<div>\n",
       "<table border=\"1\" class=\"dataframe\">\n",
       "  <thead>\n",
       "    <tr style=\"text-align: right;\">\n",
       "      <th></th>\n",
       "      <th>security_return</th>\n",
       "      <th>earnings_week</th>\n",
       "      <th>security_return_lag</th>\n",
       "      <th>earnings_week_lag</th>\n",
       "      <th>market_return</th>\n",
       "    </tr>\n",
       "    <tr>\n",
       "      <th>Date</th>\n",
       "      <th></th>\n",
       "      <th></th>\n",
       "      <th></th>\n",
       "      <th></th>\n",
       "      <th></th>\n",
       "    </tr>\n",
       "  </thead>\n",
       "  <tbody>\n",
       "    <tr>\n",
       "      <th>2011-01-03</th>\n",
       "      <td>NaN</td>\n",
       "      <td>False</td>\n",
       "      <td>NaN</td>\n",
       "      <td>NaN</td>\n",
       "      <td>NaN</td>\n",
       "    </tr>\n",
       "    <tr>\n",
       "      <th>2011-01-10</th>\n",
       "      <td>NaN</td>\n",
       "      <td>False</td>\n",
       "      <td>NaN</td>\n",
       "      <td>False</td>\n",
       "      <td>NaN</td>\n",
       "    </tr>\n",
       "    <tr>\n",
       "      <th>2011-01-18</th>\n",
       "      <td>-0.019984</td>\n",
       "      <td>True</td>\n",
       "      <td>NaN</td>\n",
       "      <td>False</td>\n",
       "      <td>-0.007219</td>\n",
       "    </tr>\n",
       "    <tr>\n",
       "      <th>2011-01-24</th>\n",
       "      <td>-0.017876</td>\n",
       "      <td>False</td>\n",
       "      <td>-0.019984</td>\n",
       "      <td>True</td>\n",
       "      <td>-0.005076</td>\n",
       "    </tr>\n",
       "    <tr>\n",
       "      <th>2011-01-31</th>\n",
       "      <td>0.016486</td>\n",
       "      <td>False</td>\n",
       "      <td>-0.017876</td>\n",
       "      <td>False</td>\n",
       "      <td>0.026501</td>\n",
       "    </tr>\n",
       "  </tbody>\n",
       "</table>\n",
       "</div>"
      ],
      "text/plain": [
       "            security_return earnings_week  security_return_lag  \\\n",
       "Date                                                             \n",
       "2011-01-03              NaN         False                  NaN   \n",
       "2011-01-10              NaN         False                  NaN   \n",
       "2011-01-18        -0.019984          True                  NaN   \n",
       "2011-01-24        -0.017876         False            -0.019984   \n",
       "2011-01-31         0.016486         False            -0.017876   \n",
       "\n",
       "           earnings_week_lag  market_return  \n",
       "Date                                         \n",
       "2011-01-03               NaN            NaN  \n",
       "2011-01-10             False            NaN  \n",
       "2011-01-18             False      -0.007219  \n",
       "2011-01-24              True      -0.005076  \n",
       "2011-01-31             False       0.026501  "
      ]
     },
     "execution_count": 6,
     "metadata": {},
     "output_type": "execute_result"
    }
   ],
   "source": [
    "def make_analysis_df(tic, stocks, market):\n",
    "    security_df = stocks[tic].adj_returns.loc[:, ['ret_cc', 'earnings_week']]\n",
    "    security_df.columns = ['security_return', 'earnings_week']\n",
    "    security_df['security_return_lag'] = security_df['security_return'].shift(1)\n",
    "    security_df['earnings_week_lag'] = security_df['earnings_week'].shift(1)\n",
    "    market_df = market.adj_returns.loc[:, 'ret_cc'].to_frame('market_return').reset_index()\n",
    "    analysis_df = pd.merge(left = security_df, right = market_df, left_index = True, right_on = 'Date', how = 'left')\n",
    "    analysis_df.set_index('Date', inplace = True)\n",
    "    \n",
    "    return analysis_df\n",
    "\n",
    "\n",
    "make_analysis_df('GOOG', stocks, market).head()"
   ]
  },
  {
   "cell_type": "code",
   "execution_count": 7,
   "metadata": {
    "collapsed": true
   },
   "outputs": [],
   "source": [
    "def calc_beta(df, include_earnings=True):\n",
    "    if not include_earnings:\n",
    "        df = df.loc[(df['earnings_week'] == False)]\n",
    "        df = df.loc[(df['earnings_week_lag'] == False)]\n",
    "    model = sm.ols(formula='security_return ~ market_return + security_return_lag', data=df).fit()\n",
    "    \n",
    "    return model\n",
    "\n"
   ]
  },
  {
   "cell_type": "code",
   "execution_count": null,
   "metadata": {
    "collapsed": false
   },
   "outputs": [],
   "source": [
    "calc_beta(make_analysis_df('GOOG', stocks, market), include_earnings = False).params"
   ]
  },
  {
   "cell_type": "code",
   "execution_count": null,
   "metadata": {
    "collapsed": false
   },
   "outputs": [],
   "source": [
    "calc_beta(make_analysis_df('GOOG', stocks, market), include_earnings = True).params"
   ]
  },
  {
   "cell_type": "code",
   "execution_count": 9,
   "metadata": {
    "collapsed": false
   },
   "outputs": [],
   "source": [
    "def analyze_stocks(stocks, market, uni=universe_stocks):\n",
    "    uni['w_e_alpha'] = np.nan\n",
    "    uni['w_e_beta_market'] = np.nan\n",
    "    uni['w_e_beta_sec_lag'] = np.nan\n",
    "    uni['wo_e_alpha'] = np.nan\n",
    "    uni['wo_e_beta_market'] = np.nan\n",
    "    uni['wo_e_beta_sec_lag'] = np.nan\n",
    "    \n",
    "    for tic in stocks.keys():\n",
    "        w_model = calc_beta(make_analysis_df(tic, stocks, market), include_earnings = True)\n",
    "        uni['w_e_alpha'] = w_model.params[0]\n",
    "        uni['w_e_beta_market'] = w_model.params[1]\n",
    "        uni['w_e_beta_sec_lag'] = w_model.params[2]\n",
    "        wo_model = calc_beta(make_analysis_df(tic, stocks, market), include_earnings = True)\n",
    "        uni['wo_e_alpha'] = wo_model.params[0]\n",
    "        uni['wo_e_beta_market'] = wo_model.params[1]\n",
    "        uni['wo_e_beta_sec_lag'] = wo_model.params[2]\n",
    "    \n",
    "    return uni\n",
    "\n",
    "results = analyze_stocks(stocks, market)"
   ]
  },
  {
   "cell_type": "code",
   "execution_count": 11,
   "metadata": {
    "collapsed": false
   },
   "outputs": [],
   "source": [
    "results.to_csv('first_pass_results.csv')"
   ]
  },
  {
   "cell_type": "code",
   "execution_count": null,
   "metadata": {
    "collapsed": true
   },
   "outputs": [],
   "source": []
  }
 ],
 "metadata": {
  "kernelspec": {
   "display_name": "Python 3",
   "language": "python",
   "name": "python3"
  },
  "language_info": {
   "codemirror_mode": {
    "name": "ipython",
    "version": 3
   },
   "file_extension": ".py",
   "mimetype": "text/x-python",
   "name": "python",
   "nbconvert_exporter": "python",
   "pygments_lexer": "ipython3",
   "version": "3.5.1"
  }
 },
 "nbformat": 4,
 "nbformat_minor": 0
}
