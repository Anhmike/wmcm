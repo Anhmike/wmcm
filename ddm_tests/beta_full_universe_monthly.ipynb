{
 "cells": [
  {
   "cell_type": "markdown",
   "metadata": {},
   "source": [
    "# Beta Lag Effects - Monthly Version\n",
    "\n",
    "In a traditional cap-m formulation, a security's return is blah blah blah. Lots of people know this. Add this later.\n",
    "\n",
    "Some people claim beta lag effects exist. I'm here to find out.\n",
    "\n",
    "## Duff & Phelps Valuation Handbook Methodology\n",
    "\n",
    "The Duff & Phelps 2016 Valuation Handbook -- Guide to Cost of Capital is commonly cited by valuation experts. It states that a \"beta lag\" effect exists. A security's return in this period depends on the market return in this period and the security's return in a prior period.\n",
    "\n",
    "### Lag effects\n",
    "\n",
    "> **For all but the largest companies, the prices of individual stocks tend to react in part to movements in the overall market with a lag. The smaller the company, generally the greater the lag in the price reaction.** This does not necessarily imply that the market itself is wholly inefficient, although the market for some stocks is more efficient than for other stocks. Large companies tend to be followed by more analysts and are owned by more institutional investors than are small-cap companies. Therefore, large-cap companies tend to react more quickly to changes in the economy or changes in the business.\n",
    "\n",
    "> Because of the lag […], traditional OLS betas tend to understate systematic risk. A sum beta consists of a multiple regression of a stock's current month's excess returns […] [and] the market's previous month's excess returns, and then a summing of the resulting coefficients. This helps to capture more fully the lagged effect of co-movement in a company's returns with returns on the market.”\n",
    "\n",
    "Valuators take the concept of Beta qua the concept of Beta, but if material beta lag effects exist, then it should be trivial to estimate future price movements.\n",
    "\n",
    "Several examples are included from the book:\n",
    "\n",
    "| Company | Market Cap ($MM) | OLS Beta | Sum Beta | Difference|\n",
    "|:-------:|:----------------:|:--------:|:--------:|:---------:|\n",
    "|AT&T, Inc.|211,690.32|0.36|0.36|0.00|\n",
    "|The Boeing Company|96,872.933|1.01|1.05|0.04|\n",
    "|FedEx Corporation|41,063.916|1.22|1.3|0.08|\n",
    "|Lululemon Athletica Inc.|7,269.908|0.81|0.93|0.12|\n",
    "|Steven Madden, Ltd.|1,891.08|1.02|1.35|0.33|\n",
    "|Briggs & Stratton Corporation|765.093|1.01|1.36|0.35|\n",
    "|Almost Family Inc.|375.533|1.42|1.87|0.45|\n",
    "|StealthGas, Inc.|142.422|1.34|1.57|0.24|\n",
    "\n",
    "For the \\$100MM to \\$1B range, it appears as though there is a very significant, positive sum beta.\n",
    "\n",
    "### Forward Looking Betas\n",
    "\n",
    "The book argues that, in a predictive sense, betas move toward the market or industry average. Bloomberg and Value Line weight historical betas with the market beta (1.0 by definition) by 2/3 and 1/3, respectively. A more sophisticated technique, Vasicek shrinkage, is also suggested, but not completely explained. It sometimes weights betas to the market average and sometimes to a sector's industry average. Case law and common sense suggest the latter is perhaps more accurate.\n",
    "\n",
    "\n",
    "### Other Details\n",
    "\n",
    "For Duff & Phelps, periods are defined as months, but they state that weeks should give similar results. They are based on a five year historical sample. Returns are defined as \"excess returns,\" that is, in excess of the risk free rate. They state that using full returns (rather than excess returns) will produce similar results. Given how stable and low the risk free rate has been lately, I'm skipping this step.\n",
    "\n",
    "# Full Universe Weekly Beta Calculation\n",
    "This notebook will study the parameters of 6 different weekly models:\n",
    "\n",
    "| Dep var: | With Earnings | Without Earnings |\n",
    "|:--------:|:-------------:|:----------------:|\n",
    "| ret_cc   | Model 1       | Model 2          |\n",
    "| ret_oc   | Model 3       | Model 4          |\n",
    "| ret_co   | Model 5       | Model 6          |\n",
    "\n",
    "The dependent variable will indicate the beginning and end of the testing period. ret_cc measures from close to close. ret_oc measures from open to close (i.e. while the market is open), etc.\n",
    "\n",
    "In even numbered models, the weeks of earnings releases and the subsequent weeks are removed from the data set.\n",
    "\n",
    "Each model will be run over the following time periods:\n",
    "\n",
    "1. 2011\n",
    "1. 2012\n",
    "1. 2013\n",
    "1. 2014\n",
    "1. 2015\n",
    "1. 2011 - 2015\n",
    "\n",
    "## Key Questions:\n",
    "\n",
    "1. Does the beta-lag effect exist in all models?\n",
    "1. Are the companies which display beta-lags consistent from year to year?\n",
    "1. Is the effect robust to earnings?\n",
    "1. Does it occur in both large and small companies?\n",
    "\n",
    "# Setup\n",
    "## Import Packages"
   ]
  },
  {
   "cell_type": "code",
   "execution_count": 1,
   "metadata": {
    "collapsed": false
   },
   "outputs": [],
   "source": [
    "import datetime as dt\n",
    "import pandas as pd\n",
    "import numpy as np\n",
    "from pandas_datareader import data\n",
    "import statsmodels.formula.api as sm\n",
    "import time\n",
    "import wmcm\n",
    "import seaborn as sns\n",
    "%matplotlib inline\n",
    "import pickle\n",
    "import finsymbols"
   ]
  },
  {
   "cell_type": "markdown",
   "metadata": {},
   "source": [
    "## Define Universe\n",
    "The tickers associated with the NYSE and the NASDAQ were pulled using the finsymbols package."
   ]
  },
  {
   "cell_type": "code",
   "execution_count": 2,
   "metadata": {
    "collapsed": false
   },
   "outputs": [
    {
     "data": {
      "text/html": [
       "<div>\n",
       "<table border=\"1\" class=\"dataframe\">\n",
       "  <thead>\n",
       "    <tr style=\"text-align: right;\">\n",
       "      <th></th>\n",
       "      <th>company</th>\n",
       "      <th>industry</th>\n",
       "      <th>sector</th>\n",
       "      <th>symbol</th>\n",
       "      <th>exchange</th>\n",
       "    </tr>\n",
       "  </thead>\n",
       "  <tbody>\n",
       "    <tr>\n",
       "      <th>0</th>\n",
       "      <td>3D Systems Corporation</td>\n",
       "      <td>Computer Software: Prepackaged Software</td>\n",
       "      <td>Technology</td>\n",
       "      <td>DDD</td>\n",
       "      <td>nyse</td>\n",
       "    </tr>\n",
       "    <tr>\n",
       "      <th>1</th>\n",
       "      <td>3M Company</td>\n",
       "      <td>Medical/Dental Instruments</td>\n",
       "      <td>Health Care</td>\n",
       "      <td>MMM</td>\n",
       "      <td>nyse</td>\n",
       "    </tr>\n",
       "    <tr>\n",
       "      <th>2</th>\n",
       "      <td>500.com Limited</td>\n",
       "      <td>Services-Misc. Amusement &amp; Recreation</td>\n",
       "      <td>Consumer Services</td>\n",
       "      <td>WBAI</td>\n",
       "      <td>nyse</td>\n",
       "    </tr>\n",
       "    <tr>\n",
       "      <th>3</th>\n",
       "      <td>58.com Inc.</td>\n",
       "      <td>Computer Software: Programming</td>\n",
       "      <td>Technology</td>\n",
       "      <td>WUBA</td>\n",
       "      <td>nyse</td>\n",
       "    </tr>\n",
       "    <tr>\n",
       "      <th>4</th>\n",
       "      <td>A.H. Belo Corporation</td>\n",
       "      <td>Newspapers/Magazines</td>\n",
       "      <td>Consumer Services</td>\n",
       "      <td>AHC</td>\n",
       "      <td>nyse</td>\n",
       "    </tr>\n",
       "  </tbody>\n",
       "</table>\n",
       "</div>"
      ],
      "text/plain": [
       "                  company                                 industry  \\\n",
       "0  3D Systems Corporation  Computer Software: Prepackaged Software   \n",
       "1              3M Company               Medical/Dental Instruments   \n",
       "2         500.com Limited    Services-Misc. Amusement & Recreation   \n",
       "3             58.com Inc.           Computer Software: Programming   \n",
       "4   A.H. Belo Corporation                     Newspapers/Magazines   \n",
       "\n",
       "              sector symbol exchange  \n",
       "0         Technology    DDD     nyse  \n",
       "1        Health Care    MMM     nyse  \n",
       "2  Consumer Services   WBAI     nyse  \n",
       "3         Technology   WUBA     nyse  \n",
       "4  Consumer Services    AHC     nyse  "
      ]
     },
     "execution_count": 2,
     "metadata": {},
     "output_type": "execute_result"
    }
   ],
   "source": [
    "nyse = pd.DataFrame(finsymbols.get_nyse_symbols())\n",
    "nyse['exchange'] = 'nyse'\n",
    "nasdaq = pd.DataFrame(finsymbols.get_nasdaq_symbols())\n",
    "nasdaq['exchange'] = 'nasdaq'\n",
    "universe = pd.concat([nyse, nasdaq])\n",
    "universe['symbol'] = universe['symbol'].replace('.', '-')\n",
    "universe.head()"
   ]
  },
  {
   "cell_type": "markdown",
   "metadata": {},
   "source": [
    "## Pull Universe"
   ]
  },
  {
   "cell_type": "code",
   "execution_count": 3,
   "metadata": {
    "collapsed": false
   },
   "outputs": [],
   "source": [
    "# Uncomment these lines the first time notebook run on computer. Full price data isn't uploaded to github.\n",
    "\n",
    "# stocks = wmcm.Universe(universe['symbol'], 'SPY', interval='m', verbose=False)\n",
    "# output = open('pickle/full_price_history_monthly.p', 'wb')\n",
    "# pickle.dump(stocks, output)\n",
    "# output.close()\n",
    "\n",
    "pkl_file = open('pickle/full_price_history_monthly.p', 'rb')\n",
    "stocks = pickle.load(pkl_file)\n",
    "pkl_file.close()"
   ]
  },
  {
   "cell_type": "code",
   "execution_count": 4,
   "metadata": {
    "collapsed": false
   },
   "outputs": [
    {
     "data": {
      "text/plain": [
       "Stock : GOOG\n",
       "        Starting Date : 2011-01-01 00:00:00\n",
       "        Ending Date : 2015-12-31 00:00:00\n",
       "        Frequency : m"
      ]
     },
     "execution_count": 4,
     "metadata": {},
     "output_type": "execute_result"
    }
   ],
   "source": [
    "stocks['GOOG']"
   ]
  },
  {
   "cell_type": "code",
   "execution_count": 5,
   "metadata": {
    "collapsed": false
   },
   "outputs": [
    {
     "data": {
      "text/plain": [
       "Stock : YCB\n",
       "        Starting Date : 2011-01-01 00:00:00\n",
       "        Ending Date : 2015-12-31 00:00:00\n",
       "        Frequency : m"
      ]
     },
     "execution_count": 5,
     "metadata": {},
     "output_type": "execute_result"
    }
   ],
   "source": [
    "stocks['YCB']"
   ]
  },
  {
   "cell_type": "markdown",
   "metadata": {},
   "source": [
    "## Prepare Analysis Dataframes"
   ]
  },
  {
   "cell_type": "code",
   "execution_count": 6,
   "metadata": {
    "collapsed": false
   },
   "outputs": [],
   "source": [
    "for key in list(stocks.keys()): #list(stock.keys()) allows you to delete while iterating\n",
    "    if key=='market':\n",
    "        continue\n",
    "    if len(stocks[key].earnings_df.index)==0: # Have to remove stocks without earnings.\n",
    "        del stocks[key]\n",
    "    else:\n",
    "        stocks[key].analysis_df = stocks[key].adj_returns\n",
    "        stocks[key].analysis_df['lagged_ret_cc'] = stocks[key].analysis_df['ret_cc'].shift(1)\n",
    "        stocks[key].analysis_df = stocks[key].analysis_df.loc[(stocks[key].analysis_df['earnings_period'].shift(1)==False)]\n",
    "\n",
    "stocks['market'].analysis_df = stocks['market'].adj_returns"
   ]
  },
  {
   "cell_type": "markdown",
   "metadata": {},
   "source": [
    "# Fit Models\n",
    "## Model 1"
   ]
  },
  {
   "cell_type": "code",
   "execution_count": 7,
   "metadata": {
    "collapsed": true
   },
   "outputs": [],
   "source": [
    "def add_m_cap(df):\n",
    "    df['market_cap'] = df.index.map(lambda x : stocks[x].market_cap)\n",
    "    df['units'] = df['market_cap'].astype('str').str[-1:]\n",
    "    df['market_cap'] = df['market_cap'].astype('str').str[:-1]\n",
    "    \n",
    "    df['new_units'] = np.nan\n",
    "    df.loc[df['units'] == 'B', 'new_units'] = 1000000000\n",
    "    df.loc[df['units'] == 'M', 'new_units'] = 1000000\n",
    "    \n",
    "    df['new_market_cap'] = pd.to_numeric(df['market_cap'], errors = 'coerce')\n",
    "    \n",
    "    df['new_market_cap'] = df['new_market_cap'] * df['new_units']\n",
    "    \n",
    "    df['market_cap'] = df['new_market_cap']\n",
    "    df.drop(['units', 'new_units', 'new_market_cap'], axis = 1, inplace = True)\n",
    "    df.columns = ['t_val', 'market_cap']\n",
    "    return df"
   ]
  },
  {
   "cell_type": "code",
   "execution_count": 13,
   "metadata": {
    "collapsed": false,
    "scrolled": true
   },
   "outputs": [
    {
     "ename": "PandasError",
     "evalue": "DataFrame constructor not properly called!",
     "output_type": "error",
     "traceback": [
      "\u001b[1;31m---------------------------------------------------------------------------\u001b[0m",
      "\u001b[1;31mPandasError\u001b[0m                               Traceback (most recent call last)",
      "\u001b[1;32m<ipython-input-13-75965b753273>\u001b[0m in \u001b[0;36m<module>\u001b[1;34m()\u001b[0m\n\u001b[0;32m     10\u001b[0m \u001b[0mstocks\u001b[0m\u001b[1;33m.\u001b[0m\u001b[0mmodel_1\u001b[0m \u001b[1;33m=\u001b[0m \u001b[0mstocks\u001b[0m\u001b[1;33m.\u001b[0m\u001b[0mresults\u001b[0m\u001b[1;33m\u001b[0m\u001b[0m\n\u001b[0;32m     11\u001b[0m \u001b[1;33m\u001b[0m\u001b[0m\n\u001b[1;32m---> 12\u001b[1;33m \u001b[0mplot_data\u001b[0m \u001b[1;33m=\u001b[0m \u001b[0mpd\u001b[0m\u001b[1;33m.\u001b[0m\u001b[0mDataFrame\u001b[0m\u001b[1;33m(\u001b[0m\u001b[0mstocks\u001b[0m\u001b[1;33m.\u001b[0m\u001b[0mmodel_1\u001b[0m\u001b[1;33m.\u001b[0m\u001b[0mkeys\u001b[0m\u001b[1;33m(\u001b[0m\u001b[1;33m)\u001b[0m\u001b[1;33m)\u001b[0m\u001b[1;33m\u001b[0m\u001b[0m\n\u001b[0m\u001b[0;32m     13\u001b[0m \u001b[1;33m\u001b[0m\u001b[0m\n\u001b[0;32m     14\u001b[0m \u001b[1;31m# plot_data = pd.DataFrame({stock : stocks.model_1[stock].params[2] for stock in stocks.model_1.keys() if stock != 'market'}, index=[0])\u001b[0m\u001b[1;33m\u001b[0m\u001b[1;33m\u001b[0m\u001b[0m\n",
      "\u001b[1;32m/home/daniel/anaconda3/lib/python3.5/site-packages/pandas/core/frame.py\u001b[0m in \u001b[0;36m__init__\u001b[1;34m(self, data, index, columns, dtype, copy)\u001b[0m\n\u001b[0;32m    300\u001b[0m                                          copy=False)\n\u001b[0;32m    301\u001b[0m             \u001b[1;32melse\u001b[0m\u001b[1;33m:\u001b[0m\u001b[1;33m\u001b[0m\u001b[0m\n\u001b[1;32m--> 302\u001b[1;33m                 \u001b[1;32mraise\u001b[0m \u001b[0mPandasError\u001b[0m\u001b[1;33m(\u001b[0m\u001b[1;34m'DataFrame constructor not properly called!'\u001b[0m\u001b[1;33m)\u001b[0m\u001b[1;33m\u001b[0m\u001b[0m\n\u001b[0m\u001b[0;32m    303\u001b[0m \u001b[1;33m\u001b[0m\u001b[0m\n\u001b[0;32m    304\u001b[0m         \u001b[0mNDFrame\u001b[0m\u001b[1;33m.\u001b[0m\u001b[0m__init__\u001b[0m\u001b[1;33m(\u001b[0m\u001b[0mself\u001b[0m\u001b[1;33m,\u001b[0m \u001b[0mmgr\u001b[0m\u001b[1;33m,\u001b[0m \u001b[0mfastpath\u001b[0m\u001b[1;33m=\u001b[0m\u001b[1;32mTrue\u001b[0m\u001b[1;33m)\u001b[0m\u001b[1;33m\u001b[0m\u001b[0m\n",
      "\u001b[1;31mPandasError\u001b[0m: DataFrame constructor not properly called!"
     ]
    }
   ],
   "source": [
    "stocks.factor_model_all('ret_cc ~ ret_cc_market + lagged_ret_cc', filter_earnings=False)"
   ]
  },
  {
   "cell_type": "code",
   "execution_count": 33,
   "metadata": {
    "collapsed": false
   },
   "outputs": [
    {
     "data": {
      "text/plain": [
       "<matplotlib.axes._subplots.AxesSubplot at 0x7f9a6b3b4f28>"
      ]
     },
     "execution_count": 33,
     "metadata": {},
     "output_type": "execute_result"
    },
    {
     "data": {
      "image/png": "[encoded data removed]",
      "text/plain": [
       "<matplotlib.figure.Figure at 0x7f9a718cda90>"
      ]
     },
     "metadata": {},
     "output_type": "display_data"
    }
   ],
   "source": [
    "# Remove stocks where model couldn't be run:\n",
    "for key in list(stocks.results.keys()):\n",
    "    if key=='market':\n",
    "        continue\n",
    "    if stocks.results == np.nan:\n",
    "        del stocks.results[key]\n",
    "\n",
    "stocks.model_1 = stocks.results\n",
    "\n",
    "plot_data = pd.DataFrame(index=stocks.model_1.keys())\n",
    "\n",
    "def add_t_val(x):\n",
    "    try:\n",
    "        return stocks.model_1[x].params[2]\n",
    "    except:\n",
    "        return np.nan\n",
    "    \n",
    "\n",
    "plot_data['t_val'] = plot_data.index.map(lambda x : add_t_val(x))\n",
    "plot_data = add_m_cap(plot_data)\n",
    "plot_data = plot_data.loc[plot_data['t_val'].notnull()]\n",
    "sns.distplot(plot_data['t_val'])"
   ]
  },
  {
   "cell_type": "code",
   "execution_count": 34,
   "metadata": {
    "collapsed": false
   },
   "outputs": [
    {
     "data": {
      "text/plain": [
       "<matplotlib.axes._subplots.AxesSubplot at 0x7f9a6ba815f8>"
      ]
     },
     "execution_count": 34,
     "metadata": {},
     "output_type": "execute_result"
    },
    {
     "data": {
      "image/png": "[encoded data removed]",
      "text/plain": [
       "<matplotlib.figure.Figure at 0x7f9a718cd7f0>"
      ]
     },
     "metadata": {},
     "output_type": "display_data"
    }
   ],
   "source": [
    "plot_data = plot_data.loc[plot_data['market_cap'].notnull()]\n",
    "sns.regplot(x='market_cap', y='t_val', data=plot_data.loc[(plot_data['market_cap']<1e11) & (plot_data['market_cap']>1e10)], lowess=True)"
   ]
  },
  {
   "cell_type": "markdown",
   "metadata": {
    "collapsed": false
   },
   "source": [
    "## Model 2\n",
    "Given the length of each observation, other models not run."
   ]
  },
  {
   "cell_type": "markdown",
   "metadata": {},
   "source": [
    "# Analysis\n",
    "## Robustness Check\n",
    "\n",
    "Based on the whole-universe histograms, it appears as though, unlike the examples shown in the D&P textbook, the beta-lag coefficients are tightly distributed around zero. This appears to be the case across all models. Before doing anything else, I'm curious how robust the D&P estimates are to the implemented model specification (weeks instead of months). Model 1 is displayed across the following stocks.\n",
    "\n",
    "### Lululemon Athletica Inc. (LULU)"
   ]
  },
  {
   "cell_type": "code",
   "execution_count": 49,
   "metadata": {
    "collapsed": false
   },
   "outputs": [
    {
     "data": {
      "text/html": [
       "<table class=\"simpletable\">\n",
       "<caption>OLS Regression Results</caption>\n",
       "<tr>\n",
       "  <th>Dep. Variable:</th>         <td>ret_cc</td>      <th>  R-squared:         </th> <td>   0.037</td>\n",
       "</tr>\n",
       "<tr>\n",
       "  <th>Model:</th>                   <td>OLS</td>       <th>  Adj. R-squared:    </th> <td>  -0.016</td>\n",
       "</tr>\n",
       "<tr>\n",
       "  <th>Method:</th>             <td>Least Squares</td>  <th>  F-statistic:       </th> <td>  0.6962</td>\n",
       "</tr>\n",
       "<tr>\n",
       "  <th>Date:</th>             <td>Thu, 14 Jul 2016</td> <th>  Prob (F-statistic):</th>  <td> 0.505</td> \n",
       "</tr>\n",
       "<tr>\n",
       "  <th>Time:</th>                 <td>15:06:27</td>     <th>  Log-Likelihood:    </th> <td>  33.396</td>\n",
       "</tr>\n",
       "<tr>\n",
       "  <th>No. Observations:</th>      <td>    39</td>      <th>  AIC:               </th> <td>  -60.79</td>\n",
       "</tr>\n",
       "<tr>\n",
       "  <th>Df Residuals:</th>          <td>    36</td>      <th>  BIC:               </th> <td>  -55.80</td>\n",
       "</tr>\n",
       "<tr>\n",
       "  <th>Df Model:</th>              <td>     2</td>      <th>                     </th>     <td> </td>   \n",
       "</tr>\n",
       "<tr>\n",
       "  <th>Covariance Type:</th>      <td>nonrobust</td>    <th>                     </th>     <td> </td>   \n",
       "</tr>\n",
       "</table>\n",
       "<table class=\"simpletable\">\n",
       "<tr>\n",
       "        <td></td>           <th>coef</th>     <th>std err</th>      <th>t</th>      <th>P>|t|</th> <th>[95.0% Conf. Int.]</th> \n",
       "</tr>\n",
       "<tr>\n",
       "  <th>Intercept</th>     <td>   -0.0019</td> <td>    0.017</td> <td>   -0.112</td> <td> 0.912</td> <td>   -0.037     0.033</td>\n",
       "</tr>\n",
       "<tr>\n",
       "  <th>ret_cc_market</th> <td>    0.6335</td> <td>    0.552</td> <td>    1.147</td> <td> 0.259</td> <td>   -0.487     1.754</td>\n",
       "</tr>\n",
       "<tr>\n",
       "  <th>lagged_ret_cc</th> <td>    0.0305</td> <td>    0.164</td> <td>    0.186</td> <td> 0.854</td> <td>   -0.302     0.363</td>\n",
       "</tr>\n",
       "</table>\n",
       "<table class=\"simpletable\">\n",
       "<tr>\n",
       "  <th>Omnibus:</th>       <td> 0.544</td> <th>  Durbin-Watson:     </th> <td>   2.077</td>\n",
       "</tr>\n",
       "<tr>\n",
       "  <th>Prob(Omnibus):</th> <td> 0.762</td> <th>  Jarque-Bera (JB):  </th> <td>   0.636</td>\n",
       "</tr>\n",
       "<tr>\n",
       "  <th>Skew:</th>          <td>-0.245</td> <th>  Prob(JB):          </th> <td>   0.728</td>\n",
       "</tr>\n",
       "<tr>\n",
       "  <th>Kurtosis:</th>      <td> 2.612</td> <th>  Cond. No.          </th> <td>    32.3</td>\n",
       "</tr>\n",
       "</table>"
      ],
      "text/plain": [
       "<class 'statsmodels.iolib.summary.Summary'>\n",
       "\"\"\"\n",
       "                            OLS Regression Results                            \n",
       "==============================================================================\n",
       "Dep. Variable:                 ret_cc   R-squared:                       0.037\n",
       "Model:                            OLS   Adj. R-squared:                 -0.016\n",
       "Method:                 Least Squares   F-statistic:                    0.6962\n",
       "Date:                Thu, 14 Jul 2016   Prob (F-statistic):              0.505\n",
       "Time:                        15:06:27   Log-Likelihood:                 33.396\n",
       "No. Observations:                  39   AIC:                            -60.79\n",
       "Df Residuals:                      36   BIC:                            -55.80\n",
       "Df Model:                           2                                         \n",
       "Covariance Type:            nonrobust                                         \n",
       "=================================================================================\n",
       "                    coef    std err          t      P>|t|      [95.0% Conf. Int.]\n",
       "---------------------------------------------------------------------------------\n",
       "Intercept        -0.0019      0.017     -0.112      0.912        -0.037     0.033\n",
       "ret_cc_market     0.6335      0.552      1.147      0.259        -0.487     1.754\n",
       "lagged_ret_cc     0.0305      0.164      0.186      0.854        -0.302     0.363\n",
       "==============================================================================\n",
       "Omnibus:                        0.544   Durbin-Watson:                   2.077\n",
       "Prob(Omnibus):                  0.762   Jarque-Bera (JB):                0.636\n",
       "Skew:                          -0.245   Prob(JB):                        0.728\n",
       "Kurtosis:                       2.612   Cond. No.                         32.3\n",
       "==============================================================================\n",
       "\n",
       "Warnings:\n",
       "[1] Standard Errors assume that the covariance matrix of the errors is correctly specified.\n",
       "\"\"\""
      ]
     },
     "execution_count": 49,
     "metadata": {},
     "output_type": "execute_result"
    }
   ],
   "source": [
    "stocks.model_1['LULU'].summary()"
   ]
  },
  {
   "cell_type": "markdown",
   "metadata": {},
   "source": [
    "### Steven Madden, LTD. (SHOO)"
   ]
  },
  {
   "cell_type": "code",
   "execution_count": 48,
   "metadata": {
    "collapsed": false
   },
   "outputs": [
    {
     "data": {
      "text/html": [
       "<table class=\"simpletable\">\n",
       "<caption>OLS Regression Results</caption>\n",
       "<tr>\n",
       "  <th>Dep. Variable:</th>         <td>ret_cc</td>      <th>  R-squared:         </th> <td>   0.264</td>\n",
       "</tr>\n",
       "<tr>\n",
       "  <th>Model:</th>                   <td>OLS</td>       <th>  Adj. R-squared:    </th> <td>   0.223</td>\n",
       "</tr>\n",
       "<tr>\n",
       "  <th>Method:</th>             <td>Least Squares</td>  <th>  F-statistic:       </th> <td>   6.443</td>\n",
       "</tr>\n",
       "<tr>\n",
       "  <th>Date:</th>             <td>Thu, 14 Jul 2016</td> <th>  Prob (F-statistic):</th>  <td>0.00406</td>\n",
       "</tr>\n",
       "<tr>\n",
       "  <th>Time:</th>                 <td>15:06:19</td>     <th>  Log-Likelihood:    </th> <td>  46.658</td>\n",
       "</tr>\n",
       "<tr>\n",
       "  <th>No. Observations:</th>      <td>    39</td>      <th>  AIC:               </th> <td>  -87.32</td>\n",
       "</tr>\n",
       "<tr>\n",
       "  <th>Df Residuals:</th>          <td>    36</td>      <th>  BIC:               </th> <td>  -82.33</td>\n",
       "</tr>\n",
       "<tr>\n",
       "  <th>Df Model:</th>              <td>     2</td>      <th>                     </th>     <td> </td>   \n",
       "</tr>\n",
       "<tr>\n",
       "  <th>Covariance Type:</th>      <td>nonrobust</td>    <th>                     </th>     <td> </td>   \n",
       "</tr>\n",
       "</table>\n",
       "<table class=\"simpletable\">\n",
       "<tr>\n",
       "        <td></td>           <th>coef</th>     <th>std err</th>      <th>t</th>      <th>P>|t|</th> <th>[95.0% Conf. Int.]</th> \n",
       "</tr>\n",
       "<tr>\n",
       "  <th>Intercept</th>     <td>    0.0138</td> <td>    0.013</td> <td>    1.071</td> <td> 0.291</td> <td>   -0.012     0.040</td>\n",
       "</tr>\n",
       "<tr>\n",
       "  <th>ret_cc_market</th> <td>    0.9139</td> <td>    0.356</td> <td>    2.564</td> <td> 0.015</td> <td>    0.191     1.637</td>\n",
       "</tr>\n",
       "<tr>\n",
       "  <th>lagged_ret_cc</th> <td>   -0.2694</td> <td>    0.137</td> <td>   -1.966</td> <td> 0.057</td> <td>   -0.547     0.009</td>\n",
       "</tr>\n",
       "</table>\n",
       "<table class=\"simpletable\">\n",
       "<tr>\n",
       "  <th>Omnibus:</th>       <td> 0.106</td> <th>  Durbin-Watson:     </th> <td>   1.187</td>\n",
       "</tr>\n",
       "<tr>\n",
       "  <th>Prob(Omnibus):</th> <td> 0.949</td> <th>  Jarque-Bera (JB):  </th> <td>   0.233</td>\n",
       "</tr>\n",
       "<tr>\n",
       "  <th>Skew:</th>          <td>-0.111</td> <th>  Prob(JB):          </th> <td>   0.890</td>\n",
       "</tr>\n",
       "<tr>\n",
       "  <th>Kurtosis:</th>      <td> 2.692</td> <th>  Cond. No.          </th> <td>    29.3</td>\n",
       "</tr>\n",
       "</table>"
      ],
      "text/plain": [
       "<class 'statsmodels.iolib.summary.Summary'>\n",
       "\"\"\"\n",
       "                            OLS Regression Results                            \n",
       "==============================================================================\n",
       "Dep. Variable:                 ret_cc   R-squared:                       0.264\n",
       "Model:                            OLS   Adj. R-squared:                  0.223\n",
       "Method:                 Least Squares   F-statistic:                     6.443\n",
       "Date:                Thu, 14 Jul 2016   Prob (F-statistic):            0.00406\n",
       "Time:                        15:06:19   Log-Likelihood:                 46.658\n",
       "No. Observations:                  39   AIC:                            -87.32\n",
       "Df Residuals:                      36   BIC:                            -82.33\n",
       "Df Model:                           2                                         \n",
       "Covariance Type:            nonrobust                                         \n",
       "=================================================================================\n",
       "                    coef    std err          t      P>|t|      [95.0% Conf. Int.]\n",
       "---------------------------------------------------------------------------------\n",
       "Intercept         0.0138      0.013      1.071      0.291        -0.012     0.040\n",
       "ret_cc_market     0.9139      0.356      2.564      0.015         0.191     1.637\n",
       "lagged_ret_cc    -0.2694      0.137     -1.966      0.057        -0.547     0.009\n",
       "==============================================================================\n",
       "Omnibus:                        0.106   Durbin-Watson:                   1.187\n",
       "Prob(Omnibus):                  0.949   Jarque-Bera (JB):                0.233\n",
       "Skew:                          -0.111   Prob(JB):                        0.890\n",
       "Kurtosis:                       2.692   Cond. No.                         29.3\n",
       "==============================================================================\n",
       "\n",
       "Warnings:\n",
       "[1] Standard Errors assume that the covariance matrix of the errors is correctly specified.\n",
       "\"\"\""
      ]
     },
     "execution_count": 48,
     "metadata": {},
     "output_type": "execute_result"
    }
   ],
   "source": [
    "stocks.model_1['SHOO'].summary()"
   ]
  },
  {
   "cell_type": "markdown",
   "metadata": {},
   "source": [
    "### Briggs & Stratton Corporation (BGG)"
   ]
  },
  {
   "cell_type": "code",
   "execution_count": 47,
   "metadata": {
    "collapsed": false
   },
   "outputs": [
    {
     "data": {
      "text/html": [
       "<table class=\"simpletable\">\n",
       "<caption>OLS Regression Results</caption>\n",
       "<tr>\n",
       "  <th>Dep. Variable:</th>         <td>ret_cc</td>      <th>  R-squared:         </th> <td>   0.091</td>\n",
       "</tr>\n",
       "<tr>\n",
       "  <th>Model:</th>                   <td>OLS</td>       <th>  Adj. R-squared:    </th> <td>   0.040</td>\n",
       "</tr>\n",
       "<tr>\n",
       "  <th>Method:</th>             <td>Least Squares</td>  <th>  F-statistic:       </th> <td>   1.795</td>\n",
       "</tr>\n",
       "<tr>\n",
       "  <th>Date:</th>             <td>Thu, 14 Jul 2016</td> <th>  Prob (F-statistic):</th>  <td> 0.181</td> \n",
       "</tr>\n",
       "<tr>\n",
       "  <th>Time:</th>                 <td>15:06:05</td>     <th>  Log-Likelihood:    </th> <td>  49.313</td>\n",
       "</tr>\n",
       "<tr>\n",
       "  <th>No. Observations:</th>      <td>    39</td>      <th>  AIC:               </th> <td>  -92.63</td>\n",
       "</tr>\n",
       "<tr>\n",
       "  <th>Df Residuals:</th>          <td>    36</td>      <th>  BIC:               </th> <td>  -87.63</td>\n",
       "</tr>\n",
       "<tr>\n",
       "  <th>Df Model:</th>              <td>     2</td>      <th>                     </th>     <td> </td>   \n",
       "</tr>\n",
       "<tr>\n",
       "  <th>Covariance Type:</th>      <td>nonrobust</td>    <th>                     </th>     <td> </td>   \n",
       "</tr>\n",
       "</table>\n",
       "<table class=\"simpletable\">\n",
       "<tr>\n",
       "        <td></td>           <th>coef</th>     <th>std err</th>      <th>t</th>      <th>P>|t|</th> <th>[95.0% Conf. Int.]</th> \n",
       "</tr>\n",
       "<tr>\n",
       "  <th>Intercept</th>     <td>   -0.0110</td> <td>    0.012</td> <td>   -0.926</td> <td> 0.361</td> <td>   -0.035     0.013</td>\n",
       "</tr>\n",
       "<tr>\n",
       "  <th>ret_cc_market</th> <td>    0.6129</td> <td>    0.339</td> <td>    1.809</td> <td> 0.079</td> <td>   -0.074     1.300</td>\n",
       "</tr>\n",
       "<tr>\n",
       "  <th>lagged_ret_cc</th> <td>   -0.0383</td> <td>    0.156</td> <td>   -0.246</td> <td> 0.807</td> <td>   -0.355     0.278</td>\n",
       "</tr>\n",
       "</table>\n",
       "<table class=\"simpletable\">\n",
       "<tr>\n",
       "  <th>Omnibus:</th>       <td> 0.433</td> <th>  Durbin-Watson:     </th> <td>   1.734</td>\n",
       "</tr>\n",
       "<tr>\n",
       "  <th>Prob(Omnibus):</th> <td> 0.805</td> <th>  Jarque-Bera (JB):  </th> <td>   0.587</td>\n",
       "</tr>\n",
       "<tr>\n",
       "  <th>Skew:</th>          <td>-0.165</td> <th>  Prob(JB):          </th> <td>   0.746</td>\n",
       "</tr>\n",
       "<tr>\n",
       "  <th>Kurtosis:</th>      <td> 2.498</td> <th>  Cond. No.          </th> <td>    29.9</td>\n",
       "</tr>\n",
       "</table>"
      ],
      "text/plain": [
       "<class 'statsmodels.iolib.summary.Summary'>\n",
       "\"\"\"\n",
       "                            OLS Regression Results                            \n",
       "==============================================================================\n",
       "Dep. Variable:                 ret_cc   R-squared:                       0.091\n",
       "Model:                            OLS   Adj. R-squared:                  0.040\n",
       "Method:                 Least Squares   F-statistic:                     1.795\n",
       "Date:                Thu, 14 Jul 2016   Prob (F-statistic):              0.181\n",
       "Time:                        15:06:05   Log-Likelihood:                 49.313\n",
       "No. Observations:                  39   AIC:                            -92.63\n",
       "Df Residuals:                      36   BIC:                            -87.63\n",
       "Df Model:                           2                                         \n",
       "Covariance Type:            nonrobust                                         \n",
       "=================================================================================\n",
       "                    coef    std err          t      P>|t|      [95.0% Conf. Int.]\n",
       "---------------------------------------------------------------------------------\n",
       "Intercept        -0.0110      0.012     -0.926      0.361        -0.035     0.013\n",
       "ret_cc_market     0.6129      0.339      1.809      0.079        -0.074     1.300\n",
       "lagged_ret_cc    -0.0383      0.156     -0.246      0.807        -0.355     0.278\n",
       "==============================================================================\n",
       "Omnibus:                        0.433   Durbin-Watson:                   1.734\n",
       "Prob(Omnibus):                  0.805   Jarque-Bera (JB):                0.587\n",
       "Skew:                          -0.165   Prob(JB):                        0.746\n",
       "Kurtosis:                       2.498   Cond. No.                         29.9\n",
       "==============================================================================\n",
       "\n",
       "Warnings:\n",
       "[1] Standard Errors assume that the covariance matrix of the errors is correctly specified.\n",
       "\"\"\""
      ]
     },
     "execution_count": 47,
     "metadata": {},
     "output_type": "execute_result"
    }
   ],
   "source": [
    "stocks.model_1['BGG'].summary()"
   ]
  },
  {
   "cell_type": "markdown",
   "metadata": {},
   "source": [
    "### Almost Family Inc. (AFAM)"
   ]
  },
  {
   "cell_type": "code",
   "execution_count": 45,
   "metadata": {
    "collapsed": false
   },
   "outputs": [
    {
     "data": {
      "text/html": [
       "<table class=\"simpletable\">\n",
       "<caption>OLS Regression Results</caption>\n",
       "<tr>\n",
       "  <th>Dep. Variable:</th>         <td>ret_cc</td>      <th>  R-squared:         </th> <td>   0.264</td>\n",
       "</tr>\n",
       "<tr>\n",
       "  <th>Model:</th>                   <td>OLS</td>       <th>  Adj. R-squared:    </th> <td>   0.223</td>\n",
       "</tr>\n",
       "<tr>\n",
       "  <th>Method:</th>             <td>Least Squares</td>  <th>  F-statistic:       </th> <td>   6.444</td>\n",
       "</tr>\n",
       "<tr>\n",
       "  <th>Date:</th>             <td>Thu, 14 Jul 2016</td> <th>  Prob (F-statistic):</th>  <td>0.00405</td>\n",
       "</tr>\n",
       "<tr>\n",
       "  <th>Time:</th>                 <td>15:05:46</td>     <th>  Log-Likelihood:    </th> <td>  33.336</td>\n",
       "</tr>\n",
       "<tr>\n",
       "  <th>No. Observations:</th>      <td>    39</td>      <th>  AIC:               </th> <td>  -60.67</td>\n",
       "</tr>\n",
       "<tr>\n",
       "  <th>Df Residuals:</th>          <td>    36</td>      <th>  BIC:               </th> <td>  -55.68</td>\n",
       "</tr>\n",
       "<tr>\n",
       "  <th>Df Model:</th>              <td>     2</td>      <th>                     </th>     <td> </td>   \n",
       "</tr>\n",
       "<tr>\n",
       "  <th>Covariance Type:</th>      <td>nonrobust</td>    <th>                     </th>     <td> </td>   \n",
       "</tr>\n",
       "</table>\n",
       "<table class=\"simpletable\">\n",
       "<tr>\n",
       "        <td></td>           <th>coef</th>     <th>std err</th>      <th>t</th>      <th>P>|t|</th> <th>[95.0% Conf. Int.]</th> \n",
       "</tr>\n",
       "<tr>\n",
       "  <th>Intercept</th>     <td>   -0.0242</td> <td>    0.019</td> <td>   -1.306</td> <td> 0.200</td> <td>   -0.062     0.013</td>\n",
       "</tr>\n",
       "<tr>\n",
       "  <th>ret_cc_market</th> <td>    1.5750</td> <td>    0.498</td> <td>    3.160</td> <td> 0.003</td> <td>    0.564     2.586</td>\n",
       "</tr>\n",
       "<tr>\n",
       "  <th>lagged_ret_cc</th> <td>    0.4041</td> <td>    0.198</td> <td>    2.039</td> <td> 0.049</td> <td>    0.002     0.806</td>\n",
       "</tr>\n",
       "</table>\n",
       "<table class=\"simpletable\">\n",
       "<tr>\n",
       "  <th>Omnibus:</th>       <td>10.599</td> <th>  Durbin-Watson:     </th> <td>   2.290</td>\n",
       "</tr>\n",
       "<tr>\n",
       "  <th>Prob(Omnibus):</th> <td> 0.005</td> <th>  Jarque-Bera (JB):  </th> <td>  12.158</td>\n",
       "</tr>\n",
       "<tr>\n",
       "  <th>Skew:</th>          <td> 0.822</td> <th>  Prob(JB):          </th> <td> 0.00229</td>\n",
       "</tr>\n",
       "<tr>\n",
       "  <th>Kurtosis:</th>      <td> 5.186</td> <th>  Cond. No.          </th> <td>    29.1</td>\n",
       "</tr>\n",
       "</table>"
      ],
      "text/plain": [
       "<class 'statsmodels.iolib.summary.Summary'>\n",
       "\"\"\"\n",
       "                            OLS Regression Results                            \n",
       "==============================================================================\n",
       "Dep. Variable:                 ret_cc   R-squared:                       0.264\n",
       "Model:                            OLS   Adj. R-squared:                  0.223\n",
       "Method:                 Least Squares   F-statistic:                     6.444\n",
       "Date:                Thu, 14 Jul 2016   Prob (F-statistic):            0.00405\n",
       "Time:                        15:05:46   Log-Likelihood:                 33.336\n",
       "No. Observations:                  39   AIC:                            -60.67\n",
       "Df Residuals:                      36   BIC:                            -55.68\n",
       "Df Model:                           2                                         \n",
       "Covariance Type:            nonrobust                                         \n",
       "=================================================================================\n",
       "                    coef    std err          t      P>|t|      [95.0% Conf. Int.]\n",
       "---------------------------------------------------------------------------------\n",
       "Intercept        -0.0242      0.019     -1.306      0.200        -0.062     0.013\n",
       "ret_cc_market     1.5750      0.498      3.160      0.003         0.564     2.586\n",
       "lagged_ret_cc     0.4041      0.198      2.039      0.049         0.002     0.806\n",
       "==============================================================================\n",
       "Omnibus:                       10.599   Durbin-Watson:                   2.290\n",
       "Prob(Omnibus):                  0.005   Jarque-Bera (JB):               12.158\n",
       "Skew:                           0.822   Prob(JB):                      0.00229\n",
       "Kurtosis:                       5.186   Cond. No.                         29.1\n",
       "==============================================================================\n",
       "\n",
       "Warnings:\n",
       "[1] Standard Errors assume that the covariance matrix of the errors is correctly specified.\n",
       "\"\"\""
      ]
     },
     "execution_count": 45,
     "metadata": {},
     "output_type": "execute_result"
    }
   ],
   "source": [
    "stocks.model_1['AFAM'].summary()"
   ]
  },
  {
   "cell_type": "markdown",
   "metadata": {},
   "source": [
    "### StealthGas, Inc. (GASS)"
   ]
  },
  {
   "cell_type": "code",
   "execution_count": 46,
   "metadata": {
    "collapsed": false
   },
   "outputs": [
    {
     "data": {
      "text/html": [
       "<table class=\"simpletable\">\n",
       "<caption>OLS Regression Results</caption>\n",
       "<tr>\n",
       "  <th>Dep. Variable:</th>         <td>ret_cc</td>      <th>  R-squared:         </th> <td>   0.204</td>\n",
       "</tr>\n",
       "<tr>\n",
       "  <th>Model:</th>                   <td>OLS</td>       <th>  Adj. R-squared:    </th> <td>   0.160</td>\n",
       "</tr>\n",
       "<tr>\n",
       "  <th>Method:</th>             <td>Least Squares</td>  <th>  F-statistic:       </th> <td>   4.618</td>\n",
       "</tr>\n",
       "<tr>\n",
       "  <th>Date:</th>             <td>Thu, 14 Jul 2016</td> <th>  Prob (F-statistic):</th>  <td>0.0164</td> \n",
       "</tr>\n",
       "<tr>\n",
       "  <th>Time:</th>                 <td>15:05:55</td>     <th>  Log-Likelihood:    </th> <td>  36.175</td>\n",
       "</tr>\n",
       "<tr>\n",
       "  <th>No. Observations:</th>      <td>    39</td>      <th>  AIC:               </th> <td>  -66.35</td>\n",
       "</tr>\n",
       "<tr>\n",
       "  <th>Df Residuals:</th>          <td>    36</td>      <th>  BIC:               </th> <td>  -61.36</td>\n",
       "</tr>\n",
       "<tr>\n",
       "  <th>Df Model:</th>              <td>     2</td>      <th>                     </th>     <td> </td>   \n",
       "</tr>\n",
       "<tr>\n",
       "  <th>Covariance Type:</th>      <td>nonrobust</td>    <th>                     </th>     <td> </td>   \n",
       "</tr>\n",
       "</table>\n",
       "<table class=\"simpletable\">\n",
       "<tr>\n",
       "        <td></td>           <th>coef</th>     <th>std err</th>      <th>t</th>      <th>P>|t|</th> <th>[95.0% Conf. Int.]</th> \n",
       "</tr>\n",
       "<tr>\n",
       "  <th>Intercept</th>     <td>   -0.0335</td> <td>    0.017</td> <td>   -1.966</td> <td> 0.057</td> <td>   -0.068     0.001</td>\n",
       "</tr>\n",
       "<tr>\n",
       "  <th>ret_cc_market</th> <td>    1.2096</td> <td>    0.445</td> <td>    2.716</td> <td> 0.010</td> <td>    0.306     2.113</td>\n",
       "</tr>\n",
       "<tr>\n",
       "  <th>lagged_ret_cc</th> <td>    0.2036</td> <td>    0.157</td> <td>    1.298</td> <td> 0.203</td> <td>   -0.115     0.522</td>\n",
       "</tr>\n",
       "</table>\n",
       "<table class=\"simpletable\">\n",
       "<tr>\n",
       "  <th>Omnibus:</th>       <td> 0.410</td> <th>  Durbin-Watson:     </th> <td>   2.096</td>\n",
       "</tr>\n",
       "<tr>\n",
       "  <th>Prob(Omnibus):</th> <td> 0.815</td> <th>  Jarque-Bera (JB):  </th> <td>   0.563</td>\n",
       "</tr>\n",
       "<tr>\n",
       "  <th>Skew:</th>          <td>-0.094</td> <th>  Prob(JB):          </th> <td>   0.755</td>\n",
       "</tr>\n",
       "<tr>\n",
       "  <th>Kurtosis:</th>      <td> 2.442</td> <th>  Cond. No.          </th> <td>    27.9</td>\n",
       "</tr>\n",
       "</table>"
      ],
      "text/plain": [
       "<class 'statsmodels.iolib.summary.Summary'>\n",
       "\"\"\"\n",
       "                            OLS Regression Results                            \n",
       "==============================================================================\n",
       "Dep. Variable:                 ret_cc   R-squared:                       0.204\n",
       "Model:                            OLS   Adj. R-squared:                  0.160\n",
       "Method:                 Least Squares   F-statistic:                     4.618\n",
       "Date:                Thu, 14 Jul 2016   Prob (F-statistic):             0.0164\n",
       "Time:                        15:05:55   Log-Likelihood:                 36.175\n",
       "No. Observations:                  39   AIC:                            -66.35\n",
       "Df Residuals:                      36   BIC:                            -61.36\n",
       "Df Model:                           2                                         \n",
       "Covariance Type:            nonrobust                                         \n",
       "=================================================================================\n",
       "                    coef    std err          t      P>|t|      [95.0% Conf. Int.]\n",
       "---------------------------------------------------------------------------------\n",
       "Intercept        -0.0335      0.017     -1.966      0.057        -0.068     0.001\n",
       "ret_cc_market     1.2096      0.445      2.716      0.010         0.306     2.113\n",
       "lagged_ret_cc     0.2036      0.157      1.298      0.203        -0.115     0.522\n",
       "==============================================================================\n",
       "Omnibus:                        0.410   Durbin-Watson:                   2.096\n",
       "Prob(Omnibus):                  0.815   Jarque-Bera (JB):                0.563\n",
       "Skew:                          -0.094   Prob(JB):                        0.755\n",
       "Kurtosis:                       2.442   Cond. No.                         27.9\n",
       "==============================================================================\n",
       "\n",
       "Warnings:\n",
       "[1] Standard Errors assume that the covariance matrix of the errors is correctly specified.\n",
       "\"\"\""
      ]
     },
     "execution_count": 46,
     "metadata": {},
     "output_type": "execute_result"
    }
   ],
   "source": [
    "stocks.model_1['GASS'].summary()"
   ]
  },
  {
   "cell_type": "markdown",
   "metadata": {},
   "source": [
    "Most of these lagged t-values do not appear to be significant and fall on both sides of zero.\n",
    "\n",
    "At this point, I'm curious if the concept of \"sum beta\" has any validity in valuation. I need to refactor with only models 1 and 2, add a measure of market cap so I can focus on particular universes of stocks and run F-tests to see if the lagged_ret_cc variable should be included in beta. If it can, then we can use it to make infinite money in the stock market. If it can't, then I can acheive notoriety by disproving a valuation concept. Muahahahahaha.\n",
    "\n",
    "# Experiment to look at market cap"
   ]
  }
 ],
 "metadata": {
  "kernelspec": {
   "display_name": "Python 3",
   "language": "python",
   "name": "python3"
  },
  "language_info": {
   "codemirror_mode": {
    "name": "ipython",
    "version": 3
   },
   "file_extension": ".py",
   "mimetype": "text/x-python",
   "name": "python",
   "nbconvert_exporter": "python",
   "pygments_lexer": "ipython3",
   "version": "3.5.1"
  }
 },
 "nbformat": 4,
 "nbformat_minor": 0
}
