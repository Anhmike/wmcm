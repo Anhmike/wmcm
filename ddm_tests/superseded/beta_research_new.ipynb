{
 "cells": [
  {
   "cell_type": "markdown",
   "metadata": {},
   "source": [
    "# Beta Lag Research\n",
    "## Import Packages"
   ]
  },
  {
   "cell_type": "code",
   "execution_count": 22,
   "metadata": {
    "collapsed": false
   },
   "outputs": [],
   "source": [
    "import datetime as dt\n",
    "import pandas as pd\n",
    "import numpy as np\n",
    "from pandas_datareader import data\n",
    "import statsmodels.formula.api as sm\n",
    "import time\n",
    "import wmcm\n",
    "import seaborn as sns\n",
    "%matplotlib inline"
   ]
  },
  {
   "cell_type": "markdown",
   "metadata": {},
   "source": [
    "## Load Universe\n",
    "I created a CSV listing all stocks included in SPDR’s sector funds as of January 24th, 2016. It is loaded as a pandas dataframe. In order to make calls to Yahoo, all periods are replaced with hyphens.\n",
    "\n",
    "We also pull all sector tickers and SPY as a proxy for the market as a whole."
   ]
  },
  {
   "cell_type": "code",
   "execution_count": 2,
   "metadata": {
    "collapsed": false
   },
   "outputs": [
    {
     "data": {
      "text/html": [
       "<div>\n",
       "<table border=\"1\" class=\"dataframe\">\n",
       "  <thead>\n",
       "    <tr style=\"text-align: right;\">\n",
       "      <th></th>\n",
       "      <th>company_name</th>\n",
       "      <th>index_weight</th>\n",
       "      <th>sector</th>\n",
       "      <th>sector_name</th>\n",
       "    </tr>\n",
       "  </thead>\n",
       "  <tbody>\n",
       "    <tr>\n",
       "      <th>PG</th>\n",
       "      <td>Procter &amp; Gamble</td>\n",
       "      <td>11.90%</td>\n",
       "      <td>XLP</td>\n",
       "      <td>Consumper Staples</td>\n",
       "    </tr>\n",
       "    <tr>\n",
       "      <th>KO</th>\n",
       "      <td>Coca-Cola Co</td>\n",
       "      <td>9.31%</td>\n",
       "      <td>XLP</td>\n",
       "      <td>Consumper Staples</td>\n",
       "    </tr>\n",
       "    <tr>\n",
       "      <th>PM</th>\n",
       "      <td>Philip Morris International</td>\n",
       "      <td>7.61%</td>\n",
       "      <td>XLP</td>\n",
       "      <td>Consumper Staples</td>\n",
       "    </tr>\n",
       "    <tr>\n",
       "      <th>CVS</th>\n",
       "      <td>CVS Health Corporation</td>\n",
       "      <td>6.16%</td>\n",
       "      <td>XLP</td>\n",
       "      <td>Consumper Staples</td>\n",
       "    </tr>\n",
       "    <tr>\n",
       "      <th>MO</th>\n",
       "      <td>Altria Group Inc</td>\n",
       "      <td>5.84%</td>\n",
       "      <td>XLP</td>\n",
       "      <td>Consumper Staples</td>\n",
       "    </tr>\n",
       "  </tbody>\n",
       "</table>\n",
       "</div>"
      ],
      "text/plain": [
       "                    company_name index_weight sector        sector_name\n",
       "PG              Procter & Gamble       11.90%    XLP  Consumper Staples\n",
       "KO                  Coca-Cola Co        9.31%    XLP  Consumper Staples\n",
       "PM   Philip Morris International        7.61%    XLP  Consumper Staples\n",
       "CVS       CVS Health Corporation        6.16%    XLP  Consumper Staples\n",
       "MO              Altria Group Inc        5.84%    XLP  Consumper Staples"
      ]
     },
     "execution_count": 2,
     "metadata": {},
     "output_type": "execute_result"
    }
   ],
   "source": [
    "universe_stocks = pd.read_csv('inputs/stocks.csv', index_col='symbol')\n",
    "universe_stocks.index = map(lambda x: x.replace('.', '-'), universe_stocks.index)\n",
    "\n",
    "universe_sectors = pd.read_csv('inputs/sectors.csv', index_col='symbol')\n",
    "universe_sectors.index = map(lambda x: x.replace('.', '-'), universe_sectors.index)\n",
    "\n",
    "# limited to a few stocks\n",
    "# universe_stocks = universe_stocks.ix[['GOOG', 'PM', 'XOM']]\n",
    "universe_stocks.head()"
   ]
  },
  {
   "cell_type": "markdown",
   "metadata": {},
   "source": [
    "## Pull Price History\n",
    "\n",
    "Price history is pulled from Yahoo into separate Stock instances. Stocks were pulled from January 1st 2010 through December 31st, 2015."
   ]
  },
  {
   "cell_type": "code",
   "execution_count": 3,
   "metadata": {
    "collapsed": false,
    "scrolled": true
   },
   "outputs": [
    {
     "name": "stdout",
     "output_type": "stream",
     "text": [
      "ValueError occured for CCL\n",
      "No Earnings Data found for FOX!\n",
      "No Earnings Data found for DISCK!\n",
      "ValueError occured for DISCA\n",
      "ValueError occured for EOG\n",
      "ValueError occured for BHI\n",
      "ValueError occured for APA\n",
      "ValueError occured for DVN\n",
      "ValueError occured for OKE\n",
      "No Earnings Data found for BRK-b!\n",
      "Some other Error occured for WLTW\n",
      "ValueError occured for REGN\n",
      "ValueError occured for GWW\n",
      "ValueError occured for CHRW\n",
      "ValueError occured for LYB\n",
      "ValueError occured for CBG\n",
      "ValueError occured for ADP\n",
      "ValueError occured for PNW\n"
     ]
    }
   ],
   "source": [
    "stocks = wmcm.Universe(universe_stocks.index, 'SPY', interval='w', verbose=False)\n",
    "stocks.save('sp500_uni.p')\n",
    "#stocks = wmcm.Universe.load('sp500_uni.p')"
   ]
  },
  {
   "cell_type": "markdown",
   "metadata": {},
   "source": [
    "## Calculate Betas on Full Sample"
   ]
  },
  {
   "cell_type": "code",
   "execution_count": 4,
   "metadata": {
    "collapsed": false
   },
   "outputs": [
    {
     "data": {
      "text/plain": [
       "Intercept        0.002727\n",
       "ret_cc_market    0.945508\n",
       "lag(ret_cc)     -0.375007\n",
       "dtype: float64"
      ]
     },
     "execution_count": 4,
     "metadata": {},
     "output_type": "execute_result"
    }
   ],
   "source": [
    "## user-defined functions are allowed in formulas\n",
    "def lag(x):\n",
    "    return x.shift(1)\n",
    "\n",
    "## create analysis_df\n",
    "for key in stocks.keys():\n",
    "    stocks[key].analysis_df = stocks[key].adj_returns\n",
    "\n",
    "## fit GOOG with no earnings adjustments\n",
    "model = stocks.factor_model('GOOG', 'ret_co ~ ret_co_market + lag(ret_oc)', filter_earnings=False)\n",
    "model.params"
   ]
  },
  {
   "cell_type": "code",
   "execution_count": 9,
   "metadata": {
    "collapsed": false
   },
   "outputs": [
    {
     "data": {
      "text/plain": [
       "-0.75452242862348207"
      ]
     },
     "execution_count": 9,
     "metadata": {},
     "output_type": "execute_result"
    }
   ],
   "source": [
    "## adjust analysis_df for lagged earnings\n",
    "## a little long-winded but it just filters out\n",
    "## periods proceeding earnings periods\n",
    "\n",
    "## NEED TO CREATE LAGGED VARIABLE FIRST!!\n",
    "## can't rely on user-generated lag-in-formula\n",
    "for key in stocks.keys():\n",
    "    if key=='market':\n",
    "        pass\n",
    "    else:\n",
    "        stocks[key].analysis_df['lagged_ret_oc'] = stocks[key].analysis_df['ret_oc'].shift(1)\n",
    "        stocks[key].analysis_df = stocks[key].analysis_df.loc[(stocks[key].analysis_df['earnings_period'].shift(1)==False)]\n",
    "\n",
    "## fit all *with* earnings adjustments\n",
    "## full models are stored in stocks.results which is a dictionary\n",
    "stocks.factor_model_all('ret_co ~ ret_co_market + lagged_ret_oc', filter_earnings=True)\n",
    "stocks.results['GOOG'].params['lagged_ret_oc']\n"
   ]
  },
  {
   "cell_type": "code",
   "execution_count": 23,
   "metadata": {
    "collapsed": false,
    "scrolled": true
   },
   "outputs": [
    {
     "name": "stdout",
     "output_type": "stream",
     "text": [
      "using a non-integer number instead of an integer will result in an error in the future\n"
     ]
    },
    {
     "data": {
      "text/plain": [
       "<matplotlib.axes._subplots.AxesSubplot at 0x7f7f994cc6a0>"
      ]
     },
     "execution_count": 23,
     "metadata": {},
     "output_type": "execute_result"
    },
    {
     "data": {
      "image/png": "[encoded data removed]",
      "text/plain": [
       "<matplotlib.figure.Figure at 0x7f7f99576668>"
      ]
     },
     "metadata": {},
     "output_type": "display_data"
    }
   ],
   "source": [
    "plot_data = pd.DataFrame({stock : stocks.results[stock].params['lagged_ret_oc'] for stock in stocks.keys() if stock != 'market'}, index=[0])\n",
    "plot_data = plot_data.transpose()\n",
    "sns.distplot(plot_data)"
   ]
  }
 ],
 "metadata": {
  "kernelspec": {
   "display_name": "Python 3",
   "language": "python",
   "name": "python3"
  },
  "language_info": {
   "codemirror_mode": {
    "name": "ipython",
    "version": 3
   },
   "file_extension": ".py",
   "mimetype": "text/x-python",
   "name": "python",
   "nbconvert_exporter": "python",
   "pygments_lexer": "ipython3",
   "version": "3.5.1"
  }
 },
 "nbformat": 4,
 "nbformat_minor": 0
}
