{
 "cells": [
  {
   "cell_type": "markdown",
   "metadata": {},
   "source": [
    "# Weekly Backtest Template\n",
    "\n",
    "This notebook will go through the steps in a successful backtest run of our trading strategy.\n",
    "\n",
    "Inputs:\n",
    "    - backtest_start, backtest_end = First and last date to backtest\n",
    "    - universe object\n",
    "\n",
    "1. Function initialization:\n",
    "    - sim_date = backtest_start advanced to Saturday. Tracks current simulated day.\n",
    "    - status_df, Indexed on stocks.keys(). Columns:\n",
    "        - \"lagged_return_coefficient\"\n",
    "        - \"prior_return\"\n",
    "        - \"predicted_return\"\n",
    "    - portfolio_df\n",
    "        - Columns:\n",
    "            - \"holding\" either str8cash or a stock symbol\n",
    "            - \"quantity\"\n",
    "        - Add one row ['str8cash', '1e6'].\n",
    "    - results_df Columns:\n",
    "        - \"date\"\n",
    "        - portfolio value\n",
    "1. Do while sim_date <= backtest_end\n",
    "    1. Saturday:\n",
    "        - Update \"prior_return\" column\n",
    "        - Update \"lagged_return_coefficient\" by running beta model\n",
    "        - Multiply \"predicted_return\"\n",
    "        - Add 2 to sim_date\n",
    "    1. Monday:\n",
    "        - Update results_df\n",
    "            - New \"week_starting\" row equal to sim_date\n",
    "            - long_stock, short_stock = stocks with highest and lowest predicted_return\n",
    "        - Add 4 to sim_date\n",
    "    1. Friday:\n",
    "        - Update results_df\n",
    "            - long_return, short_return\n",
    "        - Add 1 to sim_date\n",
    "1. return results_df\n",
    "\n",
    "## Import Packages"
   ]
  },
  {
   "cell_type": "code",
   "execution_count": 1,
   "metadata": {
    "collapsed": false
   },
   "outputs": [],
   "source": [
    "import datetime as dt\n",
    "import pandas as pd\n",
    "import numpy as np\n",
    "from pandas_datareader import data\n",
    "import statsmodels.formula.api as sm\n",
    "import time\n",
    "import wmcm"
   ]
  },
  {
   "cell_type": "markdown",
   "metadata": {},
   "source": [
    "## Load Universe\n",
    "I created a CSV listing all stocks included in SPDR’s sector funds as of January 24th, 2016. It is loaded as a pandas dataframe. In order to make calls to Yahoo, all periods are replaced with hyphens.\n",
    "\n",
    "We also pull all sector tickers and SPY as a proxy for the market as a whole."
   ]
  },
  {
   "cell_type": "code",
   "execution_count": 2,
   "metadata": {
    "collapsed": true
   },
   "outputs": [],
   "source": [
    "universe_stocks = pd.read_csv('inputs/stocks.csv', index_col='symbol')\n",
    "universe_stocks.index = map(lambda x: x.replace('.', '-'), universe_stocks.index)\n",
    "\n",
    "universe_sectors = pd.read_csv('inputs/sectors.csv', index_col='symbol')\n",
    "universe_sectors.index = map(lambda x: x.replace('.', '-'), universe_sectors.index)\n",
    "\n",
    "# limited to a few stocks\n",
    "universe_stocks = universe_stocks.ix[['GOOG', 'PM', 'XOM']]\n",
    "# universe_stocks.head()"
   ]
  },
  {
   "cell_type": "markdown",
   "metadata": {},
   "source": [
    "## Pull Price History\n",
    "\n",
    "Price history is pulled from Yahoo into separate Stock instances. Stocks were pulled from January 1st 2010 through December 31st, 2015."
   ]
  },
  {
   "cell_type": "code",
   "execution_count": 3,
   "metadata": {
    "collapsed": false
   },
   "outputs": [],
   "source": [
    "stocks = wmcm.Universe(universe_stocks.index, 'SPY', interval='w', verbose=False)\n",
    "stocks_d = wmcm.Universe(universe_stocks.index, 'SPY', interval='d', verbose=False)\n",
    "# stocks.save('sp500_uni.p')\n",
    "#stocks = wmcm.Universe.load('sp500_uni.p')"
   ]
  },
  {
   "cell_type": "markdown",
   "metadata": {},
   "source": [
    "## Portfolio Class\n",
    "A portfolio class was created to track stock holdings across time. It is demonstrated below."
   ]
  },
  {
   "cell_type": "code",
   "execution_count": 4,
   "metadata": {
    "collapsed": false
   },
   "outputs": [
    {
     "data": {
      "text/html": [
       "<div>\n",
       "<table border=\"1\" class=\"dataframe\">\n",
       "  <thead>\n",
       "    <tr style=\"text-align: right;\">\n",
       "      <th></th>\n",
       "      <th>quantity</th>\n",
       "      <th>price</th>\n",
       "      <th>market_value</th>\n",
       "    </tr>\n",
       "    <tr>\n",
       "      <th>security</th>\n",
       "      <th></th>\n",
       "      <th></th>\n",
       "      <th></th>\n",
       "    </tr>\n",
       "  </thead>\n",
       "  <tbody>\n",
       "    <tr>\n",
       "      <th>str8cash</th>\n",
       "      <td>10000</td>\n",
       "      <td>1</td>\n",
       "      <td>10000</td>\n",
       "    </tr>\n",
       "  </tbody>\n",
       "</table>\n",
       "</div>"
      ],
      "text/plain": [
       "         quantity price market_value\n",
       "security                            \n",
       "str8cash    10000     1        10000"
      ]
     },
     "execution_count": 4,
     "metadata": {},
     "output_type": "execute_result"
    }
   ],
   "source": [
    "test_portfolio = wmcm.Portfolio(10000)\n",
    "test_portfolio.holdings"
   ]
  },
  {
   "cell_type": "code",
   "execution_count": 5,
   "metadata": {
    "collapsed": false
   },
   "outputs": [
    {
     "name": "stdout",
     "output_type": "stream",
     "text": [
      "751.650024\n",
      "762.51001\n"
     ]
    }
   ],
   "source": [
    "print(stocks_d['GOOG'].adj_prices.loc[\"2015-12-22\", 'open'])\n",
    "print(stocks_d['GOOG'].adj_prices.loc[\"2015-12-28\", 'close'])"
   ]
  },
  {
   "cell_type": "code",
   "execution_count": 6,
   "metadata": {
    "collapsed": false
   },
   "outputs": [
    {
     "data": {
      "text/html": [
       "<div>\n",
       "<table border=\"1\" class=\"dataframe\">\n",
       "  <thead>\n",
       "    <tr style=\"text-align: right;\">\n",
       "      <th></th>\n",
       "      <th>quantity</th>\n",
       "      <th>price</th>\n",
       "      <th>market_value</th>\n",
       "    </tr>\n",
       "    <tr>\n",
       "      <th>security</th>\n",
       "      <th></th>\n",
       "      <th></th>\n",
       "      <th></th>\n",
       "    </tr>\n",
       "  </thead>\n",
       "  <tbody>\n",
       "    <tr>\n",
       "      <th>str8cash</th>\n",
       "      <td>7745.05</td>\n",
       "      <td>1</td>\n",
       "      <td>7745.05</td>\n",
       "    </tr>\n",
       "    <tr>\n",
       "      <th>GOOG</th>\n",
       "      <td>3</td>\n",
       "      <td>751.65</td>\n",
       "      <td>2254.95</td>\n",
       "    </tr>\n",
       "  </tbody>\n",
       "</table>\n",
       "</div>"
      ],
      "text/plain": [
       "         quantity   price market_value\n",
       "security                              \n",
       "str8cash  7745.05       1      7745.05\n",
       "GOOG            3  751.65      2254.95"
      ]
     },
     "execution_count": 6,
     "metadata": {},
     "output_type": "execute_result"
    }
   ],
   "source": [
    "test_portfolio.open_position('GOOG', stocks_d['GOOG'].adj_prices.loc[\"2015-12-22\", 'open'], .25)\n",
    "test_portfolio.holdings"
   ]
  },
  {
   "cell_type": "code",
   "execution_count": 7,
   "metadata": {
    "collapsed": false
   },
   "outputs": [
    {
     "data": {
      "text/html": [
       "<div>\n",
       "<table border=\"1\" class=\"dataframe\">\n",
       "  <thead>\n",
       "    <tr style=\"text-align: right;\">\n",
       "      <th></th>\n",
       "      <th>quantity</th>\n",
       "      <th>price</th>\n",
       "      <th>market_value</th>\n",
       "    </tr>\n",
       "    <tr>\n",
       "      <th>security</th>\n",
       "      <th></th>\n",
       "      <th></th>\n",
       "      <th></th>\n",
       "    </tr>\n",
       "  </thead>\n",
       "  <tbody>\n",
       "    <tr>\n",
       "      <th>str8cash</th>\n",
       "      <td>10032.6</td>\n",
       "      <td>1</td>\n",
       "      <td>10032.6</td>\n",
       "    </tr>\n",
       "  </tbody>\n",
       "</table>\n",
       "</div>"
      ],
      "text/plain": [
       "         quantity price market_value\n",
       "security                            \n",
       "str8cash  10032.6     1      10032.6"
      ]
     },
     "execution_count": 7,
     "metadata": {},
     "output_type": "execute_result"
    }
   ],
   "source": [
    "test_portfolio.close_position('GOOG', stocks_d['GOOG'].adj_prices.loc[\"2015-12-28\", 'close'])\n",
    "test_portfolio.holdings"
   ]
  },
  {
   "cell_type": "markdown",
   "metadata": {},
   "source": [
    "## Beta Calculation Formula\n",
    "This formula calculates beta lag for a given day."
   ]
  },
  {
   "cell_type": "code",
   "execution_count": 28,
   "metadata": {
    "collapsed": false
   },
   "outputs": [
    {
     "data": {
      "text/html": [
       "<table class=\"simpletable\">\n",
       "<caption>OLS Regression Results</caption>\n",
       "<tr>\n",
       "  <th>Dep. Variable:</th>         <td>ret_co</td>      <th>  R-squared:         </th> <td>   0.751</td>\n",
       "</tr>\n",
       "<tr>\n",
       "  <th>Model:</th>                   <td>OLS</td>       <th>  Adj. R-squared:    </th> <td>   0.749</td>\n",
       "</tr>\n",
       "<tr>\n",
       "  <th>Method:</th>             <td>Least Squares</td>  <th>  F-statistic:       </th> <td>   355.8</td>\n",
       "</tr>\n",
       "<tr>\n",
       "  <th>Date:</th>             <td>Sat, 07 May 2016</td> <th>  Prob (F-statistic):</th> <td>5.79e-72</td>\n",
       "</tr>\n",
       "<tr>\n",
       "  <th>Time:</th>                 <td>18:28:03</td>     <th>  Log-Likelihood:    </th> <td>  560.80</td>\n",
       "</tr>\n",
       "<tr>\n",
       "  <th>No. Observations:</th>      <td>   239</td>      <th>  AIC:               </th> <td>  -1116.</td>\n",
       "</tr>\n",
       "<tr>\n",
       "  <th>Df Residuals:</th>          <td>   236</td>      <th>  BIC:               </th> <td>  -1105.</td>\n",
       "</tr>\n",
       "<tr>\n",
       "  <th>Df Model:</th>              <td>     2</td>      <th>                     </th>     <td> </td>   \n",
       "</tr>\n",
       "<tr>\n",
       "  <th>Covariance Type:</th>      <td>nonrobust</td>    <th>                     </th>     <td> </td>   \n",
       "</tr>\n",
       "</table>\n",
       "<table class=\"simpletable\">\n",
       "<tr>\n",
       "        <td></td>           <th>coef</th>     <th>std err</th>      <th>t</th>      <th>P>|t|</th> <th>[95.0% Conf. Int.]</th> \n",
       "</tr>\n",
       "<tr>\n",
       "  <th>Intercept</th>     <td>    0.0012</td> <td>    0.002</td> <td>    0.812</td> <td> 0.417</td> <td>   -0.002     0.004</td>\n",
       "</tr>\n",
       "<tr>\n",
       "  <th>ret_co_market</th> <td>    1.1846</td> <td>    0.205</td> <td>    5.774</td> <td> 0.000</td> <td>    0.780     1.589</td>\n",
       "</tr>\n",
       "<tr>\n",
       "  <th>lag(ret_oc)</th>   <td>   -0.6964</td> <td>    0.027</td> <td>  -25.914</td> <td> 0.000</td> <td>   -0.749    -0.643</td>\n",
       "</tr>\n",
       "</table>\n",
       "<table class=\"simpletable\">\n",
       "<tr>\n",
       "  <th>Omnibus:</th>       <td>131.537</td> <th>  Durbin-Watson:     </th> <td>   2.323</td>\n",
       "</tr>\n",
       "<tr>\n",
       "  <th>Prob(Omnibus):</th> <td> 0.000</td>  <th>  Jarque-Bera (JB):  </th> <td>1950.917</td>\n",
       "</tr>\n",
       "<tr>\n",
       "  <th>Skew:</th>          <td> 1.787</td>  <th>  Prob(JB):          </th> <td>    0.00</td>\n",
       "</tr>\n",
       "<tr>\n",
       "  <th>Kurtosis:</th>      <td>16.533</td>  <th>  Cond. No.          </th> <td>    136.</td>\n",
       "</tr>\n",
       "</table>"
      ],
      "text/plain": [
       "<class 'statsmodels.iolib.summary.Summary'>\n",
       "\"\"\"\n",
       "                            OLS Regression Results                            \n",
       "==============================================================================\n",
       "Dep. Variable:                 ret_co   R-squared:                       0.751\n",
       "Model:                            OLS   Adj. R-squared:                  0.749\n",
       "Method:                 Least Squares   F-statistic:                     355.8\n",
       "Date:                Sat, 07 May 2016   Prob (F-statistic):           5.79e-72\n",
       "Time:                        18:28:03   Log-Likelihood:                 560.80\n",
       "No. Observations:                 239   AIC:                            -1116.\n",
       "Df Residuals:                     236   BIC:                            -1105.\n",
       "Df Model:                           2                                         \n",
       "Covariance Type:            nonrobust                                         \n",
       "=================================================================================\n",
       "                    coef    std err          t      P>|t|      [95.0% Conf. Int.]\n",
       "---------------------------------------------------------------------------------\n",
       "Intercept         0.0012      0.002      0.812      0.417        -0.002     0.004\n",
       "ret_co_market     1.1846      0.205      5.774      0.000         0.780     1.589\n",
       "lag(ret_oc)      -0.6964      0.027    -25.914      0.000        -0.749    -0.643\n",
       "==============================================================================\n",
       "Omnibus:                      131.537   Durbin-Watson:                   2.323\n",
       "Prob(Omnibus):                  0.000   Jarque-Bera (JB):             1950.917\n",
       "Skew:                           1.787   Prob(JB):                         0.00\n",
       "Kurtosis:                      16.533   Cond. No.                         136.\n",
       "==============================================================================\n",
       "\n",
       "Warnings:\n",
       "[1] Standard Errors assume that the covariance matrix of the errors is correctly specified.\n",
       "\"\"\""
      ]
     },
     "execution_count": 28,
     "metadata": {},
     "output_type": "execute_result"
    }
   ],
   "source": [
    "## user-defined functions are allowed in formulas\n",
    "def lag(x):\n",
    "    return x.shift(1)\n",
    "\n",
    "# End date for beta calculation\n",
    "test_date = dt.datetime.strptime('2017-01-10', '%Y-%m-%d')\n",
    "\n",
    "## create analysis_df\n",
    "for key in stocks.keys():\n",
    "    stocks[key].analysis_df = stocks[key].adj_returns[(stocks[key].adj_returns.index <= test_date)]\n",
    "\n",
    "## fit GOOG with no earnings adjustments\n",
    "model = stocks.factor_model('GOOG', 'ret_co ~ ret_co_market + lag(ret_oc)', filter_earnings=True)\n",
    "model.summary()"
   ]
  },
  {
   "cell_type": "markdown",
   "metadata": {},
   "source": [
    "## Advance Day Formula\n",
    "New function to advance a day to the next day of a given week. Values:\n",
    "\n",
    "0 = Monday\n",
    "1 = Tuesday\n",
    "2 = Wednesday\n",
    "3 = Thursday\n",
    "4 = Friday\n",
    "5 = Saturday\n",
    "6 = Sunday"
   ]
  },
  {
   "cell_type": "code",
   "execution_count": 15,
   "metadata": {
    "collapsed": false
   },
   "outputs": [
    {
     "data": {
      "text/plain": [
       "datetime.datetime(2016, 5, 9, 0, 0)"
      ]
     },
     "execution_count": 15,
     "metadata": {},
     "output_type": "execute_result"
    }
   ],
   "source": [
    "# New function to adance to a given weekday.\n",
    "\n",
    "def next_weekday(d, weekday):\n",
    "    days_ahead = weekday - d.weekday()\n",
    "    if days_ahead < 0: # Target day already happened this week\n",
    "        days_ahead += 7\n",
    "    return d + dt.timedelta(days_ahead)\n",
    "\n",
    "next_weekday(dt.datetime.strptime('2016-5-9', '%Y-%m-%d'), 0)"
   ]
  },
  {
   "cell_type": "markdown",
   "metadata": {},
   "source": [
    "## Backtest"
   ]
  },
  {
   "cell_type": "code",
   "execution_count": null,
   "metadata": {
    "collapsed": true
   },
   "outputs": [],
   "source": [
    "def weekly_backtest(universe=stocks, backtest_start = '2012-01-01', backtest_end='2015-12-31'):\n",
    "    \n",
    "    # need assertion that universe is a Universe class with weekly interval\n",
    "    \n",
    "    \n",
    "    # set sim_date equal to first Saturday in backtest range\n",
    "    sim_date = next_weekday(dt.datetime.strptime(backtest_start, '%Y-%m-%d'), 5)\n",
    "    \n",
    "    # create empty status_df\n",
    "    status_df = pd.DataFrame(index=stocks.keys(),\n",
    "                             columns=['lagged_return_coefficient',\n",
    "                                      'prior_return',\n",
    "                                      'predicted_return'])\n",
    "    status_df.drop('market', inplace=True)\n",
    "    \n",
    "    # create empty results_df\n",
    "    results_df = pd.DataFrame(columns=['week_starting',\n",
    "                                      'long_stock',\n",
    "                                      'short_stock',\n",
    "                                      'long_return',\n",
    "                                      'short_return'])\n",
    "    \n",
    "    while sim_date <= backtest_end:\n",
    "        \n",
    "        if sim_date.weekday() == 6: # Saturday\n",
    "            \n",
    "            # Update status_df. THIS CODE DOESN'T WORK.\n",
    "            for tic in status_df.index():\n",
    "                status_df[tic, 'lagged_return_coefficient'] = universe.factor_model(tic, 'return ~ return_market + lag(return)')\n",
    "                status_df[tic, 'prior_return'] = 0\n",
    "                status_df[tic, 'predicted_return'] = status_df[tic, 'lagged_return_coefficient'] * status_df[tic, 'prior_return']\n",
    "            \n",
    "            # To Monday\n",
    "            sim_date = next_weekday(sim_date, 0)\n",
    "        \n",
    "        if sim_date.weekday() == 0: # Monday\n",
    "            \n",
    "            # new week_starting entry in results_df\n",
    "                # long_stock = highest predicted_return\n",
    "                # short_stock = lowest predicted_return\n",
    "                # others = np.nan\n",
    "            \n",
    "            # To Friday\n",
    "            sim_date = next_weekday(sim_date, 4)\n",
    "\n",
    "        if sim_date.weekday() == 4: # Friday\n",
    "            \n",
    "            # add long_return and short_return to results_df\n",
    "            \n",
    "            # To Saturday\n",
    "            sim_date = next_weekday(sim_date, 6)\n",
    "    \n",
    "    return results_df"
   ]
  },
  {
   "cell_type": "markdown",
   "metadata": {},
   "source": [
    "## Changes needed to .factor_model():\n",
    "\n",
    "1. I need to be able to specify the range used when performing beta calculations.\n",
    "1. I need to be able to specify the return type when performing beta calculations. Our holding strategy will be from the week's open to the week's close. Therefore, research should be based on ret_oc, not ret_cc."
   ]
  },
  {
   "cell_type": "markdown",
   "metadata": {},
   "source": [
    "## Misc Notes\n",
    "This code is more complex than it needs to be. However, I wanted to perform actions on the days when they would be performed to make it easier to adapt this code to Quantopian in the future.\n",
    "\n",
    "We will have success if the distributions of results_df['long_return'] is (statistically) significantly higher than the distribution of results_df['short_return'].\n",
    "\n",
    "We should record both predicted_return and actual return, but this data structure doesn't allow for that. Doing so would allow for more model calibration, but less \"omg, we made $X dollars.\""
   ]
  }
 ],
 "metadata": {
  "kernelspec": {
   "display_name": "Python 3",
   "language": "python",
   "name": "python3"
  },
  "language_info": {
   "codemirror_mode": {
    "name": "ipython",
    "version": 3
   },
   "file_extension": ".py",
   "mimetype": "text/x-python",
   "name": "python",
   "nbconvert_exporter": "python",
   "pygments_lexer": "ipython3",
   "version": "3.5.1"
  }
 },
 "nbformat": 4,
 "nbformat_minor": 0
}
