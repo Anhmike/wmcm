{
 "cells": [
  {
   "cell_type": "markdown",
   "metadata": {},
   "source": [
    "According to their website, Duff & Phelps \"is the premier global valuation and corporate finance advisor with expertise in complex valuation\" and other fields. According to their annual Valuation Handbook - Guide to Cost of Capital, most stock valuations react to market news with a lag.\n",
    "\n",
    "Often, valuators use conclusions of this model to make meaningful decisions about pricing company risk.\n",
    "\n",
    "If the model isn't true, then we will need to rethink the way we value companies -- likely in a way which increases the value of closely held businesses. They will systemically overstate the risk of publicly traded corporations and therefore understate the value of closely held firms.\n",
    "\n",
    "If the model were true, one could utilize the predictions to almost effortlessly make untold fortunes in the stock market.\n",
    "\n",
    "I'm publicly sharing the results of my research, so I imagine you can guess where I stand on the question.\n",
    "\n",
    "## The Capital Asset Pricing Model\n",
    "\n",
    "### Minimal Model\n",
    "\n",
    "#### The Theory\n",
    "\n",
    "In theory, all stocks have some level of correlation with the market as a whole. If the economy does well, then consumers will have more money to spend, invest, et cetera. The magnitude of this effect will vary with companies. Consumers won't spend more money at cheap grocery stores if they are richer (WMT has a beta ~0.2), but they will spend more money on construction (Construction Supply companies often have a beta ~1.6).\n",
    "\n",
    "Rational investors, who don't want their returns to vary, will be as diversified as possible. However, they are unable to diversify the portion of a company's risk which is correlated with the market, for if the *market in general* experiences variance, then all stocks will experience variance to varying degrees.\n",
    "\n",
    "Therefore, when investors buy a stock (a share of future income), they will pay more for future income which varies with the market less. The more a company has undiversifiable risk (\"systematic risk\"), the higher the return investors will have to receive in order to invest. Because expected future cash flows are discounted at this required rate of return, higher undiversifiable risk results in lower valuations.\n",
    "\n",
    "By observing how a company's valuation changes as the market changes, practitioners are able to estimate the systematic risk of individual companies or industries. When valuing closely held businesses, which do not have extensive valuation histories, valuators will often use and adjust rates observed in comparable publicly traded companies.\n",
    "\n",
    "#### The Practice\n",
    "\n",
    "In a traditional Capital Asset Pricing Model (\"CAPM\") formulation, expected returns for security $i$ are modeled as:\n",
    "\n",
    "$$ E[r_{i,t} - rf_{t}] = \\alpha_i + \\beta_i (r_{m,t} - rf_t) $$\n",
    "\n",
    "Where $r_f$ is the risk free rate, $\\beta_i$ is a measure of company $i$'s non-diversifiable risk, $\\alpha_i$ is a measure of a company's extra-return and $r_{m,t}$ is the expected return of the market. All else held equal, if the risk free rate is 1.0%, the market goes up 2.0% and a company's beta is 1.5, then we would expect that company's value to increase by:\n",
    "\n",
    "$$ 1.0\\% + 1.5 ( 2.0\\% - 1.0\\% ) = 2.5\\% $$\n",
    "\n",
    "In an efficient market, alpha (of the website Seeking Alpha) will equal zero. Returns are calculated in excess of the risk free rate (usually the rate received on 20-year Treasury Bonds).\n",
    "\n",
    "Coefficients can be calculated through a regression analysis of historical returns.\n",
    "\n",
    "### The Lag Effect\n",
    "\n",
    "To this standard theory, the Duff & Phelps textbook adds the \"Lag Effect.\" As the 2016 Handbook describes it:\n",
    "\n",
    "> **For all but the largest companies, the prices of individual stocks tend to react in part to movements in the overall market with a lag. The smaller the company, generally the greater the lag in the price reaction.** This does not necessarily imply that the market itself is wholly inefficient, although the market for some stocks is more efficient than for other stocks. Large companies tend to be followed by more analysts and are owned by more institutional investors than are small-cap companies. Therefore, large-cap companies tend to react more quickly to changes in the economy or changes in the business.\n",
    "\n",
    "> Because of the lag […], traditional OLS betas tend to understate systematic risk. A sum beta consists of a multiple regression of a stock's current month's excess returns […] [and] the market's previous month's excess returns, and then a summing of the resulting coefficients. This helps to capture more fully the lagged effect of co-movement in a company's returns with returns on the market.”\n",
    "\n",
    "Their model of individual securities is:\n",
    "\n",
    "$$ E[r_{i,t} - rf_{t}] = \\alpha_i + \\beta_{1,i} (r_{m,t} - rf_t) + \\beta_{2,i} (r_{m,(t-1)} - rf_t) $$\n",
    "\n",
    "When deriving their discount rate, Duff & Phelps use a $\\beta_sum$ which is defined as:\n",
    "\n",
    "$$ \\beta_{sum, i} =  \\beta_{1,i} + \\beta_{2,i} $$\n",
    "\n",
    "The Handbook presents several examples of Sum Beta in action:\n",
    "\n",
    "| Company | Market Cap ($MM) | OLS Beta | Sum Beta | Difference|\n",
    "|:-------:|:----------------:|:--------:|:--------:|:---------:|\n",
    "|AT&T, Inc.|211,690.32|0.36|0.36|0.00|\n",
    "|The Boeing Company|96,872.933|1.01|1.05|0.04|\n",
    "|FedEx Corporation|41,063.916|1.22|1.3|0.08|\n",
    "|Lululemon Athletica Inc.|7,269.908|0.81|0.93|0.12|\n",
    "|Steven Madden, Ltd.|1,891.08|1.02|1.35|0.33|\n",
    "|Briggs & Stratton Corporation|765.093|1.01|1.36|0.35|\n",
    "|Almost Family Inc.|375.533|1.42|1.87|0.45|\n",
    "|StealthGas, Inc.|142.422|1.34|1.57|0.24|\n",
    "\n",
    "#### Implications\n",
    "\n",
    "Although valuators make use of the concept of beta qua the concept of beta, it is impossible to escape the predictive nature of the model. If the \"sum beta\" effect actually exists, then it will result in more accurate forward-looking predictions.\n",
    "\n",
    "If the sum beta effect is statistically robust, then beating the stock market would be trivial. After periods where the market has increased in value, simply go long companies with positive beta lag coefficients and short companies with negative beta lag coefficients.\n",
    "\n",
    "### The Details\n",
    "\n",
    "For Duff & Phelps, periods are defined as months, but they state that weeks should give similar results. They are based on a five year historical sample. For the 2016 handbook, that is 2011 through 2015. Returns are defined as \"excess returns,\" that is, in excess of the risk free rate. They state that using full returns (rather than excess returns) will produce similar results. Given how stable and low the risk free rate has been lately, I'm skipping this step.\n",
    "\n",
    "The textbook doesn't state whether they use arithmetic or logarithmic returns. I assume it is the latter."
   ]
  },
  {
   "cell_type": "markdown",
   "metadata": {},
   "source": [
    "## Preparing the Environment\n",
    "\n",
    "To analyze this question, I worked with my friend Chris White to develop a python package called White Morgan Capital Management (\"WMCM\"). It can be [installed from github](https://github.com/moody-marlin/wmcm). It is loaded along with several other packages below:"
   ]
  },
  {
   "cell_type": "code",
   "execution_count": 1,
   "metadata": {
    "collapsed": true
   },
   "outputs": [],
   "source": [
    "import wmcm\n",
    "import math\n",
    "import datetime as dt\n",
    "import pandas as pd\n",
    "import numpy as np\n",
    "import statsmodels.formula.api as sm\n",
    "import finsymbols\n",
    "import pickle\n",
    "import seaborn as sns\n",
    "from pandas_datareader import data\n",
    "%matplotlib inline"
   ]
  },
  {
   "cell_type": "markdown",
   "metadata": {},
   "source": [
    "## Single Stock Example -- Lululemon Athletica Inc.\n",
    "\n",
    "First, let's recreate one of their example betas. We'll start with Lululemon because they have both a high lag coefficient and market cap, and it's fun to type their name.\n",
    "\n",
    "The object is loaded into a Universe class alongside SPY which serves as a proxy for market returns. I pulled data from November 2010 so that we could calculate the December 2010 return and know the January 2011 lag."
   ]
  },
  {
   "cell_type": "code",
   "execution_count": 2,
   "metadata": {
    "collapsed": false
   },
   "outputs": [
    {
     "name": "stdout",
     "output_type": "stream",
     "text": [
      "Loading the Market SPY...\n",
      "Loading LULU...\n"
     ]
    }
   ],
   "source": [
    "# Single stock Universe object instance created with LULU\n",
    "\n",
    "sstock = wmcm.Universe(['LULU'], 'SPY', start='2010-11-01', end='2015-12-31', earn=False)\n",
    "\n",
    "# Analysis_df created based on returns adjusted for dividends and splits\n",
    "\n",
    "def run_analysis(universe, excess=False):\n",
    "    \n",
    "    if excess:\n",
    "        GS20 = data.DataReader('GS20', 'fred', dt.datetime(2010, 11, 1), dt.datetime(2015, 12, 1))/100\n",
    "        GS20.index = universe['market'].adj_returns.index\n",
    "    \n",
    "    universe['market'].analysis_df = universe['market'].adj_returns\n",
    "    \n",
    "    data_rows = len(universe['market'].analysis_df.index)\n",
    "    \n",
    "    for key in list(universe.keys()): # list(universe.keys()) allows you to delete while iterating\n",
    "        if key == 'market':\n",
    "            continue\n",
    "        if len(universe[key].adj_returns.index) == data_rows: # Make sure stock alive through whole period.\n",
    "            universe[key].analysis_df = universe[key].adj_returns\n",
    "            universe[key].analysis_df = pd.merge(left = universe[key].analysis_df,\n",
    "                                                 right = universe['market'].analysis_df,\n",
    "                                                 left_index = True, right_index = True,\n",
    "                                                 suffixes = ('', '_market'), how = 'left')\n",
    "            \n",
    "            if excess:\n",
    "                universe[key].analysis_df['exc_ret_cc_market'] = universe[key].analysis_df['ret_cc_market'].subtract(GS20['GS20'])\n",
    "                universe[key].analysis_df['exc_ret_cc'] = universe[key].analysis_df['ret_cc'].subtract(GS20['GS20'])\n",
    "            \n",
    "            universe[key].analysis_df['lag_ret_cc_market'] = universe[key].analysis_df['ret_cc_market'].shift(1)\n",
    "            \n",
    "            if excess:\n",
    "                universe[key].analysis_df['lag_exc_ret_cc_market'] = universe[key].analysis_df['exc_ret_cc_market'].shift(1)\n",
    "            \n",
    "            universe[key].analysis_df = universe[key].analysis_df[2:] # Remove first two rows. With statsmodel 0.7.0, including nan's in train breaks predict\n",
    "            \n",
    "            universe[key].model_sr = sm.ols('ret_cc ~ ret_cc_market',\n",
    "                                            data=universe[key].analysis_df).fit()\n",
    "            \n",
    "            universe[key].model_mr = sm.ols('ret_cc ~ ret_cc_market + lag_ret_cc_market',\n",
    "                                            data=universe[key].analysis_df).fit()\n",
    "            \n",
    "            if excess:\n",
    "                universe[key].model_exc_sr = sm.ols('exc_ret_cc ~ exc_ret_cc_market',\n",
    "                                                    data=universe[key].analysis_df).fit()\n",
    "                universe[key].model_exc_mr = sm.ols('exc_ret_cc ~ exc_ret_cc_market + lag_exc_ret_cc_market',\n",
    "                                                    data=universe[key].analysis_df).fit()\n",
    "            \n",
    "        else:\n",
    "            del universe[key]\n",
    "        \n",
    "    return universe\n",
    "\n",
    "sstock = run_analysis(sstock, excess=True)"
   ]
  },
  {
   "cell_type": "markdown",
   "metadata": {},
   "source": [
    "### Analysis of Regression Results\n",
    "\n",
    "To my eye, the model of returns which includes lagged market returns looks like a classic case of overfitting. The coefficient on lag_ret_cc_market is large enough to be worth paying attention to, but the standard error is over twice the value of the coefficient. Reaching back into my statistics 1001 textbook, we fail to reject the null hypothesis that the coefficient is equal to zero. If the coefficient were statistically significant at the 95% confidence level, then the p-value would be less than 0.05. Instead, we find a p-value at 0.422!\n",
    "\n",
    "Judging the model as a whole, the original model has lower AIC/BIC and a higher adjusted $R^2$. These are all indicative that the model which includes the lag term is inferior."
   ]
  },
  {
   "cell_type": "code",
   "execution_count": 3,
   "metadata": {
    "collapsed": false,
    "scrolled": false
   },
   "outputs": [
    {
     "data": {
      "text/html": [
       "<table class=\"simpletable\">\n",
       "<caption>OLS Regression Results</caption>\n",
       "<tr>\n",
       "  <th>Dep. Variable:</th>         <td>ret_cc</td>      <th>  R-squared:         </th> <td>   0.061</td>\n",
       "</tr>\n",
       "<tr>\n",
       "  <th>Model:</th>                   <td>OLS</td>       <th>  Adj. R-squared:    </th> <td>   0.045</td>\n",
       "</tr>\n",
       "<tr>\n",
       "  <th>Method:</th>             <td>Least Squares</td>  <th>  F-statistic:       </th> <td>   3.783</td>\n",
       "</tr>\n",
       "<tr>\n",
       "  <th>Date:</th>             <td>Mon, 25 Jul 2016</td> <th>  Prob (F-statistic):</th>  <td>0.0566</td> \n",
       "</tr>\n",
       "<tr>\n",
       "  <th>Time:</th>                 <td>15:54:26</td>     <th>  Log-Likelihood:    </th> <td>  47.969</td>\n",
       "</tr>\n",
       "<tr>\n",
       "  <th>No. Observations:</th>      <td>    60</td>      <th>  AIC:               </th> <td>  -91.94</td>\n",
       "</tr>\n",
       "<tr>\n",
       "  <th>Df Residuals:</th>          <td>    58</td>      <th>  BIC:               </th> <td>  -87.75</td>\n",
       "</tr>\n",
       "<tr>\n",
       "  <th>Df Model:</th>              <td>     1</td>      <th>                     </th>     <td> </td>   \n",
       "</tr>\n",
       "<tr>\n",
       "  <th>Covariance Type:</th>      <td>nonrobust</td>    <th>                     </th>     <td> </td>   \n",
       "</tr>\n",
       "</table>\n",
       "<table class=\"simpletable\">\n",
       "<tr>\n",
       "        <td></td>           <th>coef</th>     <th>std err</th>      <th>t</th>      <th>P>|t|</th> <th>[95.0% Conf. Int.]</th> \n",
       "</tr>\n",
       "<tr>\n",
       "  <th>Intercept</th>     <td>   -0.0010</td> <td>    0.015</td> <td>   -0.068</td> <td> 0.946</td> <td>   -0.031     0.029</td>\n",
       "</tr>\n",
       "<tr>\n",
       "  <th>ret_cc_market</th> <td>    0.8342</td> <td>    0.429</td> <td>    1.945</td> <td> 0.057</td> <td>   -0.024     1.693</td>\n",
       "</tr>\n",
       "</table>\n",
       "<table class=\"simpletable\">\n",
       "<tr>\n",
       "  <th>Omnibus:</th>       <td> 0.043</td> <th>  Durbin-Watson:     </th> <td>   1.794</td>\n",
       "</tr>\n",
       "<tr>\n",
       "  <th>Prob(Omnibus):</th> <td> 0.979</td> <th>  Jarque-Bera (JB):  </th> <td>   0.181</td>\n",
       "</tr>\n",
       "<tr>\n",
       "  <th>Skew:</th>          <td> 0.053</td> <th>  Prob(JB):          </th> <td>   0.914</td>\n",
       "</tr>\n",
       "<tr>\n",
       "  <th>Kurtosis:</th>      <td> 2.753</td> <th>  Cond. No.          </th> <td>    30.0</td>\n",
       "</tr>\n",
       "</table>"
      ],
      "text/plain": [
       "<class 'statsmodels.iolib.summary.Summary'>\n",
       "\"\"\"\n",
       "                            OLS Regression Results                            \n",
       "==============================================================================\n",
       "Dep. Variable:                 ret_cc   R-squared:                       0.061\n",
       "Model:                            OLS   Adj. R-squared:                  0.045\n",
       "Method:                 Least Squares   F-statistic:                     3.783\n",
       "Date:                Mon, 25 Jul 2016   Prob (F-statistic):             0.0566\n",
       "Time:                        15:54:26   Log-Likelihood:                 47.969\n",
       "No. Observations:                  60   AIC:                            -91.94\n",
       "Df Residuals:                      58   BIC:                            -87.75\n",
       "Df Model:                           1                                         \n",
       "Covariance Type:            nonrobust                                         \n",
       "=================================================================================\n",
       "                    coef    std err          t      P>|t|      [95.0% Conf. Int.]\n",
       "---------------------------------------------------------------------------------\n",
       "Intercept        -0.0010      0.015     -0.068      0.946        -0.031     0.029\n",
       "ret_cc_market     0.8342      0.429      1.945      0.057        -0.024     1.693\n",
       "==============================================================================\n",
       "Omnibus:                        0.043   Durbin-Watson:                   1.794\n",
       "Prob(Omnibus):                  0.979   Jarque-Bera (JB):                0.181\n",
       "Skew:                           0.053   Prob(JB):                        0.914\n",
       "Kurtosis:                       2.753   Cond. No.                         30.0\n",
       "==============================================================================\n",
       "\n",
       "Warnings:\n",
       "[1] Standard Errors assume that the covariance matrix of the errors is correctly specified.\n",
       "\"\"\""
      ]
     },
     "execution_count": 3,
     "metadata": {},
     "output_type": "execute_result"
    }
   ],
   "source": [
    "sstock['LULU'].model_sr.summary()"
   ]
  },
  {
   "cell_type": "code",
   "execution_count": 4,
   "metadata": {
    "collapsed": false,
    "scrolled": false
   },
   "outputs": [
    {
     "data": {
      "text/html": [
       "<table class=\"simpletable\">\n",
       "<caption>OLS Regression Results</caption>\n",
       "<tr>\n",
       "  <th>Dep. Variable:</th>         <td>ret_cc</td>      <th>  R-squared:         </th> <td>   0.064</td>\n",
       "</tr>\n",
       "<tr>\n",
       "  <th>Model:</th>                   <td>OLS</td>       <th>  Adj. R-squared:    </th> <td>   0.031</td>\n",
       "</tr>\n",
       "<tr>\n",
       "  <th>Method:</th>             <td>Least Squares</td>  <th>  F-statistic:       </th> <td>   1.954</td>\n",
       "</tr>\n",
       "<tr>\n",
       "  <th>Date:</th>             <td>Mon, 25 Jul 2016</td> <th>  Prob (F-statistic):</th>  <td> 0.151</td> \n",
       "</tr>\n",
       "<tr>\n",
       "  <th>Time:</th>                 <td>15:54:26</td>     <th>  Log-Likelihood:    </th> <td>  48.063</td>\n",
       "</tr>\n",
       "<tr>\n",
       "  <th>No. Observations:</th>      <td>    60</td>      <th>  AIC:               </th> <td>  -90.13</td>\n",
       "</tr>\n",
       "<tr>\n",
       "  <th>Df Residuals:</th>          <td>    57</td>      <th>  BIC:               </th> <td>  -83.84</td>\n",
       "</tr>\n",
       "<tr>\n",
       "  <th>Df Model:</th>              <td>     2</td>      <th>                     </th>     <td> </td>   \n",
       "</tr>\n",
       "<tr>\n",
       "  <th>Covariance Type:</th>      <td>nonrobust</td>    <th>                     </th>     <td> </td>   \n",
       "</tr>\n",
       "</table>\n",
       "<table class=\"simpletable\">\n",
       "<tr>\n",
       "          <td></td>             <th>coef</th>     <th>std err</th>      <th>t</th>      <th>P>|t|</th> <th>[95.0% Conf. Int.]</th> \n",
       "</tr>\n",
       "<tr>\n",
       "  <th>Intercept</th>         <td>   -0.0033</td> <td>    0.016</td> <td>   -0.205</td> <td> 0.838</td> <td>   -0.035     0.029</td>\n",
       "</tr>\n",
       "<tr>\n",
       "  <th>ret_cc_market</th>     <td>    0.8589</td> <td>    0.436</td> <td>    1.970</td> <td> 0.054</td> <td>   -0.014     1.732</td>\n",
       "</tr>\n",
       "<tr>\n",
       "  <th>lag_ret_cc_market</th> <td>    0.1809</td> <td>    0.429</td> <td>    0.422</td> <td> 0.675</td> <td>   -0.678     1.040</td>\n",
       "</tr>\n",
       "</table>\n",
       "<table class=\"simpletable\">\n",
       "<tr>\n",
       "  <th>Omnibus:</th>       <td> 0.123</td> <th>  Durbin-Watson:     </th> <td>   1.804</td>\n",
       "</tr>\n",
       "<tr>\n",
       "  <th>Prob(Omnibus):</th> <td> 0.941</td> <th>  Jarque-Bera (JB):  </th> <td>   0.291</td>\n",
       "</tr>\n",
       "<tr>\n",
       "  <th>Skew:</th>          <td> 0.080</td> <th>  Prob(JB):          </th> <td>   0.865</td>\n",
       "</tr>\n",
       "<tr>\n",
       "  <th>Kurtosis:</th>      <td> 2.699</td> <th>  Cond. No.          </th> <td>    32.0</td>\n",
       "</tr>\n",
       "</table>"
      ],
      "text/plain": [
       "<class 'statsmodels.iolib.summary.Summary'>\n",
       "\"\"\"\n",
       "                            OLS Regression Results                            \n",
       "==============================================================================\n",
       "Dep. Variable:                 ret_cc   R-squared:                       0.064\n",
       "Model:                            OLS   Adj. R-squared:                  0.031\n",
       "Method:                 Least Squares   F-statistic:                     1.954\n",
       "Date:                Mon, 25 Jul 2016   Prob (F-statistic):              0.151\n",
       "Time:                        15:54:26   Log-Likelihood:                 48.063\n",
       "No. Observations:                  60   AIC:                            -90.13\n",
       "Df Residuals:                      57   BIC:                            -83.84\n",
       "Df Model:                           2                                         \n",
       "Covariance Type:            nonrobust                                         \n",
       "=====================================================================================\n",
       "                        coef    std err          t      P>|t|      [95.0% Conf. Int.]\n",
       "-------------------------------------------------------------------------------------\n",
       "Intercept            -0.0033      0.016     -0.205      0.838        -0.035     0.029\n",
       "ret_cc_market         0.8589      0.436      1.970      0.054        -0.014     1.732\n",
       "lag_ret_cc_market     0.1809      0.429      0.422      0.675        -0.678     1.040\n",
       "==============================================================================\n",
       "Omnibus:                        0.123   Durbin-Watson:                   1.804\n",
       "Prob(Omnibus):                  0.941   Jarque-Bera (JB):                0.291\n",
       "Skew:                           0.080   Prob(JB):                        0.865\n",
       "Kurtosis:                       2.699   Cond. No.                         32.0\n",
       "==============================================================================\n",
       "\n",
       "Warnings:\n",
       "[1] Standard Errors assume that the covariance matrix of the errors is correctly specified.\n",
       "\"\"\""
      ]
     },
     "execution_count": 4,
     "metadata": {},
     "output_type": "execute_result"
    }
   ],
   "source": [
    "sstock['LULU'].model_mr.summary()"
   ]
  },
  {
   "cell_type": "code",
   "execution_count": 5,
   "metadata": {
    "collapsed": false
   },
   "outputs": [
    {
     "data": {
      "text/html": [
       "<table class=\"simpletable\">\n",
       "<caption>OLS Regression Results</caption>\n",
       "<tr>\n",
       "  <th>Dep. Variable:</th>       <td>exc_ret_cc</td>    <th>  R-squared:         </th> <td>   0.059</td>\n",
       "</tr>\n",
       "<tr>\n",
       "  <th>Model:</th>                   <td>OLS</td>       <th>  Adj. R-squared:    </th> <td>   0.043</td>\n",
       "</tr>\n",
       "<tr>\n",
       "  <th>Method:</th>             <td>Least Squares</td>  <th>  F-statistic:       </th> <td>   3.649</td>\n",
       "</tr>\n",
       "<tr>\n",
       "  <th>Date:</th>             <td>Mon, 25 Jul 2016</td> <th>  Prob (F-statistic):</th>  <td>0.0611</td> \n",
       "</tr>\n",
       "<tr>\n",
       "  <th>Time:</th>                 <td>15:54:26</td>     <th>  Log-Likelihood:    </th> <td>  47.998</td>\n",
       "</tr>\n",
       "<tr>\n",
       "  <th>No. Observations:</th>      <td>    60</td>      <th>  AIC:               </th> <td>  -92.00</td>\n",
       "</tr>\n",
       "<tr>\n",
       "  <th>Df Residuals:</th>          <td>    58</td>      <th>  BIC:               </th> <td>  -87.81</td>\n",
       "</tr>\n",
       "<tr>\n",
       "  <th>Df Model:</th>              <td>     1</td>      <th>                     </th>     <td> </td>   \n",
       "</tr>\n",
       "<tr>\n",
       "  <th>Covariance Type:</th>      <td>nonrobust</td>    <th>                     </th>     <td> </td>   \n",
       "</tr>\n",
       "</table>\n",
       "<table class=\"simpletable\">\n",
       "<tr>\n",
       "          <td></td>             <th>coef</th>     <th>std err</th>      <th>t</th>      <th>P>|t|</th> <th>[95.0% Conf. Int.]</th> \n",
       "</tr>\n",
       "<tr>\n",
       "  <th>Intercept</th>         <td>   -0.0065</td> <td>    0.017</td> <td>   -0.389</td> <td> 0.698</td> <td>   -0.040     0.027</td>\n",
       "</tr>\n",
       "<tr>\n",
       "  <th>exc_ret_cc_market</th> <td>    0.8086</td> <td>    0.423</td> <td>    1.910</td> <td> 0.061</td> <td>   -0.039     1.656</td>\n",
       "</tr>\n",
       "</table>\n",
       "<table class=\"simpletable\">\n",
       "<tr>\n",
       "  <th>Omnibus:</th>       <td> 0.037</td> <th>  Durbin-Watson:     </th> <td>   1.797</td>\n",
       "</tr>\n",
       "<tr>\n",
       "  <th>Prob(Omnibus):</th> <td> 0.981</td> <th>  Jarque-Bera (JB):  </th> <td>   0.166</td>\n",
       "</tr>\n",
       "<tr>\n",
       "  <th>Skew:</th>          <td> 0.052</td> <th>  Prob(JB):          </th> <td>   0.920</td>\n",
       "</tr>\n",
       "<tr>\n",
       "  <th>Kurtosis:</th>      <td> 2.764</td> <th>  Cond. No.          </th> <td>    29.7</td>\n",
       "</tr>\n",
       "</table>"
      ],
      "text/plain": [
       "<class 'statsmodels.iolib.summary.Summary'>\n",
       "\"\"\"\n",
       "                            OLS Regression Results                            \n",
       "==============================================================================\n",
       "Dep. Variable:             exc_ret_cc   R-squared:                       0.059\n",
       "Model:                            OLS   Adj. R-squared:                  0.043\n",
       "Method:                 Least Squares   F-statistic:                     3.649\n",
       "Date:                Mon, 25 Jul 2016   Prob (F-statistic):             0.0611\n",
       "Time:                        15:54:26   Log-Likelihood:                 47.998\n",
       "No. Observations:                  60   AIC:                            -92.00\n",
       "Df Residuals:                      58   BIC:                            -87.81\n",
       "Df Model:                           1                                         \n",
       "Covariance Type:            nonrobust                                         \n",
       "=====================================================================================\n",
       "                        coef    std err          t      P>|t|      [95.0% Conf. Int.]\n",
       "-------------------------------------------------------------------------------------\n",
       "Intercept            -0.0065      0.017     -0.389      0.698        -0.040     0.027\n",
       "exc_ret_cc_market     0.8086      0.423      1.910      0.061        -0.039     1.656\n",
       "==============================================================================\n",
       "Omnibus:                        0.037   Durbin-Watson:                   1.797\n",
       "Prob(Omnibus):                  0.981   Jarque-Bera (JB):                0.166\n",
       "Skew:                           0.052   Prob(JB):                        0.920\n",
       "Kurtosis:                       2.764   Cond. No.                         29.7\n",
       "==============================================================================\n",
       "\n",
       "Warnings:\n",
       "[1] Standard Errors assume that the covariance matrix of the errors is correctly specified.\n",
       "\"\"\""
      ]
     },
     "execution_count": 5,
     "metadata": {},
     "output_type": "execute_result"
    }
   ],
   "source": [
    "sstock['LULU'].model_exc_sr.summary()"
   ]
  },
  {
   "cell_type": "code",
   "execution_count": 6,
   "metadata": {
    "collapsed": false,
    "scrolled": false
   },
   "outputs": [
    {
     "data": {
      "text/html": [
       "<table class=\"simpletable\">\n",
       "<caption>OLS Regression Results</caption>\n",
       "<tr>\n",
       "  <th>Dep. Variable:</th>       <td>exc_ret_cc</td>    <th>  R-squared:         </th> <td>   0.061</td>\n",
       "</tr>\n",
       "<tr>\n",
       "  <th>Model:</th>                   <td>OLS</td>       <th>  Adj. R-squared:    </th> <td>   0.028</td>\n",
       "</tr>\n",
       "<tr>\n",
       "  <th>Method:</th>             <td>Least Squares</td>  <th>  F-statistic:       </th> <td>   1.850</td>\n",
       "</tr>\n",
       "<tr>\n",
       "  <th>Date:</th>             <td>Mon, 25 Jul 2016</td> <th>  Prob (F-statistic):</th>  <td> 0.167</td> \n",
       "</tr>\n",
       "<tr>\n",
       "  <th>Time:</th>                 <td>15:54:26</td>     <th>  Log-Likelihood:    </th> <td>  48.054</td>\n",
       "</tr>\n",
       "<tr>\n",
       "  <th>No. Observations:</th>      <td>    60</td>      <th>  AIC:               </th> <td>  -90.11</td>\n",
       "</tr>\n",
       "<tr>\n",
       "  <th>Df Residuals:</th>          <td>    57</td>      <th>  BIC:               </th> <td>  -83.83</td>\n",
       "</tr>\n",
       "<tr>\n",
       "  <th>Df Model:</th>              <td>     2</td>      <th>                     </th>     <td> </td>   \n",
       "</tr>\n",
       "<tr>\n",
       "  <th>Covariance Type:</th>      <td>nonrobust</td>    <th>                     </th>     <td> </td>   \n",
       "</tr>\n",
       "</table>\n",
       "<table class=\"simpletable\">\n",
       "<tr>\n",
       "            <td></td>               <th>coef</th>     <th>std err</th>      <th>t</th>      <th>P>|t|</th> <th>[95.0% Conf. Int.]</th> \n",
       "</tr>\n",
       "<tr>\n",
       "  <th>Intercept</th>             <td>   -0.0035</td> <td>    0.019</td> <td>   -0.186</td> <td> 0.853</td> <td>   -0.042     0.035</td>\n",
       "</tr>\n",
       "<tr>\n",
       "  <th>exc_ret_cc_market</th>     <td>    0.8239</td> <td>    0.429</td> <td>    1.920</td> <td> 0.060</td> <td>   -0.036     1.683</td>\n",
       "</tr>\n",
       "<tr>\n",
       "  <th>lag_exc_ret_cc_market</th> <td>    0.1392</td> <td>    0.425</td> <td>    0.327</td> <td> 0.745</td> <td>   -0.713     0.991</td>\n",
       "</tr>\n",
       "</table>\n",
       "<table class=\"simpletable\">\n",
       "<tr>\n",
       "  <th>Omnibus:</th>       <td> 0.094</td> <th>  Durbin-Watson:     </th> <td>   1.803</td>\n",
       "</tr>\n",
       "<tr>\n",
       "  <th>Prob(Omnibus):</th> <td> 0.954</td> <th>  Jarque-Bera (JB):  </th> <td>   0.252</td>\n",
       "</tr>\n",
       "<tr>\n",
       "  <th>Skew:</th>          <td> 0.074</td> <th>  Prob(JB):          </th> <td>   0.881</td>\n",
       "</tr>\n",
       "<tr>\n",
       "  <th>Kurtosis:</th>      <td> 2.719</td> <th>  Cond. No.          </th> <td>    31.3</td>\n",
       "</tr>\n",
       "</table>"
      ],
      "text/plain": [
       "<class 'statsmodels.iolib.summary.Summary'>\n",
       "\"\"\"\n",
       "                            OLS Regression Results                            \n",
       "==============================================================================\n",
       "Dep. Variable:             exc_ret_cc   R-squared:                       0.061\n",
       "Model:                            OLS   Adj. R-squared:                  0.028\n",
       "Method:                 Least Squares   F-statistic:                     1.850\n",
       "Date:                Mon, 25 Jul 2016   Prob (F-statistic):              0.167\n",
       "Time:                        15:54:26   Log-Likelihood:                 48.054\n",
       "No. Observations:                  60   AIC:                            -90.11\n",
       "Df Residuals:                      57   BIC:                            -83.83\n",
       "Df Model:                           2                                         \n",
       "Covariance Type:            nonrobust                                         \n",
       "=========================================================================================\n",
       "                            coef    std err          t      P>|t|      [95.0% Conf. Int.]\n",
       "-----------------------------------------------------------------------------------------\n",
       "Intercept                -0.0035      0.019     -0.186      0.853        -0.042     0.035\n",
       "exc_ret_cc_market         0.8239      0.429      1.920      0.060        -0.036     1.683\n",
       "lag_exc_ret_cc_market     0.1392      0.425      0.327      0.745        -0.713     0.991\n",
       "==============================================================================\n",
       "Omnibus:                        0.094   Durbin-Watson:                   1.803\n",
       "Prob(Omnibus):                  0.954   Jarque-Bera (JB):                0.252\n",
       "Skew:                           0.074   Prob(JB):                        0.881\n",
       "Kurtosis:                       2.719   Cond. No.                         31.3\n",
       "==============================================================================\n",
       "\n",
       "Warnings:\n",
       "[1] Standard Errors assume that the covariance matrix of the errors is correctly specified.\n",
       "\"\"\""
      ]
     },
     "execution_count": 6,
     "metadata": {},
     "output_type": "execute_result"
    }
   ],
   "source": [
    "sstock['LULU'].model_exc_mr.summary()"
   ]
  },
  {
   "cell_type": "code",
   "execution_count": 7,
   "metadata": {
    "collapsed": false
   },
   "outputs": [
    {
     "data": {
      "text/html": [
       "<div>\n",
       "<table border=\"1\" class=\"dataframe\">\n",
       "  <thead>\n",
       "    <tr style=\"text-align: right;\">\n",
       "      <th></th>\n",
       "      <th>open</th>\n",
       "      <th>high</th>\n",
       "      <th>low</th>\n",
       "      <th>close</th>\n",
       "      <th>volume</th>\n",
       "      <th>ret_cc</th>\n",
       "      <th>ret_oc</th>\n",
       "      <th>ret_co</th>\n",
       "      <th>start_date</th>\n",
       "      <th>end_date</th>\n",
       "      <th>...</th>\n",
       "      <th>low_market</th>\n",
       "      <th>close_market</th>\n",
       "      <th>volume_market</th>\n",
       "      <th>ret_cc_market</th>\n",
       "      <th>ret_oc_market</th>\n",
       "      <th>ret_co_market</th>\n",
       "      <th>exc_ret_cc_market</th>\n",
       "      <th>exc_ret_cc</th>\n",
       "      <th>lag_ret_cc_market</th>\n",
       "      <th>lag_exc_ret_cc_market</th>\n",
       "    </tr>\n",
       "    <tr>\n",
       "      <th>Date</th>\n",
       "      <th></th>\n",
       "      <th></th>\n",
       "      <th></th>\n",
       "      <th></th>\n",
       "      <th></th>\n",
       "      <th></th>\n",
       "      <th></th>\n",
       "      <th></th>\n",
       "      <th></th>\n",
       "      <th></th>\n",
       "      <th></th>\n",
       "      <th></th>\n",
       "      <th></th>\n",
       "      <th></th>\n",
       "      <th></th>\n",
       "      <th></th>\n",
       "      <th></th>\n",
       "      <th></th>\n",
       "      <th></th>\n",
       "      <th></th>\n",
       "      <th></th>\n",
       "    </tr>\n",
       "  </thead>\n",
       "  <tbody>\n",
       "    <tr>\n",
       "      <th>2011-01-03</th>\n",
       "      <td>34.695000</td>\n",
       "      <td>36.865001</td>\n",
       "      <td>32.650002</td>\n",
       "      <td>34.340000</td>\n",
       "      <td>3985000</td>\n",
       "      <td>0.003793</td>\n",
       "      <td>-0.010285</td>\n",
       "      <td>0.014078</td>\n",
       "      <td>2011-01-03</td>\n",
       "      <td>2011-01-31</td>\n",
       "      <td>...</td>\n",
       "      <td>112.292010</td>\n",
       "      <td>114.954140</td>\n",
       "      <td>150478100</td>\n",
       "      <td>0.023033</td>\n",
       "      <td>0.015428</td>\n",
       "      <td>0.007605</td>\n",
       "      <td>-0.019767</td>\n",
       "      <td>-0.039007</td>\n",
       "      <td>0.064712</td>\n",
       "      <td>0.023012</td>\n",
       "    </tr>\n",
       "    <tr>\n",
       "      <th>2011-02-01</th>\n",
       "      <td>34.790001</td>\n",
       "      <td>42.640000</td>\n",
       "      <td>34.630001</td>\n",
       "      <td>38.794998</td>\n",
       "      <td>4721700</td>\n",
       "      <td>0.121980</td>\n",
       "      <td>0.108961</td>\n",
       "      <td>0.013019</td>\n",
       "      <td>2011-02-01</td>\n",
       "      <td>2011-02-28</td>\n",
       "      <td>...</td>\n",
       "      <td>115.579485</td>\n",
       "      <td>118.947342</td>\n",
       "      <td>155876700</td>\n",
       "      <td>0.034148</td>\n",
       "      <td>0.028104</td>\n",
       "      <td>0.006043</td>\n",
       "      <td>-0.010052</td>\n",
       "      <td>0.077780</td>\n",
       "      <td>0.023033</td>\n",
       "      <td>-0.019767</td>\n",
       "    </tr>\n",
       "    <tr>\n",
       "      <th>2011-03-01</th>\n",
       "      <td>38.775002</td>\n",
       "      <td>45.485001</td>\n",
       "      <td>36.345001</td>\n",
       "      <td>44.525002</td>\n",
       "      <td>5304000</td>\n",
       "      <td>0.137760</td>\n",
       "      <td>0.138275</td>\n",
       "      <td>-0.000516</td>\n",
       "      <td>2011-03-01</td>\n",
       "      <td>2011-03-31</td>\n",
       "      <td>...</td>\n",
       "      <td>112.402999</td>\n",
       "      <td>118.961632</td>\n",
       "      <td>213912800</td>\n",
       "      <td>0.000120</td>\n",
       "      <td>-0.007364</td>\n",
       "      <td>0.007484</td>\n",
       "      <td>-0.042580</td>\n",
       "      <td>0.095060</td>\n",
       "      <td>0.034148</td>\n",
       "      <td>-0.010052</td>\n",
       "    </tr>\n",
       "    <tr>\n",
       "      <th>2011-04-01</th>\n",
       "      <td>44.845001</td>\n",
       "      <td>51.415002</td>\n",
       "      <td>43.224999</td>\n",
       "      <td>50.025002</td>\n",
       "      <td>4035900</td>\n",
       "      <td>0.116472</td>\n",
       "      <td>0.109311</td>\n",
       "      <td>0.007161</td>\n",
       "      <td>2011-04-01</td>\n",
       "      <td>2011-05-01</td>\n",
       "      <td>...</td>\n",
       "      <td>116.198208</td>\n",
       "      <td>122.406929</td>\n",
       "      <td>146390600</td>\n",
       "      <td>0.028550</td>\n",
       "      <td>0.022384</td>\n",
       "      <td>0.006165</td>\n",
       "      <td>-0.014250</td>\n",
       "      <td>0.073672</td>\n",
       "      <td>0.000120</td>\n",
       "      <td>-0.042580</td>\n",
       "    </tr>\n",
       "    <tr>\n",
       "      <th>2011-05-02</th>\n",
       "      <td>50.134999</td>\n",
       "      <td>50.570000</td>\n",
       "      <td>44.025002</td>\n",
       "      <td>45.400002</td>\n",
       "      <td>3865200</td>\n",
       "      <td>-0.097011</td>\n",
       "      <td>-0.099207</td>\n",
       "      <td>0.002196</td>\n",
       "      <td>2011-05-02</td>\n",
       "      <td>2011-05-31</td>\n",
       "      <td>...</td>\n",
       "      <td>117.876011</td>\n",
       "      <td>121.034195</td>\n",
       "      <td>166778000</td>\n",
       "      <td>-0.011278</td>\n",
       "      <td>-0.015958</td>\n",
       "      <td>0.004680</td>\n",
       "      <td>-0.051378</td>\n",
       "      <td>-0.137111</td>\n",
       "      <td>0.028550</td>\n",
       "      <td>-0.014250</td>\n",
       "    </tr>\n",
       "  </tbody>\n",
       "</table>\n",
       "<p>5 rows × 22 columns</p>\n",
       "</div>"
      ],
      "text/plain": [
       "                 open       high        low      close   volume    ret_cc  \\\n",
       "Date                                                                        \n",
       "2011-01-03  34.695000  36.865001  32.650002  34.340000  3985000  0.003793   \n",
       "2011-02-01  34.790001  42.640000  34.630001  38.794998  4721700  0.121980   \n",
       "2011-03-01  38.775002  45.485001  36.345001  44.525002  5304000  0.137760   \n",
       "2011-04-01  44.845001  51.415002  43.224999  50.025002  4035900  0.116472   \n",
       "2011-05-02  50.134999  50.570000  44.025002  45.400002  3865200 -0.097011   \n",
       "\n",
       "              ret_oc    ret_co start_date   end_date          ...            \\\n",
       "Date                                                          ...             \n",
       "2011-01-03 -0.010285  0.014078 2011-01-03 2011-01-31          ...             \n",
       "2011-02-01  0.108961  0.013019 2011-02-01 2011-02-28          ...             \n",
       "2011-03-01  0.138275 -0.000516 2011-03-01 2011-03-31          ...             \n",
       "2011-04-01  0.109311  0.007161 2011-04-01 2011-05-01          ...             \n",
       "2011-05-02 -0.099207  0.002196 2011-05-02 2011-05-31          ...             \n",
       "\n",
       "            low_market  close_market  volume_market  ret_cc_market  \\\n",
       "Date                                                                 \n",
       "2011-01-03  112.292010    114.954140      150478100       0.023033   \n",
       "2011-02-01  115.579485    118.947342      155876700       0.034148   \n",
       "2011-03-01  112.402999    118.961632      213912800       0.000120   \n",
       "2011-04-01  116.198208    122.406929      146390600       0.028550   \n",
       "2011-05-02  117.876011    121.034195      166778000      -0.011278   \n",
       "\n",
       "            ret_oc_market  ret_co_market  exc_ret_cc_market  exc_ret_cc  \\\n",
       "Date                                                                      \n",
       "2011-01-03       0.015428       0.007605          -0.019767   -0.039007   \n",
       "2011-02-01       0.028104       0.006043          -0.010052    0.077780   \n",
       "2011-03-01      -0.007364       0.007484          -0.042580    0.095060   \n",
       "2011-04-01       0.022384       0.006165          -0.014250    0.073672   \n",
       "2011-05-02      -0.015958       0.004680          -0.051378   -0.137111   \n",
       "\n",
       "            lag_ret_cc_market  lag_exc_ret_cc_market  \n",
       "Date                                                  \n",
       "2011-01-03           0.064712               0.023012  \n",
       "2011-02-01           0.023033              -0.019767  \n",
       "2011-03-01           0.034148              -0.010052  \n",
       "2011-04-01           0.000120              -0.042580  \n",
       "2011-05-02           0.028550              -0.014250  \n",
       "\n",
       "[5 rows x 22 columns]"
      ]
     },
     "execution_count": 7,
     "metadata": {},
     "output_type": "execute_result"
    }
   ],
   "source": [
    "sstock['LULU'].analysis_df.head()"
   ]
  },
  {
   "cell_type": "markdown",
   "metadata": {},
   "source": [
    "### Backtesting\n",
    "\n",
    "Although including the lag term benefits the fit within the sample, this model will produce worse results out of sample.\n",
    "\n",
    "To demonstrate this, I started at the halfway point and, for each data point, trained both models on all subsequent data points and made a one-step-ahead forecast. I then squared the forecast error (to make the \"loss function\" symmetric) and averaged the resulting figure.\n",
    "\n",
    "For LULU, the multiple regression model (which includes the lag coefficient) develops worse forecasts across the backtest period."
   ]
  },
  {
   "cell_type": "code",
   "execution_count": 8,
   "metadata": {
    "collapsed": false
   },
   "outputs": [],
   "source": [
    "def add_moving_forecasts(df):\n",
    "    \n",
    "    df = df[2:].copy()\n",
    "    \n",
    "    df['sample'] = 'test'\n",
    "    df['sr_out_of_sample'] = np.nan\n",
    "    df['mr_out_of_sample'] = np.nan\n",
    "    \n",
    "    for date in df.index:\n",
    "        \n",
    "        df.loc[:date, 'sample'] = 'train'\n",
    "        df.loc[date, 'sample'] = 'test'\n",
    "        \n",
    "        try:\n",
    "            sample_size = df['sample'].value_counts()['train']\n",
    "        except:\n",
    "            sample_size = 0\n",
    "\n",
    "        if sample_size <= 30:\n",
    "            continue\n",
    "        else:\n",
    "            moving_model_sr = sm.ols('ret_cc ~ ret_cc_market', data=df.loc[df['sample']=='train']).fit()\n",
    "            df.ix[df['sample']=='test', 'sr_out_of_sample'] = moving_model_sr.predict(df.loc[df['sample']=='test'])\n",
    "            moving_model_mr = sm.ols('ret_cc ~ ret_cc_market + lag_ret_cc_market', data=df.loc[df['sample']=='train']).fit()\n",
    "            df.ix[df['sample']=='test', 'mr_out_of_sample'] = moving_model_mr.predict(df.loc[df['sample']=='test'])\n",
    "    \n",
    "    return df[['ret_cc', 'sr_out_of_sample', 'mr_out_of_sample']]"
   ]
  },
  {
   "cell_type": "code",
   "execution_count": 9,
   "metadata": {
    "collapsed": true
   },
   "outputs": [],
   "source": [
    "def score_moving_forecasts(df):\n",
    "    \n",
    "    df['sr_error'] = df['ret_cc'] - df['sr_out_of_sample']\n",
    "    df['mr_error'] = df['ret_cc'] - df['mr_out_of_sample']\n",
    "    \n",
    "    df['sr_error_sq'] = np.square(df['sr_error'])\n",
    "    df['mr_error_sq'] = np.square(df['mr_error'])\n",
    "    \n",
    "    df['sr_error_abs'] = np.absolute(df['sr_error'])\n",
    "    df['mr_error_abs'] = np.absolute(df['mr_error'])\n",
    "    \n",
    "    return df"
   ]
  },
  {
   "cell_type": "code",
   "execution_count": 10,
   "metadata": {
    "collapsed": true
   },
   "outputs": [],
   "source": [
    "def backtest_stock(uni, tic, full_results=True, verbose=True):\n",
    "    \n",
    "    backtest_results = score_moving_forecasts(add_moving_forecasts(uni[tic].analysis_df))\n",
    "    \n",
    "    if verbose:\n",
    "        print('Mean Forecast Error Squared w/o Lag Term: ' + str(backtest_results['sr_error_sq'].mean()))\n",
    "        print('Mean Forecast Error Squared w/ Lag Term: ' + str(backtest_results['mr_error_sq'].mean()))\n",
    "        print('Mean Absolute Forecast Error w/o Lag Term: ' + str(backtest_results['sr_error_abs'].mean()))\n",
    "        print('Mean Absolute Forecast Error w/ Lag Term: ' + str(backtest_results['mr_error_abs'].mean()))\n",
    "    \n",
    "    if full_results:\n",
    "        return backtest_results"
   ]
  },
  {
   "cell_type": "code",
   "execution_count": 11,
   "metadata": {
    "collapsed": false
   },
   "outputs": [
    {
     "name": "stdout",
     "output_type": "stream",
     "text": [
      "Mean Forecast Error Squared w/o Lag Term: 0.012496621284993474\n",
      "Mean Forecast Error Squared w/ Lag Term: 0.01269152943716579\n",
      "Mean Absolute Forecast Error w/o Lag Term: 0.09105448611134338\n",
      "Mean Absolute Forecast Error w/ Lag Term: 0.0923747718322469\n"
     ]
    }
   ],
   "source": [
    "backtest_stock(sstock, 'LULU', False)"
   ]
  },
  {
   "cell_type": "markdown",
   "metadata": {},
   "source": [
    "### Implication\n",
    "\n",
    "If a valuator relied on LULU as his only comparable, he would apply a traditional beta of 0.8342 or a sum beta of 1.0398. With a risk free rate of 2.00% and an equity risk premium of 7.00%, this results in discount rates of 7.84% or 9.28%, respectively. If a comparable, going-concern company earns 1MM in cash flow per year, the first methodology will value the business at 12.76MM while the second will value the business at 10.78MM.\n",
    "\n",
    "In real terms, a valuator who applies the sum beta model is applying a higher discount rate and arriving at a lower valuation because he uses a model which predicts a higher correlation between the subject company and the market. However, as this result shows, models which include the beta-lag term produce objectively worse predictions."
   ]
  },
  {
   "cell_type": "markdown",
   "metadata": {},
   "source": [
    "## Expanded Universe\n",
    "Remember, Lululemon isn't a single stock I cherry picked to prove my point. This is a stock Duff & Phelps cherry picked to prove their point! But, to be sure, let's run the same analysis on all stocks in the NYSE or the NASDAQ.\n",
    "\n",
    "### Collecting Data\n",
    "\n",
    "Tickers associated with the NYSE or NASDAQ are pulled using the finsymbols package. These are combined into a single list."
   ]
  },
  {
   "cell_type": "code",
   "execution_count": 12,
   "metadata": {
    "collapsed": false
   },
   "outputs": [
    {
     "data": {
      "text/html": [
       "<div>\n",
       "<table border=\"1\" class=\"dataframe\">\n",
       "  <thead>\n",
       "    <tr style=\"text-align: right;\">\n",
       "      <th></th>\n",
       "      <th>company</th>\n",
       "      <th>industry</th>\n",
       "      <th>sector</th>\n",
       "      <th>symbol</th>\n",
       "      <th>exchange</th>\n",
       "    </tr>\n",
       "  </thead>\n",
       "  <tbody>\n",
       "    <tr>\n",
       "      <th>0</th>\n",
       "      <td>3D Systems Corporation</td>\n",
       "      <td>Computer Software: Prepackaged Software</td>\n",
       "      <td>Technology</td>\n",
       "      <td>DDD</td>\n",
       "      <td>nyse</td>\n",
       "    </tr>\n",
       "    <tr>\n",
       "      <th>1</th>\n",
       "      <td>3M Company</td>\n",
       "      <td>Medical/Dental Instruments</td>\n",
       "      <td>Health Care</td>\n",
       "      <td>MMM</td>\n",
       "      <td>nyse</td>\n",
       "    </tr>\n",
       "    <tr>\n",
       "      <th>2</th>\n",
       "      <td>500.com Limited</td>\n",
       "      <td>Services-Misc. Amusement &amp; Recreation</td>\n",
       "      <td>Consumer Services</td>\n",
       "      <td>WBAI</td>\n",
       "      <td>nyse</td>\n",
       "    </tr>\n",
       "    <tr>\n",
       "      <th>3</th>\n",
       "      <td>58.com Inc.</td>\n",
       "      <td>Computer Software: Programming</td>\n",
       "      <td>Technology</td>\n",
       "      <td>WUBA</td>\n",
       "      <td>nyse</td>\n",
       "    </tr>\n",
       "    <tr>\n",
       "      <th>4</th>\n",
       "      <td>A.H. Belo Corporation</td>\n",
       "      <td>Newspapers/Magazines</td>\n",
       "      <td>Consumer Services</td>\n",
       "      <td>AHC</td>\n",
       "      <td>nyse</td>\n",
       "    </tr>\n",
       "  </tbody>\n",
       "</table>\n",
       "</div>"
      ],
      "text/plain": [
       "                  company                                 industry  \\\n",
       "0  3D Systems Corporation  Computer Software: Prepackaged Software   \n",
       "1              3M Company               Medical/Dental Instruments   \n",
       "2         500.com Limited    Services-Misc. Amusement & Recreation   \n",
       "3             58.com Inc.           Computer Software: Programming   \n",
       "4   A.H. Belo Corporation                     Newspapers/Magazines   \n",
       "\n",
       "              sector symbol exchange  \n",
       "0         Technology    DDD     nyse  \n",
       "1        Health Care    MMM     nyse  \n",
       "2  Consumer Services   WBAI     nyse  \n",
       "3         Technology   WUBA     nyse  \n",
       "4  Consumer Services    AHC     nyse  "
      ]
     },
     "execution_count": 12,
     "metadata": {},
     "output_type": "execute_result"
    }
   ],
   "source": [
    "nyse = pd.DataFrame(finsymbols.get_nyse_symbols())\n",
    "nyse['exchange'] = 'nyse'\n",
    "nasdaq = pd.DataFrame(finsymbols.get_nasdaq_symbols())\n",
    "nasdaq['exchange'] = 'nasdaq'\n",
    "universe = pd.concat([nyse, nasdaq])\n",
    "universe['symbol'] = universe['symbol'].replace('.', '-')\n",
    "universe.head()"
   ]
  },
  {
   "cell_type": "markdown",
   "metadata": {},
   "source": [
    "Data is stored into a pickle file so it can be opened later without downloading the entire dataset. If running thise notebook for the first time, please ensure the right code block is uncommented."
   ]
  },
  {
   "cell_type": "markdown",
   "metadata": {},
   "source": [
    "### Running Model\n",
    "Code is run on all stocks in universe below. If any data is missing during the period, the security is excluded. Current market cap as of today is pulled from Yahoo during initialization using the yahoo-finance library."
   ]
  },
  {
   "cell_type": "code",
   "execution_count": 13,
   "metadata": {
    "collapsed": false
   },
   "outputs": [],
   "source": [
    "# Uncomment these lines the first time notebook run on computer. Full price data isn't uploaded to github.\n",
    "# stocks = wmcm.Universe(universe['symbol'], 'SPY', start='2010-11-01', end='2015-12-31', earn=False)\n",
    "# output = open('pickle/full_history_monthly.p', 'wb')\n",
    "# pickle.dump(stocks, output)\n",
    "# output.close()\n",
    "\n",
    "pkl_file = open('pickle/full_history_monthly.p', 'rb')\n",
    "stocks = pickle.load(pkl_file)\n",
    "pkl_file.close()"
   ]
  },
  {
   "cell_type": "code",
   "execution_count": 14,
   "metadata": {
    "collapsed": false
   },
   "outputs": [],
   "source": [
    "stocks = run_analysis(stocks, excess=True)"
   ]
  },
  {
   "cell_type": "code",
   "execution_count": 15,
   "metadata": {
    "collapsed": true
   },
   "outputs": [],
   "source": [
    "plot_data = pd.DataFrame(index=stocks.keys())"
   ]
  },
  {
   "cell_type": "code",
   "execution_count": 16,
   "metadata": {
    "collapsed": true
   },
   "outputs": [],
   "source": [
    "def get_plot_data(df, uni):\n",
    "    \n",
    "    df['t_val'] = df.index.map(lambda x : uni[x].model_mr.tvalues[2])\n",
    "    df['market_cap'] = df.index.map(lambda x : uni[x].market_cap)\n",
    "    df['units'] = df['market_cap'].astype('str').str[-1:]\n",
    "    df['market_cap'] = df['market_cap'].astype('str').str[:-1]\n",
    "    \n",
    "    df['new_units'] = np.nan\n",
    "    df.loc[df['units'] == 'B', 'new_units'] = 1000000000\n",
    "    df.loc[df['units'] == 'M', 'new_units'] = 1000000\n",
    "    \n",
    "    df['new_market_cap'] = pd.to_numeric(df['market_cap'], errors = 'coerce')\n",
    "    \n",
    "    df['new_market_cap'] = df['new_market_cap'] * df['new_units']\n",
    "    \n",
    "    df['market_cap'] = df['new_market_cap']\n",
    "    df.drop(['units', 'new_units', 'new_market_cap'], axis = 1, inplace = True)\n",
    "    df.columns = ['t_val', 'market_cap']\n",
    "    \n",
    "    # Additionally, let's add p values and AIC for both models.\n",
    "    \n",
    "    df['sr_bic'] = df.index.map(lambda x : uni[x].model_sr.bic)\n",
    "    df['mr_bic'] = df.index.map(lambda x : uni[x].model_mr.bic)\n",
    "    \n",
    "    df['mr_p_values'] = df.index.map(lambda x : uni[x].model_mr.pvalues[2])\n",
    "    df['mr_p_values_exc'] = df.index.map(lambda x : uni[x].model_exc_mr.pvalues[2])\n",
    "    \n",
    "    return df"
   ]
  },
  {
   "cell_type": "code",
   "execution_count": 18,
   "metadata": {
    "collapsed": false
   },
   "outputs": [],
   "source": [
    "plot_data.drop('market', inplace=True)\n",
    "plot_data = get_plot_data(plot_data, stocks)"
   ]
  },
  {
   "cell_type": "markdown",
   "metadata": {},
   "source": [
    "### Analysis of Results\n",
    "\n",
    "The histogram is t-values resembles the curve we'd expect to see if the null hypothesis were true."
   ]
  },
  {
   "cell_type": "code",
   "execution_count": 19,
   "metadata": {
    "collapsed": false
   },
   "outputs": [
    {
     "name": "stdout",
     "output_type": "stream",
     "text": [
      "using a non-integer number instead of an integer will result in an error in the future\n"
     ]
    },
    {
     "data": {
      "text/plain": [
       "<matplotlib.axes._subplots.AxesSubplot at 0x7f3e0e1c4be0>"
      ]
     },
     "execution_count": 19,
     "metadata": {},
     "output_type": "execute_result"
    },
    {
     "data": {
      "image/png": "[encoded data removed]",
      "text/plain": [
       "<matplotlib.figure.Figure at 0x7f3e0e1c1ef0>"
      ]
     },
     "metadata": {},
     "output_type": "display_data"
    }
   ],
   "source": [
    "plot_data = plot_data.loc[plot_data['market_cap'].notnull()]\n",
    "sns.distplot(plot_data['t_val'])"
   ]
  },
  {
   "cell_type": "markdown",
   "metadata": {},
   "source": [
    "There doesn't appear to be a large difference as market cap changes. Results look slightly more negative overall with larger companies, but the coefficient is almost always insignificant."
   ]
  },
  {
   "cell_type": "code",
   "execution_count": 20,
   "metadata": {
    "collapsed": false,
    "scrolled": true
   },
   "outputs": [
    {
     "data": {
      "text/plain": [
       "<matplotlib.axes._subplots.AxesSubplot at 0x7f3e0df39630>"
      ]
     },
     "execution_count": 20,
     "metadata": {},
     "output_type": "execute_result"
    },
    {
     "data": {
      "image/png": "[encoded data removed]",
      "text/plain": [
       "<matplotlib.figure.Figure at 0x7f3e0df81c88>"
      ]
     },
     "metadata": {},
     "output_type": "display_data"
    }
   ],
   "source": [
    "sns.regplot(x='market_cap', y='t_val', data=plot_data.loc[(plot_data['market_cap']<1e11) & (plot_data['market_cap']>1e10)], lowess=True)"
   ]
  },
  {
   "cell_type": "markdown",
   "metadata": {},
   "source": [
    "The Bayesian information criterion (\"BIC\") recommends using the single regression X% of the time. In my opinion, the remaining X% is due to chance."
   ]
  },
  {
   "cell_type": "code",
   "execution_count": 21,
   "metadata": {
    "collapsed": false
   },
   "outputs": [
    {
     "data": {
      "text/plain": [
       "0.061284619917501476"
      ]
     },
     "execution_count": 21,
     "metadata": {},
     "output_type": "execute_result"
    }
   ],
   "source": [
    "plot_data['bic_likes_mr'] = (plot_data['mr_bic'] < plot_data['sr_bic'])\n",
    "plot_data['bic_likes_mr'].mean()"
   ]
  },
  {
   "cell_type": "code",
   "execution_count": 22,
   "metadata": {
    "collapsed": false
   },
   "outputs": [
    {
     "data": {
      "text/plain": [
       "0.061579257513258691"
      ]
     },
     "execution_count": 22,
     "metadata": {},
     "output_type": "execute_result"
    }
   ],
   "source": [
    "plot_data['95_signif'] = (plot_data['mr_p_values'] < 0.05)\n",
    "plot_data['95_signif'].mean()"
   ]
  },
  {
   "cell_type": "code",
   "execution_count": 23,
   "metadata": {
    "collapsed": false
   },
   "outputs": [
    {
     "data": {
      "text/plain": [
       "0.067177371832645841"
      ]
     },
     "execution_count": 23,
     "metadata": {},
     "output_type": "execute_result"
    }
   ],
   "source": [
    "plot_data['95_signif_exc'] = (plot_data['mr_p_values_exc'] < 0.05)\n",
    "plot_data['95_signif_exc'].mean()"
   ]
  },
  {
   "cell_type": "markdown",
   "metadata": {},
   "source": [
    "### Deep dive look at cases where significant"
   ]
  },
  {
   "cell_type": "code",
   "execution_count": 24,
   "metadata": {
    "collapsed": false
   },
   "outputs": [
    {
     "data": {
      "text/html": [
       "<div>\n",
       "<table border=\"1\" class=\"dataframe\">\n",
       "  <thead>\n",
       "    <tr style=\"text-align: right;\">\n",
       "      <th></th>\n",
       "      <th>t_val</th>\n",
       "      <th>market_cap</th>\n",
       "      <th>sr_bic</th>\n",
       "      <th>mr_bic</th>\n",
       "      <th>mr_p_values</th>\n",
       "      <th>mr_p_values_exc</th>\n",
       "      <th>bic_likes_mr</th>\n",
       "      <th>95_signif</th>\n",
       "      <th>95_signif_exc</th>\n",
       "    </tr>\n",
       "  </thead>\n",
       "  <tbody>\n",
       "    <tr>\n",
       "      <th>MAGS</th>\n",
       "      <td>3.996674</td>\n",
       "      <td>8.117000e+07</td>\n",
       "      <td>-85.489113</td>\n",
       "      <td>-96.217397</td>\n",
       "      <td>0.000187</td>\n",
       "      <td>0.000225</td>\n",
       "      <td>True</td>\n",
       "      <td>True</td>\n",
       "      <td>True</td>\n",
       "    </tr>\n",
       "    <tr>\n",
       "      <th>PFBI</th>\n",
       "      <td>3.868040</td>\n",
       "      <td>1.663700e+08</td>\n",
       "      <td>-147.991040</td>\n",
       "      <td>-157.881687</td>\n",
       "      <td>0.000284</td>\n",
       "      <td>0.000134</td>\n",
       "      <td>True</td>\n",
       "      <td>True</td>\n",
       "      <td>True</td>\n",
       "    </tr>\n",
       "    <tr>\n",
       "      <th>LNC</th>\n",
       "      <td>3.856133</td>\n",
       "      <td>1.027000e+10</td>\n",
       "      <td>-184.586607</td>\n",
       "      <td>-194.400526</td>\n",
       "      <td>0.000295</td>\n",
       "      <td>0.000123</td>\n",
       "      <td>True</td>\n",
       "      <td>True</td>\n",
       "      <td>True</td>\n",
       "    </tr>\n",
       "    <tr>\n",
       "      <th>BCBP</th>\n",
       "      <td>3.839637</td>\n",
       "      <td>1.190200e+08</td>\n",
       "      <td>-190.968902</td>\n",
       "      <td>-200.676739</td>\n",
       "      <td>0.000312</td>\n",
       "      <td>0.000676</td>\n",
       "      <td>True</td>\n",
       "      <td>True</td>\n",
       "      <td>True</td>\n",
       "    </tr>\n",
       "    <tr>\n",
       "      <th>RF</th>\n",
       "      <td>3.371222</td>\n",
       "      <td>1.131000e+10</td>\n",
       "      <td>-160.630238</td>\n",
       "      <td>-167.444598</td>\n",
       "      <td>0.001349</td>\n",
       "      <td>0.000267</td>\n",
       "      <td>True</td>\n",
       "      <td>True</td>\n",
       "      <td>True</td>\n",
       "    </tr>\n",
       "  </tbody>\n",
       "</table>\n",
       "</div>"
      ],
      "text/plain": [
       "         t_val    market_cap      sr_bic      mr_bic  mr_p_values  \\\n",
       "MAGS  3.996674  8.117000e+07  -85.489113  -96.217397     0.000187   \n",
       "PFBI  3.868040  1.663700e+08 -147.991040 -157.881687     0.000284   \n",
       "LNC   3.856133  1.027000e+10 -184.586607 -194.400526     0.000295   \n",
       "BCBP  3.839637  1.190200e+08 -190.968902 -200.676739     0.000312   \n",
       "RF    3.371222  1.131000e+10 -160.630238 -167.444598     0.001349   \n",
       "\n",
       "      mr_p_values_exc bic_likes_mr 95_signif 95_signif_exc  \n",
       "MAGS         0.000225         True      True          True  \n",
       "PFBI         0.000134         True      True          True  \n",
       "LNC          0.000123         True      True          True  \n",
       "BCBP         0.000676         True      True          True  \n",
       "RF           0.000267         True      True          True  "
      ]
     },
     "execution_count": 24,
     "metadata": {},
     "output_type": "execute_result"
    }
   ],
   "source": [
    "plot_data.sort_values('mr_p_values',inplace=False,ascending=True).head()"
   ]
  },
  {
   "cell_type": "code",
   "execution_count": 25,
   "metadata": {
    "collapsed": false
   },
   "outputs": [
    {
     "data": {
      "text/plain": [
       "<matplotlib.axes._subplots.AxesSubplot at 0x7f3e1d08d198>"
      ]
     },
     "execution_count": 25,
     "metadata": {},
     "output_type": "execute_result"
    },
    {
     "data": {
      "image/png": "[encoded data removed]",
      "text/plain": [
       "<matplotlib.figure.Figure at 0x7f3e1ca6a8d0>"
      ]
     },
     "metadata": {},
     "output_type": "display_data"
    }
   ],
   "source": [
    "sns.regplot(x='lag_ret_cc_market', y='ret_cc', data=stocks['MAGS'].analysis_df)"
   ]
  },
  {
   "cell_type": "code",
   "execution_count": 32,
   "metadata": {
    "collapsed": false
   },
   "outputs": [
    {
     "name": "stdout",
     "output_type": "stream",
     "text": [
      "Mean Forecast Error Squared w/o Lag Term: 0.007857327856967676\n",
      "Mean Forecast Error Squared w/ Lag Term: 0.007821125166655259\n",
      "Mean Absolute Forecast Error w/o Lag Term: 0.07450071104123487\n",
      "Mean Absolute Forecast Error w/ Lag Term: 0.06971455764774158\n"
     ]
    }
   ],
   "source": [
    "backtest_results = backtest_stock(stocks, 'MAGS')"
   ]
  },
  {
   "cell_type": "code",
   "execution_count": 27,
   "metadata": {
    "collapsed": false
   },
   "outputs": [
    {
     "data": {
      "text/plain": [
       "<matplotlib.axes._subplots.AxesSubplot at 0x7f3e1cba0dd8>"
      ]
     },
     "execution_count": 27,
     "metadata": {},
     "output_type": "execute_result"
    },
    {
     "data": {
      "image/png": "[encoded data removed]",
      "text/plain": [
       "<matplotlib.figure.Figure at 0x7f3e1b1f24a8>"
      ]
     },
     "metadata": {},
     "output_type": "display_data"
    }
   ],
   "source": [
    "sns.regplot(x='lag_ret_cc_market', y='ret_cc', data=stocks['PFBI'].analysis_df)"
   ]
  },
  {
   "cell_type": "code",
   "execution_count": 31,
   "metadata": {
    "collapsed": false
   },
   "outputs": [
    {
     "name": "stdout",
     "output_type": "stream",
     "text": [
      "Mean Forecast Error Squared w/o Lag Term: 0.002959272537996658\n",
      "Mean Forecast Error Squared w/ Lag Term: 0.0022752895434320184\n",
      "Mean Absolute Forecast Error w/o Lag Term: 0.046527364970029045\n",
      "Mean Absolute Forecast Error w/ Lag Term: 0.039057323646004886\n"
     ]
    }
   ],
   "source": [
    "backtest_results = backtest_stock(stocks, 'PFBI')"
   ]
  },
  {
   "cell_type": "markdown",
   "metadata": {},
   "source": [
    "## Conclusion\n",
    "\n",
    "Based on these results, I am not comfortable using the \"sum beta\" methodology to value estimate the riskiness of an individual stock. Any observed difference between the normal beta and the sum beta is likely the result of statistical noise. Unfortunately, this invalidates the conclusions of the Duff & Phelps methodology. Their industry risk estimates are biased in an upward direction.\n",
    "\n",
    "I didn't want this to be the result. I wanted to find an easy way to consistently beat the stock market, but I'm going to have to keep looking."
   ]
  }
 ],
 "metadata": {
  "anaconda-cloud": {},
  "kernelspec": {
   "display_name": "Python [Root]",
   "language": "python",
   "name": "Python [Root]"
  },
  "language_info": {
   "codemirror_mode": {
    "name": "ipython",
    "version": 3
   },
   "file_extension": ".py",
   "mimetype": "text/x-python",
   "name": "python",
   "nbconvert_exporter": "python",
   "pygments_lexer": "ipython3",
   "version": "3.5.2"
  }
 },
 "nbformat": 4,
 "nbformat_minor": 0
}
